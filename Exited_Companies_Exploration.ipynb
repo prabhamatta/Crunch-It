{
 "metadata": {
  "name": "",
  "signature": "sha256:ab31abfde95658cf68036ec27578017c454b38233cd86684afd2c073b333b961"
 },
 "nbformat": 3,
 "nbformat_minor": 0,
 "worksheets": [
  {
   "cells": [
    {
     "cell_type": "heading",
     "level": 1,
     "metadata": {},
     "source": [
      "Analyzing Location for Exited (Acquired/IPO) companies"
     ]
    },
    {
     "cell_type": "code",
     "collapsed": false,
     "input": [
      "# import numpy as np\n",
      "# import scipy as sp\n",
      "\n",
      "from pylab import figure, show\n",
      "\n",
      "from pandas import DataFrame, Series\n",
      "import pandas as pd\n"
     ],
     "language": "python",
     "metadata": {},
     "outputs": []
    },
    {
     "cell_type": "code",
     "collapsed": false,
     "input": [
      "%pylab inline\n",
      "%matplotlib inline\n",
      "import matplotlib.pyplot as plt\n"
     ],
     "language": "python",
     "metadata": {},
     "outputs": []
    },
    {
     "cell_type": "code",
     "collapsed": false,
     "input": [
      "try:\n",
      "    import mpld3\n",
      "    from mpld3 import enable_notebook\n",
      "    from mpld3 import plugins\n",
      "    enable_notebook()\n",
      "except Exception as e:\n",
      "    print \"Attempt to import and enable mpld3 failed\", e\n",
      "mpld3.enable_notebook()"
     ],
     "language": "python",
     "metadata": {},
     "outputs": []
    },
    {
     "cell_type": "code",
     "collapsed": false,
     "input": [
      "try:\n",
      "    import seaborn as sns\n",
      "except Exception as e:\n",
      "    print \"Attempt to import and enable seaborn failed\", e"
     ],
     "language": "python",
     "metadata": {},
     "outputs": []
    },
    {
     "cell_type": "heading",
     "level": 1,
     "metadata": {},
     "source": [
      "Loading and Cleaning Data"
     ]
    },
    {
     "cell_type": "code",
     "collapsed": false,
     "input": [
      "\n",
      "# Loading All companies dataset\n",
      "all_companies = pd.read_csv('crunchbase_monthly_export_companies.csv')\n",
      "all_companies = all_companies.fillna(0)\n",
      "all_companies['funding_total_usd'] = all_companies[' funding_total_usd '].apply(lambda x: int(str(x).strip().replace(',', '')))\n",
      "all_companies['funding_rounds'] = all_companies['funding_rounds'].apply(lambda x: int(x))\n",
      "all_companies['founded_year'] = all_companies['founded_year'].apply(lambda x: int(x))\n",
      "all_companies = all_companies[all_companies.founded_year > 2000]\n",
      "\n",
      "all_companies.to_csv(\"companies.csv\")\n",
      "\n",
      "# Loading Acquired companies dataset\n",
      "acquired_companies = pd.read_csv('crunchbase_monthly_export_acquisitions.csv')\n",
      "acquired_companies = acquired_companies.fillna(0)\n",
      "\n",
      "# #Exploring companies which are aquired/ipo (successful extit)\n",
      "exited_companies = all_companies[all_companies['status'].isin(['acquired','ipo'])].dropna()\n",
      "\n",
      "#len(all_companies) #24600 \n",
      "# len(acquired_companies) # 10114  \n",
      "# len(exited_companies) #1962 successfully exited companies ---> DATA INCONSISTENCY? exited = acquired+ipo"
     ],
     "language": "python",
     "metadata": {},
     "outputs": []
    },
    {
     "cell_type": "code",
     "collapsed": false,
     "input": [
      "#Top 10 states for doing startups\n",
      "\n",
      "grpby_state = exited_companies.groupby('state_code').count()\n",
      "\n",
      "grpby_state.sort('state_code',ascending=False).head(10).plot(legend=False,title=\"Top 10 states for doing startups\")\n"
     ],
     "language": "python",
     "metadata": {},
     "outputs": []
    },
    {
     "cell_type": "code",
     "collapsed": false,
     "input": [
      "#Top 10 cities for doing startups\n",
      "\n",
      "grpby_city = exited_companies.groupby('city').count()\n",
      "\n",
      "grpby_city.sort('city',ascending=False).head(10).plot(legend=False,title=\"Top 10 cities for doing startups\")\n",
      "plt.xticks(rotation=45)\n"
     ],
     "language": "python",
     "metadata": {},
     "outputs": []
    },
    {
     "cell_type": "heading",
     "level": 1,
     "metadata": {},
     "source": [
      "Analyzing Funding for Exited (Acquired/IPO) companies"
     ]
    },
    {
     "cell_type": "code",
     "collapsed": false,
     "input": [
      "#Analyzing number of funding rounds companies had before exiting\n",
      "grpby_funding_rounds = exited_companies.groupby('funding_rounds').count()\n",
      "grpby_funding_rounds.sort('funding_rounds',ascending=False).head(10).plot(legend=False,title=\"number of funding rounds companies had before exiting\")\n"
     ],
     "language": "python",
     "metadata": {},
     "outputs": []
    },
    {
     "cell_type": "heading",
     "level": 1,
     "metadata": {},
     "source": [
      "Analyzing Funding for Software companies"
     ]
    },
    {
     "cell_type": "code",
     "collapsed": false,
     "input": [
      "software_companies = exited_companies[exited_companies['category_code'].isin(['analytics','ecommerce','games_video',\n",
      "                                                                              'hardware','messaging','mobile','music','network_hosting',\n",
      "                                                                              'photo_video','search','security','software','web'])]\n",
      "software_companies.head(10)"
     ],
     "language": "python",
     "metadata": {},
     "outputs": []
    },
    {
     "cell_type": "code",
     "collapsed": false,
     "input": [
      "#Analyzing number of funding rounds companies had before exiting\n",
      "grpby_funding_rounds = software_companies.groupby('funding_rounds').count()\n",
      "grpby_funding_rounds.sort('funding_rounds',ascending=False).head(10).plot(legend=False,title=\"number of funding rounds companies had before exiting\")\n"
     ],
     "language": "python",
     "metadata": {},
     "outputs": []
    },
    {
     "cell_type": "code",
     "collapsed": false,
     "input": [
      "#MEAN Funding per category in each year\n",
      "\n",
      "# use pivot_table to collect records by founded_year (rows) and category_code (columns)\n",
      "total_funding = software_companies.pivot_table('funding_total_usd', cols='founded_year', rows='category_code', aggfunc=mean)\n",
      "total_funding.fillna(0)"
     ],
     "language": "python",
     "metadata": {},
     "outputs": []
    },
    {
     "cell_type": "heading",
     "level": 1,
     "metadata": {},
     "source": [
      "Analyzing Software Categories for Exited (Acquired/IPO) companies"
     ]
    },
    {
     "cell_type": "code",
     "collapsed": false,
     "input": [
      "#Analyzing categories of companies \n",
      "#IF I REMOVE HEAD(10), THE PLOT SHOWS ONLY 7 CATEGORIES INSTEAD OF ALL THE CATEGORIES???\n",
      "software_companies.groupby('category_code')['funding_rounds'].mean().head(10).plot(title=\"Mean Funding rounds in software categories\")\n",
      "plt.xticks(rotation=45)\n"
     ],
     "language": "python",
     "metadata": {},
     "outputs": []
    },
    {
     "cell_type": "code",
     "collapsed": false,
     "input": [
      "#Detailed analysis of number of funding rounds in each category\n",
      "software_categrp_funding = software_companies.groupby('category_code').apply(lambda s: s.groupby('funding_rounds').agg('count'))\n",
      "software_categrp_funding.funding_rounds"
     ],
     "language": "python",
     "metadata": {},
     "outputs": []
    },
    {
     "cell_type": "code",
     "collapsed": false,
     "input": [
      "# total_funding = software_companies.pivot_table('funding_total_usd', cols='funding_rounds', rows='category_code', aggfunc=mean)\n",
      "# total_funding.head()\n",
      "# grpby_categ = software_companies.groupby('category_code').count()\n",
      "# grpby_categ.sort('funding_rounds',ascending=False).head(10)"
     ],
     "language": "python",
     "metadata": {},
     "outputs": []
    },
    {
     "cell_type": "code",
     "collapsed": false,
     "input": [
      "# grpby_categ.sort('funding_total_usd',ascending=False)"
     ],
     "language": "python",
     "metadata": {},
     "outputs": []
    },
    {
     "cell_type": "code",
     "collapsed": false,
     "input": [
      "#Analyzing Mean Funding used in various categories of software companies \n",
      "grpby_categ = software_companies.groupby('category_code').mean()\n",
      "grpby_categ.sort('funding_total_usd',ascending=False).head(10).plot(legend=False, title=\"Mean Funding amount in software categories \")\n",
      "plt.xticks(rotation=45)\n",
      "\n"
     ],
     "language": "python",
     "metadata": {},
     "outputs": []
    },
    {
     "cell_type": "heading",
     "level": 1,
     "metadata": {},
     "source": [
      "Analyzing Category vs Time"
     ]
    },
    {
     "cell_type": "code",
     "collapsed": false,
     "input": [
      "software_categrp_time = software_companies.groupby('category_code').apply(lambda s: s.groupby('founded_year').agg('count'))\n",
      "# TODO : need to work on this plot\n",
      "software_categrp_time['founded_year'].plot(legend=False, title=\"Mean Funding amount in software categories \")\n",
      "plt.xticks(rotation=45)\n"
     ],
     "language": "python",
     "metadata": {},
     "outputs": []
    },
    {
     "cell_type": "heading",
     "level": 1,
     "metadata": {},
     "source": [
      "Linear Regression Analysis"
     ]
    },
    {
     "cell_type": "code",
     "collapsed": false,
     "input": [
      "from sklearn import linear_model\n",
      "import numpy as np\n",
      "\n",
      "\n",
      "software_companies['funding_total_usd'] = software_companies['funding_total_usd'].apply(int)\n",
      "software_companies['funding_rounds'] = software_companies['funding_rounds'].apply(int)\n",
      "X, y = np.array(software_companies['funding_total_usd']), np.array(software_companies['funding_rounds'])\n",
      "X,y\n"
     ],
     "language": "python",
     "metadata": {},
     "outputs": []
    },
    {
     "cell_type": "code",
     "collapsed": false,
     "input": [
      "\n",
      "def scatter_plot( X, y, title, color):\n",
      "    plt.scatter(X, y,  color=color)\n",
      "    plt.title(title, fontsize=16)\n",
      "    plt.ylabel('funding amt')\n",
      "    plt.xlabel(' funding rounds')\n",
      "    plt.show()\n",
      "    \n",
      "scatter_plot( y,X,  'Scatter plot between funding amt ant funding rounds', '#fc4e2a')\n",
      "\n",
      "# Observation: No specific pattern"
     ],
     "language": "python",
     "metadata": {},
     "outputs": []
    },
    {
     "cell_type": "code",
     "collapsed": false,
     "input": [
      "# def build_model(X_train, y_train):\n",
      "#     model = linear_model.LinearRegression()# Create regression object\n",
      "#     print model\n",
      "#     return model.fit(X_train, y_train) # Train the model\n",
      "\n",
      "model = linear_model.LinearRegression()# Create regression object\n",
      "model.fit(X, y)\n"
     ],
     "language": "python",
     "metadata": {},
     "outputs": []
    },
    {
     "cell_type": "code",
     "collapsed": false,
     "input": [
      "def model_plot(model, X, y, title, color):\n",
      "    plt.scatter(X, y,  color=color)\n",
      "\n",
      "    plt.plot(X, model.predict(X), linewidth=3)\n",
      "\n",
      "    plt.title(title, fontsize=16)\n",
      "    plt.xlabel('funding amt')\n",
      "    plt.ylabel(' funding rounds')\n",
      "    plt.xlim(180,280)\n",
      "    plt.ylim(2.4,3.8)\n",
      "    \n",
      "    plt.show()\n",
      "    \n",
      "\n",
      "model_plot(model, X, y, 'Linear Regression between funding amt by funding rounds', '#fc4e2a')\n"
     ],
     "language": "python",
     "metadata": {},
     "outputs": []
    }
   ],
   "metadata": {}
  }
 ]
}