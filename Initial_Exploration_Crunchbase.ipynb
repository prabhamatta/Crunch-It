{
 "metadata": {
  "name": "",
  "signature": "sha256:07610a9c8acfbe28487e2a38842bfed459512c32d5752a9994690f4417c3477e"
 },
 "nbformat": 3,
 "nbformat_minor": 0,
 "worksheets": [
  {
   "cells": [
    {
     "cell_type": "heading",
     "level": 1,
     "metadata": {},
     "source": [
      "Goals"
     ]
    },
    {
     "cell_type": "markdown",
     "metadata": {},
     "source": [
      "The focus of this notebook is initial exploration of the crunch base data set."
     ]
    },
    {
     "cell_type": "code",
     "collapsed": false,
     "input": [
      "%pylab inline"
     ],
     "language": "python",
     "metadata": {},
     "outputs": []
    },
    {
     "cell_type": "code",
     "collapsed": false,
     "input": [
      "import numpy as np\n",
      "import scipy as sp\n",
      "from pylab import figure, show\n",
      "\n",
      "from pandas import DataFrame, Series\n",
      "import pandas as pd"
     ],
     "language": "python",
     "metadata": {},
     "outputs": []
    },
    {
     "cell_type": "code",
     "collapsed": false,
     "input": [
      "#suppress scientific notation"
     ],
     "language": "python",
     "metadata": {},
     "outputs": []
    },
    {
     "cell_type": "code",
     "collapsed": false,
     "input": [],
     "language": "python",
     "metadata": {},
     "outputs": []
    },
    {
     "cell_type": "code",
     "collapsed": false,
     "input": [
      "cdf = pd.read_csv('crunchbase_monthly_export_companies.csv')\n",
      "#inspect companies\n",
      "cdf.head(10)"
     ],
     "language": "python",
     "metadata": {},
     "outputs": []
    },
    {
     "cell_type": "code",
     "collapsed": false,
     "input": [
      "adf = pd.read_csv('crunchbase_monthly_export_acquisitions.csv')\n",
      "adf['price'] = adf[' price_amount ']\n",
      "del adf[' price_amount ']\n",
      "adf.head()"
     ],
     "language": "python",
     "metadata": {},
     "outputs": []
    },
    {
     "cell_type": "code",
     "collapsed": false,
     "input": [
      "cleaned_adf = adf.fillna(0)\n",
      "cleaned_adf['price'] = cleaned_adf.price.apply(lambda x: int(str(x).replace(',', '')))\n",
      "cleaned_adf.head()"
     ],
     "language": "python",
     "metadata": {},
     "outputs": []
    },
    {
     "cell_type": "code",
     "collapsed": false,
     "input": [
      "only_with_price = cleaned_adf[cleaned_adf.price > 0]\n",
      "only_with_price.sort('price',ascending=False,inplace=True)\n",
      "only_with_price['acquired_month'] = only_with_price.acquired_month.apply(lambda x: pd.to_datetime(x))\n",
      "only_with_price['acquired_year'] = only_with_price.acquired_month.apply(lambda x: x.year )\n",
      "only_with_price.head()"
     ],
     "language": "python",
     "metadata": {},
     "outputs": []
    },
    {
     "cell_type": "code",
     "collapsed": false,
     "input": [
      "year_grouped = only_with_price[only_with_price.acquired_year > 1999].groupby('acquired_year',as_index=False)\n",
      "year_grouped.sum().plot()"
     ],
     "language": "python",
     "metadata": {},
     "outputs": []
    },
    {
     "cell_type": "code",
     "collapsed": false,
     "input": [
      "consumer_price_index = pd.read_csv('cpi.csv')"
     ],
     "language": "python",
     "metadata": {},
     "outputs": []
    },
    {
     "cell_type": "code",
     "collapsed": false,
     "input": [
      "consumer_price_index = consumer_price_index.dropna(how='any')\n",
      "cpi = consumer_price_index[87:][['Year','Avg']]\n",
      "cpi.columns = ['year','average']\n",
      "cpi.head()"
     ],
     "language": "python",
     "metadata": {},
     "outputs": []
    },
    {
     "cell_type": "code",
     "collapsed": false,
     "input": [
      "year_price = year_grouped.sum()\n",
      "year_price['year'] = year_price['acquired_year']\n",
      "del year_price['acquired_year']\n",
      "\n",
      "yp = year_price.merge(cpi)\n",
      "\n",
      "\n",
      "yp['adjusted_price'] = yp.price * (yp.average / 100)\n",
      "yp.plot('year','adjusted_price')"
     ],
     "language": "python",
     "metadata": {},
     "outputs": []
    },
    {
     "cell_type": "code",
     "collapsed": false,
     "input": [
      "#Where should you be located?\n",
      "g_price = only_with_price.groupby('company_city').count()\n",
      "g_price = g_price[g_price.index != 0]\n",
      "g_price.sort('company_name',ascending=False).head()"
     ],
     "language": "python",
     "metadata": {},
     "outputs": []
    },
    {
     "cell_type": "code",
     "collapsed": false,
     "input": [
      "#What should you make\n",
      "only_with_price['permalink'] = only_with_price['company_permalink']\n",
      "del only_with_price['company_permalink']"
     ],
     "language": "python",
     "metadata": {},
     "outputs": []
    },
    {
     "cell_type": "code",
     "collapsed": false,
     "input": [
      "joined = cdf.merge(only_with_price)\n",
      "joined.head()"
     ],
     "language": "python",
     "metadata": {},
     "outputs": []
    },
    {
     "cell_type": "code",
     "collapsed": false,
     "input": [
      "joined.columns"
     ],
     "language": "python",
     "metadata": {},
     "outputs": []
    },
    {
     "cell_type": "code",
     "collapsed": false,
     "input": [
      "#most money\n",
      "joined.groupby('category_code').sum().sort('price',ascending=False).head()"
     ],
     "language": "python",
     "metadata": {},
     "outputs": []
    },
    {
     "cell_type": "code",
     "collapsed": false,
     "input": [
      "#average money\n",
      "joined.groupby('category_code').mean().sort('price',ascending=False).head()"
     ],
     "language": "python",
     "metadata": {},
     "outputs": []
    },
    {
     "cell_type": "code",
     "collapsed": false,
     "input": [
      "#average rounds\n",
      "joined.groupby('funding_rounds').sum().sort('price',ascending=False).head()"
     ],
     "language": "python",
     "metadata": {},
     "outputs": []
    },
    {
     "cell_type": "code",
     "collapsed": false,
     "input": [
      "#acquisitions count\n",
      "count_series = joined.groupby('category_code').apply(lambda a: a.count())['permalink']\n",
      "count_series.order(ascending=False).head(100)"
     ],
     "language": "python",
     "metadata": {},
     "outputs": []
    },
    {
     "cell_type": "code",
     "collapsed": false,
     "input": [
      "def convert_to_days(td):\n",
      "    days = td.astype('timedelta64[D]')\n",
      "    return days / np.timedelta64(1, 'D')"
     ],
     "language": "python",
     "metadata": {},
     "outputs": []
    },
    {
     "cell_type": "code",
     "collapsed": false,
     "input": [
      "joined['days_til_acq'] = pd.to_datetime(joined['acquired_at']) - pd.to_datetime(joined['founded_at'])\n",
      "joined['days'] = joined.days_til_acq.fillna(10000000).apply(convert_to_days).sort('days')\n",
      "joined['days']\n"
     ],
     "language": "python",
     "metadata": {},
     "outputs": []
    },
    {
     "cell_type": "code",
     "collapsed": false,
     "input": [],
     "language": "python",
     "metadata": {},
     "outputs": []
    }
   ],
   "metadata": {}
  }
 ]
}