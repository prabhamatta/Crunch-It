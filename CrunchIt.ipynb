{
 "metadata": {
  "name": "",
  "signature": "sha256:f2a2c9aa33dd63ed6d8a8eb70c34edd5743c862c4914362c12de25811f3cd031"
 },
 "nbformat": 3,
 "nbformat_minor": 0,
 "worksheets": [
  {
   "cells": [
    {
     "cell_type": "heading",
     "level": 1,
     "metadata": {},
     "source": [
      "<h1 style=\"line-height:0px;\">Crunch It!  </h1>\n",
      "<h2 style=\"font-size:18px;color:#999\">by Kate Rushton and Prabha Matta</h2>"
     ]
    },
    {
     "cell_type": "markdown",
     "metadata": {},
     "source": [
      "Crunch It! is a Python-driven exploration of Crunchbase, a database of technology companies."
     ]
    },
    {
     "cell_type": "markdown",
     "metadata": {},
     "source": [
      "<br>/////////////////////////////////////////////////////////////////////////////////////////////////////////////////////////////////////////////////////////////////////////////////////////////////////////////////////////////////<br><br>"
     ]
    },
    {
     "cell_type": "markdown",
     "metadata": {},
     "source": [
      "<h1 style=\"font-size:20px;line-height:0px;margin-bottom:10px;text-transform:uppercase;color:#3376A3\">1 / Introduction</h1>"
     ]
    },
    {
     "cell_type": "markdown",
     "metadata": {},
     "source": [
      "<h2 style=\"font-size:15px; line-height:0px\">About Crunchbase</h2><hr style=\"line-height:0px;margin-bottom:-10px\"/>"
     ]
    },
    {
     "cell_type": "markdown",
     "metadata": {},
     "source": [
      "What is included in the dataset, how often it can be downloaded and where from, licensing terms\n",
      "\n",
      "http://info.crunchbase.com/about/crunchbase-data-exports/\n",
      "\n",
      "CrunchBase Terms of Service and Licensing Policy\n",
      "\n",
      "http://info.crunchbase.com/docs/terms-of-service/\n",
      "http://info.crunchbase.com/docs/privacy-policy/\n"
     ]
    },
    {
     "cell_type": "markdown",
     "metadata": {},
     "source": [
      "<h2 style=\"font-size:15px; line-height:0px\">Project Goals</h2><hr style=\"line-height:0px;margin-bottom:-10px\"/>"
     ]
    },
    {
     "cell_type": "markdown",
     "metadata": {},
     "source": [
      "What we we intend to show the reader."
     ]
    },
    {
     "cell_type": "markdown",
     "metadata": {},
     "source": [
      "<br>/////////////////////////////////////////////////////////////////////////////////////////////////////////////////////////////////////////////////////////////////////////////////////////////////////////////////////////////////<br><br>"
     ]
    },
    {
     "cell_type": "markdown",
     "metadata": {},
     "source": [
      "<h1 style=\"font-size:20px;line-height:0px;margin-bottom:10px;text-transform:uppercase;color:#3376A3\">2 / Importing Dependencies</h1>"
     ]
    },
    {
     "cell_type": "markdown",
     "metadata": {},
     "source": [
      "This project uses the following libraries:\n",
      "\n",
      "* Pandas\n",
      "* Pylab\n",
      "* Numpy\n",
      "* Scipy\n",
      "* Matplotlib\n",
      "* Seaborn\n",
      "* mpl_d3\n",
      "* geopy\n",
      "* html, css, javascript"
     ]
    },
    {
     "cell_type": "code",
     "collapsed": false,
     "input": [
      "import numpy as np\n",
      "import scipy as sp\n",
      "import csv\n",
      "import geopy\n",
      "\n",
      "from pylab import figure, show\n",
      "from pandas import DataFrame, Series\n",
      "import pandas as pd\n",
      "\n",
      "%pylab inline\n",
      "%matplotlib inline\n",
      "import matplotlib.pyplot as plt\n",
      "import json\n",
      "\n",
      "import IPython\n",
      "from IPython.display import display, Image, HTML, clear_output\n",
      "from IPython.html.widgets import interact, interactive, fixed\n",
      "from IPython.html import widgets\n"
     ],
     "language": "python",
     "metadata": {},
     "outputs": []
    },
    {
     "cell_type": "code",
     "collapsed": false,
     "input": [
      "try:\n",
      "    import mpld3\n",
      "    from mpld3 import enable_notebook\n",
      "    from mpld3 import plugins\n",
      "    enable_notebook()\n",
      "except Exception as e:\n",
      "    print \"Attempt to import and enable mpld3 failed\", e\n",
      "# mpld3.enable_notebook()"
     ],
     "language": "python",
     "metadata": {},
     "outputs": []
    },
    {
     "cell_type": "code",
     "collapsed": false,
     "input": [
      "try:\n",
      "    import seaborn as sns\n",
      "except Exception as e:\n",
      "    print \"Attempt to import and enable seaborn failed\", e"
     ],
     "language": "python",
     "metadata": {},
     "outputs": []
    },
    {
     "cell_type": "code",
     "collapsed": false,
     "input": [
      "from IPython.core.display import HTML, Javascript\n",
      "def gmap_init():\n",
      "    js = \"\"\"\n",
      "window.gmap_initialize = function() {};\n",
      "$.getScript('https://maps.googleapis.com/maps/api/js?v=3&sensor=false&callback=gmap_initialize');\n",
      "\"\"\"\n",
      "    return Javascript(data=js)\n",
      "\n",
      "gmap_init()"
     ],
     "language": "python",
     "metadata": {},
     "outputs": []
    },
    {
     "cell_type": "code",
     "collapsed": false,
     "input": [
      "#define colors to use in charts\n",
      "COLOR_GRAY = \"#EEEEEE\"\n",
      "COLOR_WHITE = \"#FFFFFF\"\n",
      "COLOR_RED = \"#FC3F52\"\n",
      "COLOR_BLUE = \"#3376A3\"\n",
      "COLOR_ORANGE = \"#F5CB4E\"\n",
      "COLOR_BLACK = \"#303030\"\n",
      "COLOR_GREEN = \"#5FBD48\""
     ],
     "language": "python",
     "metadata": {},
     "outputs": []
    },
    {
     "cell_type": "markdown",
     "metadata": {},
     "source": [
      "<br>/////////////////////////////////////////////////////////////////////////////////////////////////////////////////////////////////////////////////////////////////////////////////////////////////////////////////////////////////<br><br>"
     ]
    },
    {
     "cell_type": "markdown",
     "metadata": {},
     "source": [
      "<h1 style=\"font-size:20px;line-height:0px;margin-bottom:10px;text-transform:uppercase;color:#3376A3\">3 / Loading and Cleaning Data</h1>"
     ]
    },
    {
     "cell_type": "markdown",
     "metadata": {},
     "source": [
      "<h2 style=\"font-size:15px; line-height:0px\">Companies</h2><hr style=\"line-height:0px;margin-bottom:-10px\"/>"
     ]
    },
    {
     "cell_type": "markdown",
     "metadata": {},
     "source": [
      "The **companies** data set lists data about companies big and small. It also includes companies that are no longer in existence, whether because they were acquired or went out of business."
     ]
    },
    {
     "cell_type": "code",
     "collapsed": false,
     "input": [
      "# Loading all companies dataset\n",
      "all_companies = pd.read_csv('crunchbase_monthly_export_companies.csv')\n",
      "#cleanup NaN cells\n",
      "all_companies.fillna(\"\",inplace=True)"
     ],
     "language": "python",
     "metadata": {},
     "outputs": []
    },
    {
     "cell_type": "markdown",
     "metadata": {},
     "source": [
      "<h2 style=\"font-size:15px; line-height:0px\">Acquisitions and IPOs</h2><hr style=\"line-height:0px;margin-bottom:-10px\"/>"
     ]
    },
    {
     "cell_type": "markdown",
     "metadata": {},
     "source": [
      "The **acquisitions** data set lists acquisitions - when a larger company purchases a smaller one. It includes information about both the purchasing company and the purchased company. The purchase price is also included if known.\n",
      "\n",
      "We can also use this dataset and the companies set to analyze successful \"exits\" - when a company is either acquired by another or goes public."
     ]
    },
    {
     "cell_type": "code",
     "collapsed": false,
     "input": [
      "# Loading acquired companies dataset\n",
      "acquisitions = pd.read_csv('crunchbase_monthly_export_acquisitions.csv')\n",
      "acquisitions.fillna(\"\",inplace=True)\n",
      "\n",
      "#Exploring companies which have been aquired or had an IPO (successful exit)\n",
      "exited_companies = all_companies[all_companies['status'].isin(['acquired','ipo'])].fillna(0)"
     ],
     "language": "python",
     "metadata": {},
     "outputs": []
    },
    {
     "cell_type": "markdown",
     "metadata": {},
     "source": [
      "<h2 style=\"font-size:15px; line-height:0px\">Investments</h2><hr style=\"line-height:0px;margin-bottom:-10px\"/>"
     ]
    },
    {
     "cell_type": "markdown",
     "metadata": {},
     "source": [
      "The **investments** data set lists individual funding events. It includes information about both the investing company and the receiving company as well as the amount, type, and date of the investment."
     ]
    },
    {
     "cell_type": "code",
     "collapsed": false,
     "input": [
      "investments = pd.read_csv('crunchbase_monthly_export_investments.csv',nrows=1000)\n",
      "investments.fillna(\"\",inplace=True)"
     ],
     "language": "python",
     "metadata": {},
     "outputs": []
    },
    {
     "cell_type": "markdown",
     "metadata": {},
     "source": [
      "<h2 style=\"font-size:20px; line-height:0px\">Specific Data Cleanup Challenges</h2><hr style=\"line-height:0px;margin-bottom:-10px\"/>"
     ]
    },
    {
     "cell_type": "markdown",
     "metadata": {},
     "source": [
      "**Money**\n",
      "\n",
      "The dataset has monetary values in string format (eg, 100,000). We must convert all applicable columns to their number equivalent. However, some places there is no value so the use of '' throws off this conversion. We are replacing the missing values with -1 so we can drop them later."
     ]
    },
    {
     "cell_type": "code",
     "collapsed": false,
     "input": [
      "def convert_money(x):\n",
      "    if (x == '' or x == ' '):\n",
      "        return -1\n",
      "    else:\n",
      "        return int(str(x).replace(',', ''))\n",
      "\n",
      "acquisitions.price_amount = acquisitions.price_amount.apply(convert_money)\n",
      "all_companies.funding_total_usd = all_companies.funding_total_usd.apply(convert_money)\n",
      "investments.raised_amount_usd = investments.raised_amount_usd.apply(convert_money)"
     ],
     "language": "python",
     "metadata": {},
     "outputs": []
    },
    {
     "cell_type": "markdown",
     "metadata": {},
     "source": [
      "**Dates**\n",
      "\n",
      "There are a number of date fields in the data that should be converted to Pandas' datetime format so they can be used in time series plots"
     ]
    },
    {
     "cell_type": "code",
     "collapsed": false,
     "input": [
      "def convert_to_date(x):\n",
      "    return pd.to_datetime(x)\n",
      "    \n",
      "acquisitions['acquired_at'] = acquisitions.acquired_at.apply(convert_to_date)\n",
      "all_companies['founded_at'] = all_companies.founded_at.apply(convert_to_date)"
     ],
     "language": "python",
     "metadata": {},
     "outputs": []
    },
    {
     "cell_type": "markdown",
     "metadata": {},
     "source": [
      "<br>/////////////////////////////////////////////////////////////////////////////////////////////////////////////////////////////////////////////////////////////////////////////////////////////////////////////////////////////////<br><br>"
     ]
    },
    {
     "cell_type": "markdown",
     "metadata": {},
     "source": [
      "<h1 style=\"font-size:20px;line-height:0px;margin-bottom:10px;text-transform:uppercase;color:#3376A3\">4 / What's In the Dataset?</h1>"
     ]
    },
    {
     "cell_type": "markdown",
     "metadata": {},
     "source": [
      "<h2 style=\"font-size:15px; line-height:0px\">Acquisitions</h2><hr style=\"line-height:0px;margin-bottom:-10px\"/>"
     ]
    },
    {
     "cell_type": "markdown",
     "metadata": {},
     "source": [
      "What data is available?"
     ]
    },
    {
     "cell_type": "code",
     "collapsed": false,
     "input": [
      "acquisitions.columns"
     ],
     "language": "python",
     "metadata": {},
     "outputs": []
    },
    {
     "cell_type": "markdown",
     "metadata": {},
     "source": [
      "Sample aquisitions rows"
     ]
    },
    {
     "cell_type": "code",
     "collapsed": false,
     "input": [
      "acquisitions.head()"
     ],
     "language": "python",
     "metadata": {},
     "outputs": []
    },
    {
     "cell_type": "markdown",
     "metadata": {},
     "source": [
      "Length of dataset (number)"
     ]
    },
    {
     "cell_type": "code",
     "collapsed": false,
     "input": [
      "len(acquisitions) # 10114  "
     ],
     "language": "python",
     "metadata": {},
     "outputs": []
    },
    {
     "cell_type": "markdown",
     "metadata": {},
     "source": [
      "Acquisitions over time ( y = count, x = acquired_year)"
     ]
    },
    {
     "cell_type": "code",
     "collapsed": false,
     "input": [
      "filter = (acquisitions.acquired_year > 2000) & (acquisitions.acquired_year <= 2013)\n",
      "ga = acquisitions[filter].groupby('acquired_year').count()['company_permalink']\n",
      "ax = ga.plot(title=\"Count of acquisitions by year (2010-2013]\")\n",
      "ax.set_ylabel('Number of Acquisitions')\n",
      "ax.set_xlabel('Year')"
     ],
     "language": "python",
     "metadata": {},
     "outputs": []
    },
    {
     "cell_type": "markdown",
     "metadata": {},
     "source": [
      "<h2 style=\"font-size:15px; line-height:0px\">How many of the acquisitions have pricing data available to us?</h2><hr style=\"line-height:0px;margin-bottom:-10px\"/>  "
     ]
    },
    {
     "cell_type": "code",
     "collapsed": false,
     "input": [
      "total = len(acquisitions) # 10114  \n",
      "axes(aspect=1)\n",
      "with_data = len(acquisitions[acquisitions.price_amount >= 1]) #2836 \n",
      "plt.suptitle(\"Percent of acquisitions data with purchase price available\", size=15)\n",
      "plt.pie([with_data, total - with_data],labels=['True','False'], autopct='%d percent', colors=[COLOR_BLUE, COLOR_RED])\n",
      "plt.show()"
     ],
     "language": "python",
     "metadata": {},
     "outputs": []
    },
    {
     "cell_type": "markdown",
     "metadata": {},
     "source": [
      "<h2 style=\"font-size:15px; line-height:0px\">Companies</h2><hr style=\"line-height:0px;margin-bottom:-10px\"/>"
     ]
    },
    {
     "cell_type": "markdown",
     "metadata": {},
     "source": [
      "What data is available?"
     ]
    },
    {
     "cell_type": "code",
     "collapsed": false,
     "input": [
      "all_companies.columns"
     ],
     "language": "python",
     "metadata": {},
     "outputs": []
    },
    {
     "cell_type": "markdown",
     "metadata": {},
     "source": [
      "Sample companies rows"
     ]
    },
    {
     "cell_type": "code",
     "collapsed": false,
     "input": [
      "all_companies.head()"
     ],
     "language": "python",
     "metadata": {},
     "outputs": []
    },
    {
     "cell_type": "markdown",
     "metadata": {},
     "source": [
      "Length of dataset (number)"
     ]
    },
    {
     "cell_type": "code",
     "collapsed": false,
     "input": [
      "len(all_companies) #54294"
     ],
     "language": "python",
     "metadata": {},
     "outputs": []
    },
    {
     "cell_type": "markdown",
     "metadata": {},
     "source": [
      "Active vs. not active (pie chart where x = active status, y = count of companies)"
     ]
    },
    {
     "cell_type": "code",
     "collapsed": false,
     "input": [
      "count = all_companies.groupby('status').count()['permalink']\n",
      "axes(aspect=1)\n",
      "plt.suptitle(\"Active vs. Closed vs. Acquired vs. IPO \", size=15)\n",
      "plt.pie(count.values[1:],labels=count.index[1:],autopct='%d percent', colors=[COLOR_BLUE, COLOR_RED, COLOR_GREEN, COLOR_WHITE])\n",
      "plt.show()"
     ],
     "language": "python",
     "metadata": {},
     "outputs": []
    },
    {
     "cell_type": "markdown",
     "metadata": {},
     "source": [
      "Histogram for company value by total amount of funding (x=funding bucket, y=count of companies)"
     ]
    },
    {
     "cell_type": "code",
     "collapsed": false,
     "input": [
      "#TODO :  is there something wrong with this graph???\n",
      "#exclude rows where we do not have a total funding value\n",
      "s = all_companies.funding_total_usd[all_companies.funding_total_usd >= 1]\n",
      "\n",
      "#show values in 10 thousands\n",
      "s = numpy.around(s/10000)\n",
      "n, bins, patches = plt.hist(s,bins=range(0,250000,10000),color=COLOR_ORANGE)\n",
      "print 'Histogram of total funding for companies in the dataset, in ten thousands'\n",
      "plt.plot(bins)\n",
      "plt.xlabel('Funding')\n",
      "plt.ylabel('Count')\n",
      "plt.show()\n"
     ],
     "language": "python",
     "metadata": {},
     "outputs": []
    },
    {
     "cell_type": "code",
     "collapsed": false,
     "input": [
      "all_companies.head()"
     ],
     "language": "python",
     "metadata": {},
     "outputs": []
    },
    {
     "cell_type": "markdown",
     "metadata": {},
     "source": [
      "<h2 style=\"font-size:15px; line-height:0px\">Investments</h2><hr style=\"line-height:0px;margin-bottom:-10px\"/>"
     ]
    },
    {
     "cell_type": "markdown",
     "metadata": {},
     "source": [
      "What data is available?"
     ]
    },
    {
     "cell_type": "code",
     "collapsed": false,
     "input": [
      "investments.columns"
     ],
     "language": "python",
     "metadata": {},
     "outputs": []
    },
    {
     "cell_type": "markdown",
     "metadata": {},
     "source": [
      "Sample investments rows"
     ]
    },
    {
     "cell_type": "code",
     "collapsed": false,
     "input": [
      "investments.head()"
     ],
     "language": "python",
     "metadata": {},
     "outputs": []
    },
    {
     "cell_type": "markdown",
     "metadata": {},
     "source": [
      "Length of dataset (number)"
     ]
    },
    {
     "cell_type": "code",
     "collapsed": false,
     "input": [
      "len(investments)"
     ],
     "language": "python",
     "metadata": {},
     "outputs": []
    },
    {
     "cell_type": "markdown",
     "metadata": {},
     "source": [
      "Funding events over time (y = count, x = funding_date)"
     ]
    },
    {
     "cell_type": "code",
     "collapsed": false,
     "input": [
      "filter = (investments.funded_year > 2000) & (investments.funded_year <= 2013)\n",
      "counted = investments[filter].groupby('funded_year').count()['company_permalink']\n",
      "ax = counted.plot(title=\"Count of funding events by year (2000-2013]\",color=COLOR_RED,linewidth=2.5)\n",
      "ax.set_ylabel('Number of Fundings')\n",
      "ax.set_xlabel('Year')\n",
      "plt.show()"
     ],
     "language": "python",
     "metadata": {},
     "outputs": []
    },
    {
     "cell_type": "markdown",
     "metadata": {},
     "source": [
      "Funding Amounts over time (y = Funding amout, x = funding_date)"
     ]
    },
    {
     "cell_type": "code",
     "collapsed": false,
     "input": [
      "filter = (investments.funded_year > 2000) & (investments.funded_year <= 2013)\n",
      "counted = investments[filter].groupby('funded_year').sum()\n",
      "counted\n",
      "ax = counted.plot(title=\"Funding amounts by year (2000-2013]\",color=COLOR_GREEN,linewidth=2.5)\n",
      "ax.set_ylabel('Total Funding amount')\n",
      "ax.set_xlabel('Year')\n",
      "plt.show()"
     ],
     "language": "python",
     "metadata": {},
     "outputs": []
    },
    {
     "cell_type": "markdown",
     "metadata": {},
     "source": [
      "Investments by stage (funding_round in investments.csv) bar chart"
     ]
    },
    {
     "cell_type": "code",
     "collapsed": false,
     "input": [
      "invest_pivot = pd.pivot_table(investments, cols=['funding_round_type'],aggfunc=\"count\").ix[0]\n",
      "\n",
      "invest_pivot.plot(kind='barh')\n",
      "# invest_pivot.index\n",
      "plt.ylabel('Funding Round Type')\n",
      "plt.xlabel('Number of Fundings')\n",
      "\n",
      "plt.show()"
     ],
     "language": "python",
     "metadata": {},
     "outputs": []
    },
    {
     "cell_type": "markdown",
     "metadata": {},
     "source": [
      "Number of funding rounds companies had before being Acquired"
     ]
    },
    {
     "cell_type": "code",
     "collapsed": false,
     "input": [
      "grpby_funding_rounds = exited_companies.groupby('funding_rounds').count()\n",
      "grpby_funding_rounds.sort('funding_rounds',ascending=False).head(10).plot(legend=False, linewidth =2.5,color='g')\n",
      "plt.title(\"How many funding rounds companies had before exiting\", fontsize =15) \n",
      "plt.ylabel(\"Number of exited companies\")\n",
      "plt.xlabel(\"Number of Funding rounds\")\n",
      "plt.show()\n"
     ],
     "language": "python",
     "metadata": {},
     "outputs": []
    },
    {
     "cell_type": "markdown",
     "metadata": {},
     "source": [
      "Amount of investments by VC (top 20)"
     ]
    },
    {
     "cell_type": "code",
     "collapsed": false,
     "input": [
      "grouped_investors = investments[investments.investor_country_code == 'USA'].groupby('investor_name')"
     ],
     "language": "python",
     "metadata": {},
     "outputs": []
    },
    {
     "cell_type": "code",
     "collapsed": false,
     "input": [
      "grouped_investors.mean()['raised_amount_usd'].order(ascending=False).head(20).plot(kind='bar',color=COLOR_ORANGE)\n",
      "plt.show()"
     ],
     "language": "python",
     "metadata": {},
     "outputs": []
    },
    {
     "cell_type": "markdown",
     "metadata": {},
     "source": [
      "Top funding companies by amount"
     ]
    },
    {
     "cell_type": "code",
     "collapsed": false,
     "input": [
      "means = grouped_investors.mean()\n",
      "\n",
      "tops = means.sort('raised_amount_usd',ascending=False)[:10]\n",
      "tops.plot(x=tops.index,y='raised_amount_usd',kind='bar',color=COLOR_RED)\n",
      "plt.show()"
     ],
     "language": "python",
     "metadata": {},
     "outputs": []
    },
    {
     "cell_type": "markdown",
     "metadata": {},
     "source": [
      "<br>/////////////////////////////////////////////////////////////////////////////////////////////////////////////////////////////////////////////////////////////////////////////////////////////////////////////////////////////////<br><br>"
     ]
    },
    {
     "cell_type": "markdown",
     "metadata": {},
     "source": [
      "<h1 style=\"font-size:20px;line-height:0px;margin-bottom:10px;text-transform:uppercase;color:#3376A3\">5 / Location</h1>"
     ]
    },
    {
     "cell_type": "markdown",
     "metadata": {},
     "source": [
      "Top states for acquisitions (x = state, y = count of acquisitions, limit = 10, bar)"
     ]
    },
    {
     "cell_type": "code",
     "collapsed": false,
     "input": [
      "#Top 10 states for doing startups\n",
      "grpby_state = acquisitions[acquisitions.company_state_code != ''].groupby('company_state_code').count()\n",
      "grpby_state.sort('company_state_code',ascending=False).head(10)['company_permalink'].plot(color=COLOR_GREEN,legend=False,title=\"Top 10 states for doing startups\", kind = \"bar\")\n",
      "plt.show()"
     ],
     "language": "python",
     "metadata": {},
     "outputs": []
    },
    {
     "cell_type": "markdown",
     "metadata": {},
     "source": [
      "Top cities for acquisitions (x = city, y = count of acquired company and count of acquirer company location, limit = 10, bar)"
     ]
    },
    {
     "cell_type": "code",
     "collapsed": false,
     "input": [
      "acquisitions.columns"
     ],
     "language": "python",
     "metadata": {},
     "outputs": []
    },
    {
     "cell_type": "code",
     "collapsed": false,
     "input": [
      "filter = (acquisitions.price_amount > 1) & (acquisitions.company_country_code == 'USA') & (acquisitions.company_city != '')\n",
      "#top cities that have a company city listed\n",
      "company_group = acquisitions[filter].groupby('company_city').count().sort('company_permalink',ascending=False)[:20]\n",
      "top_cities_acquired = company_group['company_permalink']\n",
      "top_cities_acquirer = acquisitions[filter].groupby('acquirer_city').count().ix[top_cities_acquired.index]['company_permalink']\n",
      "#plt.xticks(rotation=45)\n",
      "top_cities_acquirer.plot(kind='bar',color=COLOR_RED,legend=True,label='Acquirer City')\n",
      "top_cities_acquired.plot(kind='bar',color=COLOR_ORANGE,stacked=True,legend=True,label='Acquired City')\n",
      "plt.show()"
     ],
     "language": "python",
     "metadata": {},
     "outputs": []
    },
    {
     "cell_type": "markdown",
     "metadata": {},
     "source": [
      "For a year, Top cities for acquisitions by year  (x = city, y = count of acquired company and count of acquirer company location, limit = 20, bar)"
     ]
    },
    {
     "cell_type": "code",
     "collapsed": false,
     "input": [
      "\n",
      "def location_acquisitions_for_year(**kwargs):\n",
      "    for k,v in kwargs.items():\n",
      "        year= v\n",
      "        filter = (acquisitions.price_amount > 1) & (acquisitions.company_country_code == 'USA') & (acquisitions.company_city != '') & (acquisitions.acquired_year == year)\n",
      "        #top cities that have a company city listed\n",
      "        company_group = acquisitions[filter].groupby('company_city').count().sort('company_permalink',ascending=False)[:20]\n",
      "        top_cities_acquired = company_group['company_permalink']\n",
      "        top_cities_acquirer = acquisitions[filter].groupby('acquirer_city').count().ix[top_cities_acquired.index]['company_permalink']\n",
      "        #plt.xticks(rotation=45)\n",
      "        top_cities_acquirer.plot(kind='bar',color=COLOR_RED,label='Acquirer City')\n",
      "        top_cities_acquired.plot(kind='bar',color=COLOR_GREEN,stacked=True,label='Acquired City')\n",
      "        plt.title(\"Top cities for acquisitions in a year\\n Green: Acquired City  &  Red : Acquirer City\", fontsize =15)\n",
      "        plt.ylabel(\"Number of acquisitions\")\n",
      "        plt.show()"
     ],
     "language": "python",
     "metadata": {},
     "outputs": []
    },
    {
     "cell_type": "code",
     "collapsed": false,
     "input": [
      "years = range(2000,2014)\n",
      "i = interact(location_acquisitions_for_year,\n",
      "         Year = widgets.DropdownWidget(value =2013, values=years)\n",
      "         )"
     ],
     "language": "python",
     "metadata": {},
     "outputs": []
    },
    {
     "cell_type": "markdown",
     "metadata": {},
     "source": [
      "For a year, Top cities for acquisitions in a year by Purchase Amount (x = city, y = count of acquired company and count of acquirer company location, limit = 20, bar)"
     ]
    },
    {
     "cell_type": "code",
     "collapsed": false,
     "input": [
      "def location_acquisitions_for_year_price(**kwargs):\n",
      "    for k,v in kwargs.items():\n",
      "        year= v\n",
      "        filter = (acquisitions.price_amount > 1) & (acquisitions.company_country_code == 'USA') & (acquisitions.company_city != '') & (acquisitions.acquired_year == year)\n",
      "        #top cities that have a company city listed\n",
      "        top_cities_acquired = acquisitions[filter].groupby('company_city').sum().sort('price_amount',ascending=False)['price_amount'][:20]\n",
      "        top_cities_acquirer = acquisitions[filter].groupby('acquirer_city').sum().ix[top_cities_acquired.index].fillna(0)['price_amount']\n",
      "        #plt.xticks(rotation=45)\n",
      "        top_cities_acquirer.plot(kind='bar',color=COLOR_RED,label='Acquirer City')\n",
      "        top_cities_acquired.plot(kind='bar',color=COLOR_GREEN,stacked=True,label='Acquired City')\n",
      "        plt.title(\"Top cities for acquisitions in a year by Purchase amount\\n Green: Acquired City  &  Red : Acquirer City\", fontsize =15)\n",
      "        plt.ylabel(\"Price amount\")\n",
      "        plt.show()\n",
      "        "
     ],
     "language": "python",
     "metadata": {},
     "outputs": []
    },
    {
     "cell_type": "code",
     "collapsed": false,
     "input": [
      "years = range(2000,2015)\n",
      "i = interact(location_acquisitions_for_year_price,\n",
      "         Year = widgets.DropdownWidget(value =2014, values=years)\n",
      "         )"
     ],
     "language": "python",
     "metadata": {},
     "outputs": []
    },
    {
     "cell_type": "markdown",
     "metadata": {},
     "source": [
      "Q. What was acquired in 2014 by a Herndon company??? \n"
     ]
    },
    {
     "cell_type": "code",
     "collapsed": false,
     "input": [
      "print acquisitions[acquisitions.company_name == 'WhatsApp']\n",
      "print \"==============\"\n",
      "print acquisitions[acquisitions.company_city == 'herndon']\n",
      "\n",
      "# news article: http://money.cnn.com/2014/02/13/technology/comcast-time-warner-cable-deal/"
     ],
     "language": "python",
     "metadata": {},
     "outputs": []
    },
    {
     "cell_type": "code",
     "collapsed": false,
     "input": [
      "company_group = acquisitions[filter].groupby('company_city').agg(['median', 'mean', 'count'])['price_amount']\n",
      "top_price = company_group[company_group['count'] > 10].sort('median',ascending=False).head(20)\n",
      "top_price.plot(y=['mean','median'], kind='bar',color=[COLOR_BLUE,COLOR_GREEN],title='Top cities for acquisitions by median (green) and mean (blue) amount of funding')\n",
      "plt.show()"
     ],
     "language": "python",
     "metadata": {},
     "outputs": []
    },
    {
     "cell_type": "markdown",
     "metadata": {},
     "source": [
      "<h2 style=\"font-size:15px; line-height:0px\">Visualization of cities</h2><hr style=\"line-height:0px;margin-bottom:-10px\"/>"
     ]
    },
    {
     "cell_type": "code",
     "collapsed": false,
     "input": [
      "# This code generates a JSON list of cities with lat long values\n",
      "from geopy.geocoders import GoogleV3\n",
      "geolocator = GoogleV3()\n",
      "\n",
      "def geocode(city, count):\n",
      "    try:\n",
      "        address, (lat, lng) = geolocator.geocode(city)\n",
      "        return {'city' : city, 'lat' : lat, 'lng' : lng, 'count': count}\n",
      "    except:\n",
      "        return {'city' : city, 'lat' : None, 'lng' : None, 'count': count}\n",
      "\n",
      "coords = [geocode(k,v) for k,v in top_cities_acquired.iteritems()]\n"
     ],
     "language": "python",
     "metadata": {},
     "outputs": []
    },
    {
     "cell_type": "code",
     "collapsed": false,
     "input": [
      "print type(coords)\n",
      "print type(json.dumps(coords))"
     ],
     "language": "python",
     "metadata": {},
     "outputs": []
    },
    {
     "cell_type": "code",
     "collapsed": false,
     "input": [
      "%%html\n",
      "<div id=\"markers\" class=\"map-canvas\" style=\"height:500px;max-width:inherit\"></div>"
     ],
     "language": "python",
     "metadata": {},
     "outputs": []
    },
    {
     "cell_type": "code",
     "collapsed": false,
     "input": [
      "%%javascript\n",
      "\n",
      "//coordinates generated from above\n",
      "var coords = [{'lat': 37.7749295, 'city': 'San Francisco', 'lng': -122.4194155, 'count': 452}, \n",
      "              {'lat': 40.7143528, 'city': 'New York', 'lng': -74.00597309999999, 'count': 358}, \n",
      "              {'lat': 37.3860517, 'city': 'Mountain View', 'lng': -122.0838511, 'count': 129}, \n",
      "              {'lat': 47.6062095, 'city': 'Seattle', 'lng': -122.3320708, 'count': 118}, \n",
      "              {'lat': 37.4418834, 'city': 'Palo Alto', 'lng': -122.1430195, 'count': 113}, \n",
      "              {'lat': 30.267153, 'city': 'Austin', 'lng': -97.7430608, 'count': 106}, \n",
      "              {'lat': 37.36883, 'city': 'Sunnyvale', 'lng': -122.0363496, 'count': 102}, \n",
      "              {'lat': 37.3541079, 'city': 'Santa Clara', 'lng': -121.9552356, 'count': 97}, \n",
      "              {'lat': 41.8781136, 'city': 'Chicago', 'lng': -87.6297982, 'count': 89}, \n",
      "              {'lat': 37.3393857, 'city': 'San Jose', 'lng': -121.8949555, 'count': 88}, \n",
      "              {'lat': 32.7153292, 'city': 'San Diego', 'lng': -117.1572551, 'count': 83}, \n",
      "              {'lat': 37.5629917, 'city': 'San Mateo', 'lng': -122.3255254, 'count': 81}, \n",
      "              {'lat': 42.3736158, 'city': 'Cambridge', 'lng': -71.10973349999999, 'count': 67}, \n",
      "              {'lat': 34.0522342, 'city': 'Los Angeles', 'lng': -118.2436849, 'count': 66}, \n",
      "              {'lat': 42.3584308, 'city': 'Boston', 'lng': -71.0597732, 'count': 61}, \n",
      "              {'lat': 37.48521520000001, 'city': 'Redwood City', 'lng': -122.2363548, 'count': 53}, \n",
      "              {'lat': 33.7489954, 'city': 'Atlanta', 'lng': -84.3879824, 'count': 52}, \n",
      "              {'lat': 33.6839473, 'city': 'Irvine', 'lng': -117.7946942, 'count': 45}, \n",
      "              {'lat': 42.3764852, 'city': 'Waltham', 'lng': -71.2356113, 'count': 44}, \n",
      "              {'lat': 32.7801399, 'city': 'Dallas', 'lng': -96.80045109999999, 'count': 43}]\n",
      "\n",
      "\n",
      "// This example creates circles on the map, representing\n",
      "// populations in the United States.\n",
      "\n",
      "// First, create an object containing LatLng and population for each city.\n",
      "\n",
      "    var mapOptions = {\n",
      "        zoom: 4,\n",
      "        center: new google.maps.LatLng(37.09024, -95.712891),\n",
      "        mapTypeId: google.maps.MapTypeId.CITY_MAP\n",
      "    };\n",
      "\n",
      "  var map = new google.maps.Map(document.getElementById('markers'),\n",
      "      mapOptions);\n",
      "\n",
      "  // Construct the circle for each value in citymap.\n",
      "  // Note: We scale the count by a factor of 20.\n",
      "  for (var i = 0; i < coords.length; i++) {\n",
      "    var c = coords[i];\n",
      "    var circle = {\n",
      "      path: google.maps.SymbolPath.CIRCLE,\n",
      "      fillColor: 'red',\n",
      "      fillOpacity: 0.3,\n",
      "      strokeColor:'red',\n",
      "      strokeOpacity:1,\n",
      "      strokeWeight:1,\n",
      "      scale: Math.round(c['count'] / 20)\n",
      "    };\n",
      "      \n",
      "    var marker = new google.maps.Marker({\n",
      "        position: new google.maps.LatLng(c['lat'],c['lng']),\n",
      "        map: map,\n",
      "        icon: circle,\n",
      "        title: c['city']\n",
      "    });\n",
      "      \n",
      "  }\n"
     ],
     "language": "python",
     "metadata": {},
     "outputs": []
    },
    {
     "cell_type": "code",
     "collapsed": false,
     "input": [
      "#  Dynamic Google map viz\n",
      "# TODO : for some reason, problem is formatting string into json in javascript\n",
      "def draw_aquisitions_map(year=2013):\n",
      "    filter = (acquisitions.price_amount > 1) & (acquisitions.company_country_code == 'USA') & (acquisitions.company_city != '') & (acquisitions.acquired_year == year) \n",
      "    #top cities that have a company city listed\n",
      "    company_group = acquisitions[filter].groupby('company_city').count().sort('company_permalink',ascending=False)[:20]\n",
      "    top_cities_acquired = company_group['company_permalink']\n",
      "    raw_coords = [geocode(k,v) for k,v in top_cities_acquired.iteritems()]\n",
      "    html_code = \"\"\"<div id=\"markers1\" class=\"map-canvas\" style=\"height:500px;max-width:inherit\"></div>\"\"\"\n",
      "     \n",
      "  \n",
      "  \n",
      "    js_code = \"\"\"var coords = {0}\n",
      "\n",
      "\n",
      "// This example creates circles on the map, representing\n",
      "// populations in the United States.\n",
      "\n",
      "// First, create an object containing LatLng and population for each city.\n",
      "\n",
      "    var mapOptions = {zoom: 4,\n",
      "        center: new google.maps.LatLng(37.09024, -95.712891),\n",
      "        mapTypeId: google.maps.MapTypeId.CITY_MAP\n",
      "    };\n",
      "\n",
      "  var map = new google.maps.Map(document.getElementById('markers1'),\n",
      "      mapOptions);\n",
      "\n",
      "  // Construct the circle for each value in citymap.\n",
      "  // Note: We scale the count by a factor of 20.\n",
      "  for (var i = 0; i < coords.length; i++) {\n",
      "    var c = coords[i];\n",
      "    var circle = {\n",
      "      path: google.maps.SymbolPath.CIRCLE,\n",
      "      fillColor: 'red',\n",
      "      fillOpacity: 0.3,\n",
      "      strokeColor:'red',\n",
      "      strokeOpacity:1,\n",
      "      strokeWeight:1,\n",
      "      scale: Math.round(c['count'] / 20)\n",
      "    };\n",
      "      \n",
      "    var marker = new google.maps.Marker({\n",
      "        position: new google.maps.LatLng(c['lat'],c['lng']),\n",
      "        map: map,\n",
      "        icon: circle,\n",
      "        title: c['city']\n",
      "    });\n",
      "    }\"\"\".format(raw_coords)\n",
      "    display(Javascript(js_code))\n",
      "#     display(HTML(html))\n",
      "#     IPython.core.display.Javascript(js_code)\n",
      "    HTML(html_code)\n",
      "    return html_code, js_code\n",
      "\n",
      "\n",
      "\n"
     ],
     "language": "python",
     "metadata": {},
     "outputs": []
    },
    {
     "cell_type": "code",
     "collapsed": false,
     "input": [
      "# html_code, js_code = draw_aquisitions_map()\n",
      "# print js_code\n",
      "# IPython.core.display.Javascript(js_code)\n",
      "# HTML(html_code)\n",
      "# IPython.core.display.Javascript(js_code)\n"
     ],
     "language": "python",
     "metadata": {},
     "outputs": []
    },
    {
     "cell_type": "markdown",
     "metadata": {},
     "source": [
      "Average funding amount compared against distance between funded company city and investor city "
     ]
    },
    {
     "cell_type": "markdown",
     "metadata": {},
     "source": [
      "<br>/////////////////////////////////////////////////////////////////////////////////////////////////////////////////////////////////////////////////////////////////////////////////////////////////////////////////////////////////<br><br>"
     ]
    },
    {
     "cell_type": "markdown",
     "metadata": {},
     "source": [
      "<h1 style=\"font-size:20px;line-height:0px;margin-bottom:10px;text-transform:uppercase;color:#3376A3\">4 / Category</h1>"
     ]
    },
    {
     "cell_type": "markdown",
     "metadata": {},
     "source": [
      "<h2 style=\"font-size:15px; line-height:0px\">Acquisitions</h2><hr style=\"line-height:0px;margin-bottom:-10px\"/>"
     ]
    },
    {
     "cell_type": "markdown",
     "metadata": {},
     "source": [
      "Top categories for acquisitions (x = category, y = count of acquisitions, limit = 20, bar)"
     ]
    },
    {
     "cell_type": "code",
     "collapsed": false,
     "input": [
      "axes(aspect=1)\n",
      "data = acquisitions.groupby('company_category_code').count().sort('company_permalink',ascending=False)['company_permalink']\n",
      "plt.suptitle(\"Percent of Top categories in acquisitions \", size=15)\n",
      "plt.pie(data.values[1:10], labels=data.index[1:10], autopct='%d percent')\n",
      "plt.show()"
     ],
     "language": "python",
     "metadata": {},
     "outputs": []
    },
    {
     "cell_type": "markdown",
     "metadata": {},
     "source": [
      "Comparison of number of acquisitions of 2 categories over time(bar chart, x = year, y = total # of acquisitions in that category, two bars for each year)"
     ]
    },
    {
     "cell_type": "code",
     "collapsed": false,
     "input": [
      "def compare_categ1_categ2(**kwargs):\n",
      "    for k,v in kwargs.items():\n",
      "        if k=='Category1':   \n",
      "            categ1= v\n",
      "        if k=='Category2':   \n",
      "            categ2= v\n",
      "    plot_comparison_chart(categ1,categ2)\n",
      "\n",
      "def plot_comparison_chart(categ1,categ2):\n",
      "        filter1 = (acquisitions.acquired_year > 2000) & (acquisitions.acquired_year <= 2014) & (acquisitions.company_category_code == categ1)\n",
      "        filter2 = (acquisitions.acquired_year > 2000) & (acquisitions.acquired_year <= 2014) & (acquisitions.company_category_code == categ2)\n",
      "\n",
      "        categ1_grp = acquisitions[filter1].groupby('acquired_year').count()['company_permalink']\n",
      "        categ2_grp = acquisitions[filter2].groupby('acquired_year').count()['company_permalink']\n",
      "\n",
      "        categ1_grp.plot(kind='bar',color='g', label =categ1)\n",
      "        categ2_grp.plot(kind='bar',color='b',stacked=True,label=categ2)\n",
      "        plt.title(\"Comparison of number of acquisitions of 2 categories over time\\n Green: \"+categ1+ \" & Blue: \" +categ2, fontsize =15)\n",
      "        plt.show()"
     ],
     "language": "python",
     "metadata": {},
     "outputs": []
    },
    {
     "cell_type": "code",
     "collapsed": false,
     "input": [
      "category_list = list(acquisitions.groupby('company_category_code').sum().index)\n",
      "i = interact(compare_categ1_categ2,\n",
      "         Category1 = widgets.DropdownWidget(value ='software', values=category_list),\n",
      "         Category2 = widgets.DropdownWidget(value ='biotech', values=category_list)\n",
      "         )"
     ],
     "language": "python",
     "metadata": {},
     "outputs": []
    },
    {
     "cell_type": "markdown",
     "metadata": {},
     "source": [
      "Number of acquisitions/exit by acquired company category (top 10-20) and year (x = years, y = count of acquisitions, stacked bar chart)"
     ]
    },
    {
     "cell_type": "code",
     "collapsed": false,
     "input": [
      "#TODO: HOW TO PLOT THIS into STACKED BARCHART ???\n",
      "filter = (acquisitions.acquired_year > 2000) & (acquisitions.acquired_year <= 2013)\n",
      "year_categ_grp =acquisitions[filter].groupby('acquired_year').apply(lambda s: s.groupby('company_category_code').agg('count'))['company_permalink']\n",
      "year_categ_grp.head(20)\n"
     ],
     "language": "python",
     "metadata": {},
     "outputs": []
    },
    {
     "cell_type": "markdown",
     "metadata": {},
     "source": [
      "Q. Are companies acquiring in the same category or not? 2 lines in the chart, x = year, y = count of acquisitions where they have the same category, count where they are different"
     ]
    },
    {
     "cell_type": "code",
     "collapsed": false,
     "input": [
      "acquisitions.columns"
     ],
     "language": "python",
     "metadata": {},
     "outputs": []
    },
    {
     "cell_type": "markdown",
     "metadata": {},
     "source": [
      "<h2 style=\"font-size:15px; line-height:0px\">Funding</h2><hr style=\"line-height:0px;margin-bottom:-10px\"/>"
     ]
    },
    {
     "cell_type": "markdown",
     "metadata": {},
     "source": [
      "Total funding for an input category (top 10-20) and year (x = years, y = amount of Funding amount, stacked bar chart)"
     ]
    },
    {
     "cell_type": "code",
     "collapsed": false,
     "input": [
      "\n",
      "def funding_for_category(**kwargs):\n",
      "    for k,v in kwargs.items():\n",
      "        input_cat_code= v\n",
      "        filter = (investments.funded_year > 2000) & (investments.funded_year <= 2013) &(investments.company_category_code == input_cat_code) \n",
      "        grp_categ =investments[filter].groupby('funded_year').sum()\n",
      "        grp_categ.plot(x=grp_categ.index, kind='line',color='r', style=\"--\",linewidth=3)\n",
      "        plt.xlabel(\"Funded Year\")\n",
      "        plt.ylabel(\"Funding amount\")\n",
      "        plt.title(\"Funding amount for the input category\", fontsize =15)\n",
      "        plt.show()\n",
      "        "
     ],
     "language": "python",
     "metadata": {},
     "outputs": []
    },
    {
     "cell_type": "code",
     "collapsed": false,
     "input": [
      "\n",
      "i = interact(funding_for_category,\n",
      "         Category = widgets.DropdownWidget(value ='software', values=list(acquisitions.groupby('company_category_code').sum().index))\n",
      "         )"
     ],
     "language": "python",
     "metadata": {},
     "outputs": []
    },
    {
     "cell_type": "markdown",
     "metadata": {},
     "source": [
      "\n",
      "Total funding by category (top 10-20) and year (x = years, y = amount of Funding amount, stacked bar chart)"
     ]
    },
    {
     "cell_type": "code",
     "collapsed": false,
     "input": [
      "#TODO: HOW TO PLOT THIS into STACKED BARCHART\n",
      "filter = (investments.funded_year > 2000) & (investments.funded_year <= 2013) & (investments.raised_amount_usd != -1) \n",
      "investments[filter].groupby('funded_year').apply(lambda s: s.groupby('company_category_code').agg('sum')).head(10)\n"
     ],
     "language": "python",
     "metadata": {},
     "outputs": []
    },
    {
     "cell_type": "markdown",
     "metadata": {},
     "source": [
      "Comparison of 2 categories over time (line chart, x = year, y = total funding for all events for companies in that category, two lines 1 for each)"
     ]
    },
    {
     "cell_type": "code",
     "collapsed": false,
     "input": [
      "#TODO: How to merge these two? Also,x-axis values are different\n",
      "\n",
      "categ1 = 'software'\n",
      "categ2 = 'biotech'\n",
      "filter1 = (investments.funded_year > 2000) & (investments.funded_year <= 2013) & (investments.company_category_code == categ1)\n",
      "filter2 = (investments.funded_year > 2000) & (investments.funded_year <= 2013) & (investments.company_category_code == categ2)\n",
      "\n",
      "categ1_grp = investments[filter1].groupby('funded_year').sum()\n",
      "categ2_grp = investments[filter2].groupby('funded_year').sum()\n",
      "\n",
      "categ1_grp.plot(kind='line',color=COLOR_RED,legend=True,label =categ1)\n",
      "categ2_grp.plot(kind='line',color=COLOR_ORANGE,legend=True,label =categ2)\n",
      "\n",
      "plt.show()\n",
      "\n",
      "# df = pd.DataFrame.plot(index=categ1_grp.index, columns=[categ1_grp.raised_amount_usd , categ2_grp.raised_amount_usd])\n",
      "# df.plot()\n"
     ],
     "language": "python",
     "metadata": {},
     "outputs": []
    },
    {
     "cell_type": "markdown",
     "metadata": {},
     "source": [
      "<br>/////////////////////////////////////////////////////////////////////////////////////////////////////////////////////////////////////////////////////////////////////////////////////////////////////////////////////////////////<br><br>"
     ]
    },
    {
     "cell_type": "markdown",
     "metadata": {},
     "source": [
      "<h1 style=\"font-size:20px;line-height:0px;margin-bottom:10px;text-transform:uppercase;color:#3376A3\">5 / Conclusions</h1>"
     ]
    },
    {
     "cell_type": "markdown",
     "metadata": {},
     "source": [
      "Best places to start : San Francisco > NY\n",
      "Best Category : Software > Web development\n",
      "Best Funding Rounds : 1 > 2 > 3\n"
     ]
    }
   ],
   "metadata": {}
  }
 ]
}