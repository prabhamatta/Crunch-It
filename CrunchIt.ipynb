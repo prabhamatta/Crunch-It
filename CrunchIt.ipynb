{
 "metadata": {
  "name": "",
  "signature": "sha256:b61531d1161ad6b147d7f2a1ab1bcac6fca18c463429689ad10b19ded248a0d0"
 },
 "nbformat": 3,
 "nbformat_minor": 0,
 "worksheets": [
  {
   "cells": [
    {
     "cell_type": "heading",
     "level": 1,
     "metadata": {},
     "source": [
      "<h1 style=\"line-height:0px;\">Crunch It!  <span style=\"font-size:18px;color:#999\">by Kate Rushton and Prabha Matta</span></h1>"
     ]
    },
    {
     "cell_type": "markdown",
     "metadata": {},
     "source": [
      "Crunch It! is a Python-driven exploration of Crunchbase, a database of technology companies."
     ]
    },
    {
     "cell_type": "markdown",
     "metadata": {},
     "source": [
      "<br>/////////////////////////////////////////////////////////////////////////////////////////////////////////////////////////////////////////////////////////////////////////////////////////////////////////////////////////////////<br><br>"
     ]
    },
    {
     "cell_type": "markdown",
     "metadata": {},
     "source": [
      "<h1 style=\"font-size:20px;line-height:0px;margin-bottom:10px;text-transform:uppercase;color:#3376A3\">1 / Introduction</h1>"
     ]
    },
    {
     "cell_type": "markdown",
     "metadata": {},
     "source": [
      "<h2 style=\"font-size:15px; line-height:0px\">About Crunchbase</h2><hr style=\"line-height:0px;margin-bottom:-10px\"/>"
     ]
    },
    {
     "cell_type": "markdown",
     "metadata": {},
     "source": [
      "What is included in the dataset, how often it can be downloaded and where from, licensing terms\n",
      "\n",
      "http://info.crunchbase.com/about/crunchbase-data-exports/\n",
      "\n",
      "CrunchBase Terms of Service and Licensing Policy\n",
      "\n",
      "http://info.crunchbase.com/docs/terms-of-service/\n",
      "http://info.crunchbase.com/docs/privacy-policy/\n"
     ]
    },
    {
     "cell_type": "markdown",
     "metadata": {},
     "source": [
      "<h2 style=\"font-size:15px; line-height:0px\">Project Goals</h2><hr style=\"line-height:0px;margin-bottom:-10px\"/>"
     ]
    },
    {
     "cell_type": "markdown",
     "metadata": {},
     "source": [
      "What we we intend to show the reader."
     ]
    },
    {
     "cell_type": "markdown",
     "metadata": {},
     "source": [
      "<br>/////////////////////////////////////////////////////////////////////////////////////////////////////////////////////////////////////////////////////////////////////////////////////////////////////////////////////////////////<br><br>"
     ]
    },
    {
     "cell_type": "markdown",
     "metadata": {},
     "source": [
      "<h1 style=\"font-size:20px;line-height:0px;margin-bottom:10px;text-transform:uppercase;color:#3376A3\">2 / Importing Dependencies</h1>"
     ]
    },
    {
     "cell_type": "markdown",
     "metadata": {},
     "source": [
      "This project uses the following libraries:\n",
      "\n",
      "* Pandas\n",
      "* Pylab\n",
      "* Numpy\n",
      "* Scipy\n",
      "* Matplotlib\n",
      "* Seabourne"
     ]
    },
    {
     "cell_type": "code",
     "collapsed": false,
     "input": [
      "import numpy as np\n",
      "import scipy as sp\n",
      "import csv\n",
      "\n",
      "from pylab import figure, show\n",
      "from pandas import DataFrame, Series\n",
      "import pandas as pd\n",
      "\n",
      "%pylab inline\n",
      "%matplotlib inline\n",
      "import matplotlib.pyplot as plt\n"
     ],
     "language": "python",
     "metadata": {},
     "outputs": []
    },
    {
     "cell_type": "code",
     "collapsed": false,
     "input": [
      "try:\n",
      "    import mpld3\n",
      "    from mpld3 import enable_notebook\n",
      "    from mpld3 import plugins\n",
      "    enable_notebook()\n",
      "except Exception as e:\n",
      "    print \"Attempt to import and enable mpld3 failed\", e\n",
      "mpld3.enable_notebook()"
     ],
     "language": "python",
     "metadata": {},
     "outputs": []
    },
    {
     "cell_type": "code",
     "collapsed": false,
     "input": [
      "try:\n",
      "    import seaborn as sns\n",
      "except Exception as e:\n",
      "    print \"Attempt to import and enable seaborn failed\", e"
     ],
     "language": "python",
     "metadata": {},
     "outputs": []
    },
    {
     "cell_type": "code",
     "collapsed": false,
     "input": [
      "#define colors to use in charts\n",
      "COLOR_GRAY = \"#EEEEEE\"\n",
      "COLOR_WHITE = \"#FFFFFF\"\n",
      "COLOR_RED = \"#FC3F52\"\n",
      "COLOR_BLUE = \"#3376A3\"\n",
      "COLOR_ORANGE = \"#F5CB4E\"\n",
      "COLOR_BLACK = \"#303030\"\n",
      "COLOR_GREEN = \"#5FBD48\""
     ],
     "language": "python",
     "metadata": {},
     "outputs": []
    },
    {
     "cell_type": "markdown",
     "metadata": {},
     "source": [
      "<br>/////////////////////////////////////////////////////////////////////////////////////////////////////////////////////////////////////////////////////////////////////////////////////////////////////////////////////////////////<br><br>"
     ]
    },
    {
     "cell_type": "markdown",
     "metadata": {},
     "source": [
      "<h1 style=\"font-size:20px;line-height:0px;margin-bottom:10px;text-transform:uppercase;color:#3376A3\">3 / Loading and Cleaning Data</h1>"
     ]
    },
    {
     "cell_type": "markdown",
     "metadata": {},
     "source": [
      "<h2 style=\"font-size:15px; line-height:0px\">Companies</h2><hr style=\"line-height:0px;margin-bottom:-10px\"/>"
     ]
    },
    {
     "cell_type": "markdown",
     "metadata": {},
     "source": [
      "The **companies** data set lists data about companies big and small. It also includes companies that are no longer in existence, whether because they were acquired or went out of business."
     ]
    },
    {
     "cell_type": "code",
     "collapsed": false,
     "input": [
      "# Loading all companies dataset\n",
      "all_companies = pd.read_csv('crunchbase_monthly_export_companies.csv')\n",
      "#cleanup NaN cells\n",
      "all_companies.fillna(\"\",inplace=True)"
     ],
     "language": "python",
     "metadata": {},
     "outputs": []
    },
    {
     "cell_type": "markdown",
     "metadata": {},
     "source": [
      "<h2 style=\"font-size:15px; line-height:0px\">Acquisitions and IPOs</h2><hr style=\"line-height:0px;margin-bottom:-10px\"/>"
     ]
    },
    {
     "cell_type": "markdown",
     "metadata": {},
     "source": [
      "The **acquisitions** data set lists acquisitions - when a larger company purchases a smaller one. It includes information about both the purchasing company and the purchased company. The purchase price is also included if known.\n",
      "\n",
      "We can also use this dataset and the companies set to analyze successful \"exits\" - when a company is either acquired by another or goes public."
     ]
    },
    {
     "cell_type": "code",
     "collapsed": false,
     "input": [
      "# Loading acquired companies dataset\n",
      "acquisitions = pd.read_csv('crunchbase_monthly_export_acquisitions.csv')\n",
      "acquisitions.fillna(\"\",inplace=True)\n",
      "\n",
      "#Exploring companies which have been aquired or had an IPO (successful exit)\n",
      "exited_companies = all_companies[all_companies['status'].isin(['acquired','ipo'])].fillna(0)"
     ],
     "language": "python",
     "metadata": {},
     "outputs": []
    },
    {
     "cell_type": "markdown",
     "metadata": {},
     "source": [
      "<h2 style=\"font-size:15px; line-height:0px\">Investments</h2><hr style=\"line-height:0px;margin-bottom:-10px\"/>"
     ]
    },
    {
     "cell_type": "markdown",
     "metadata": {},
     "source": [
      "The **investments** data set lists individual funding events. It includes information about both the investing company and the receiving company as well as the amount, type, and date of the investment."
     ]
    },
    {
     "cell_type": "code",
     "collapsed": false,
     "input": [
      "investments = pd.read_csv('crunchbase_monthly_export_investments.csv')\n",
      "investments.fillna(\"\",inplace=True)"
     ],
     "language": "python",
     "metadata": {},
     "outputs": []
    },
    {
     "cell_type": "markdown",
     "metadata": {},
     "source": [
      "<h2 style=\"font-size:15px; line-height:0px\">Specific Data Cleanup Challenges</h2><hr style=\"line-height:0px;margin-bottom:-10px\"/>"
     ]
    },
    {
     "cell_type": "markdown",
     "metadata": {},
     "source": [
      "**Money**\n",
      "\n",
      "The dataset has monetary values in string format (eg, 100,000). We must convert all applicable columns to their number equivalent. However, some places there is no value so the use of '' throws off this conversion. We are replacing the missing values with -1 so we can drop them later."
     ]
    },
    {
     "cell_type": "code",
     "collapsed": false,
     "input": [
      "def convert_money(x):\n",
      "    if (x == '' or x == ' '):\n",
      "        return -1\n",
      "    else:\n",
      "        return int(str(x).replace(',', ''))\n",
      "\n",
      "acquisitions.price_amount = acquisitions.price_amount.apply(convert_money)\n",
      "all_companies.funding_total_usd = all_companies.funding_total_usd.apply(convert_money)\n",
      "investments.raised_amount_usd = investments.raised_amount_usd.apply(convert_money)"
     ],
     "language": "python",
     "metadata": {},
     "outputs": []
    },
    {
     "cell_type": "markdown",
     "metadata": {},
     "source": [
      "**Dates**\n",
      "\n",
      "There are a number of date fields in the data that should be converted to Pandas' datetime format so they can be used in time series plots"
     ]
    },
    {
     "cell_type": "code",
     "collapsed": false,
     "input": [
      "def convert_to_date(x):\n",
      "    return pd.to_datetime(x)\n",
      "    \n",
      "acquisitions['acquired_at'] = acquisitions.acquired_at.apply(convert_to_date)\n",
      "all_companies['founded_at'] = all_companies.founded_at.apply(convert_to_date)"
     ],
     "language": "python",
     "metadata": {},
     "outputs": []
    },
    {
     "cell_type": "markdown",
     "metadata": {},
     "source": [
      "<br>/////////////////////////////////////////////////////////////////////////////////////////////////////////////////////////////////////////////////////////////////////////////////////////////////////////////////////////////////<br><br>"
     ]
    },
    {
     "cell_type": "markdown",
     "metadata": {},
     "source": [
      "<h1 style=\"font-size:20px;line-height:0px;margin-bottom:10px;text-transform:uppercase;color:#3376A3\">4 / What's In the Dataset?</h1>"
     ]
    },
    {
     "cell_type": "markdown",
     "metadata": {},
     "source": [
      "<h2 style=\"font-size:15px; line-height:0px\">Acquisitions</h2><hr style=\"line-height:0px;margin-bottom:-10px\"/>"
     ]
    },
    {
     "cell_type": "markdown",
     "metadata": {},
     "source": [
      "What data is available?"
     ]
    },
    {
     "cell_type": "code",
     "collapsed": false,
     "input": [
      "acquisitions.columns"
     ],
     "language": "python",
     "metadata": {},
     "outputs": []
    },
    {
     "cell_type": "markdown",
     "metadata": {},
     "source": [
      "Sample aquisitions rows"
     ]
    },
    {
     "cell_type": "code",
     "collapsed": false,
     "input": [
      "acquisitions.head()"
     ],
     "language": "python",
     "metadata": {},
     "outputs": []
    },
    {
     "cell_type": "markdown",
     "metadata": {},
     "source": [
      "Length of dataset (number)"
     ]
    },
    {
     "cell_type": "code",
     "collapsed": false,
     "input": [
      "len(acquisitions) # 10114  "
     ],
     "language": "python",
     "metadata": {},
     "outputs": []
    },
    {
     "cell_type": "markdown",
     "metadata": {},
     "source": [
      "Acquisitions over time ( y = count, x = acquired_year)"
     ]
    },
    {
     "cell_type": "code",
     "collapsed": false,
     "input": [
      "filter = (acquisitions.acquired_year > 2000) & (acquisitions.acquired_year <= 2013)\n",
      "ga = acquisitions[filter].groupby('acquired_year').count()['company_permalink']\n",
      "ax = ga.plot(title=\"Count of acquisitions by year (2010-2013]\")\n",
      "ax.set_ylabel('Number of Acquisitions')\n",
      "ax.set_xlabel('Year')"
     ],
     "language": "python",
     "metadata": {},
     "outputs": []
    },
    {
     "cell_type": "markdown",
     "metadata": {},
     "source": [
      "How many of the acquisitions have pricing data available to us? "
     ]
    },
    {
     "cell_type": "code",
     "collapsed": false,
     "input": [
      "total = len(acquisitions)\n",
      "axes(aspect=1)\n",
      "with_data = len(acquisitions[acquisitions.price_amount >= 1])\n",
      "print 'Percent of acquisitions data with purchase price available'\n",
      "plt.pie([with_data, total - with_data],labels=['True','False'], autopct='%d percent', colors=[COLOR_BLUE, COLOR_RED])"
     ],
     "language": "python",
     "metadata": {},
     "outputs": []
    },
    {
     "cell_type": "markdown",
     "metadata": {},
     "source": [
      "<h2 style=\"font-size:15px; line-height:0px\">Companies</h2><hr style=\"line-height:0px;margin-bottom:-10px\"/>"
     ]
    },
    {
     "cell_type": "markdown",
     "metadata": {},
     "source": [
      "What data is available?"
     ]
    },
    {
     "cell_type": "code",
     "collapsed": false,
     "input": [
      "all_companies.columns"
     ],
     "language": "python",
     "metadata": {},
     "outputs": []
    },
    {
     "cell_type": "markdown",
     "metadata": {},
     "source": [
      "Sample companies rows"
     ]
    },
    {
     "cell_type": "code",
     "collapsed": false,
     "input": [
      "all_companies.head()"
     ],
     "language": "python",
     "metadata": {},
     "outputs": []
    },
    {
     "cell_type": "markdown",
     "metadata": {},
     "source": [
      "Length of dataset (number)"
     ]
    },
    {
     "cell_type": "code",
     "collapsed": false,
     "input": [
      "len(all_companies) #54294"
     ],
     "language": "python",
     "metadata": {},
     "outputs": []
    },
    {
     "cell_type": "markdown",
     "metadata": {},
     "source": [
      "Active vs. not active (pie chart where x = active status, y = count of companies)"
     ]
    },
    {
     "cell_type": "code",
     "collapsed": false,
     "input": [
      "count = all_companies.groupby('status').count()['permalink']\n",
      "axes(aspect=1)\n",
      "plt.pie(count.values[1:],labels=count.index[1:],autopct='%d percent', colors=[COLOR_BLUE, COLOR_GREEN, COLOR_ORANGE, COLOR_WHITE])"
     ],
     "language": "python",
     "metadata": {},
     "outputs": []
    },
    {
     "cell_type": "markdown",
     "metadata": {},
     "source": [
      "Histogram for company value by total amount of funding (x=funding bucket, y=count of companies)"
     ]
    },
    {
     "cell_type": "code",
     "collapsed": false,
     "input": [
      "#exclude rows where we do not have a total funding value\n",
      "s = all_companies.funding_total_usd[all_companies.funding_total_usd >= 1]\n",
      "\n",
      "#show values in 10 thousands\n",
      "s = numpy.around(s/10000)\n",
      "n, bins, patches = plt.hist(s,bins=range(0,2500,100),color=COLOR_ORANGE)\n",
      "print 'Histogram of total funding for companies in the dataset, in ten thousands'\n",
      "plt.plot(bins)\n",
      "plt.xlabel('Funding')\n",
      "plt.ylabel('Count')"
     ],
     "language": "python",
     "metadata": {},
     "outputs": []
    },
    {
     "cell_type": "markdown",
     "metadata": {},
     "source": [
      "<h2 style=\"font-size:15px; line-height:0px\">Investments</h2><hr style=\"line-height:0px;margin-bottom:-10px\"/>"
     ]
    },
    {
     "cell_type": "markdown",
     "metadata": {},
     "source": [
      "What data is available?"
     ]
    },
    {
     "cell_type": "code",
     "collapsed": false,
     "input": [
      "investments.columns"
     ],
     "language": "python",
     "metadata": {},
     "outputs": []
    },
    {
     "cell_type": "markdown",
     "metadata": {},
     "source": [
      "Sample investments rows"
     ]
    },
    {
     "cell_type": "code",
     "collapsed": false,
     "input": [
      "investments.head()"
     ],
     "language": "python",
     "metadata": {},
     "outputs": []
    },
    {
     "cell_type": "markdown",
     "metadata": {},
     "source": [
      "Length of dataset (number)"
     ]
    },
    {
     "cell_type": "code",
     "collapsed": false,
     "input": [
      "len(investments)"
     ],
     "language": "python",
     "metadata": {},
     "outputs": []
    },
    {
     "cell_type": "markdown",
     "metadata": {},
     "source": [
      "Funding events over time (y = count, x = funding_date)"
     ]
    },
    {
     "cell_type": "code",
     "collapsed": false,
     "input": [
      "filter = (investments.funded_year > 2000) & (investments.funded_year <= 2013)\n",
      "count = investments[filter].groupby('funded_year').count()['company_permalink']\n",
      "ax = count.plot(title=\"Count of funding events by year (2010-2013]\",color=COLOR_GREEN)\n",
      "ax.set_ylabel('Number of Fundings')\n",
      "ax.set_xlabel('Year')"
     ],
     "language": "python",
     "metadata": {},
     "outputs": []
    },
    {
     "cell_type": "markdown",
     "metadata": {},
     "source": [
      "Investments by stage (funding_round in investments.csv) bar chart"
     ]
    },
    {
     "cell_type": "code",
     "collapsed": false,
     "input": [
      "invest_pivot = pd.pivot_table(investments, cols=['funding_round_type'],aggfunc=\"count\").ix[0]\n",
      "invest_pivot.plot(kind='barh')\n",
      "#where are my column labels?? grrrrrrrrr\n",
      "invest_pivot.index"
     ],
     "language": "python",
     "metadata": {},
     "outputs": []
    },
    {
     "cell_type": "markdown",
     "metadata": {},
     "source": [
      "Number of investments by VC (top 20)"
     ]
    },
    {
     "cell_type": "code",
     "collapsed": false,
     "input": [
      "grouped_investors = investments.groupby('investor_name')"
     ],
     "language": "python",
     "metadata": {},
     "outputs": []
    },
    {
     "cell_type": "code",
     "collapsed": false,
     "input": [
      "counts = grouped_investors.count()['company_permalink']\n",
      "sorted = counts.order(ascending = False)[0:10]\n",
      "sorted.plot(kind='bar')\n",
      "#WHERE ARE MY FUCKING COLUMN LABELS"
     ],
     "language": "python",
     "metadata": {},
     "outputs": []
    },
    {
     "cell_type": "markdown",
     "metadata": {},
     "source": [
      "Top funding companies by amount"
     ]
    },
    {
     "cell_type": "code",
     "collapsed": false,
     "input": [
      "means = grouped_investors.mean()\n",
      "tops = means.sort('raised_amount_usd',ascending=False)[:10]\n",
      "tops.plot(tops.index,y='raised_amount_usd',kind='bar')"
     ],
     "language": "python",
     "metadata": {},
     "outputs": []
    },
    {
     "cell_type": "markdown",
     "metadata": {},
     "source": [
      "<br>/////////////////////////////////////////////////////////////////////////////////////////////////////////////////////////////////////////////////////////////////////////////////////////////////////////////////////////////////<br><br>"
     ]
    },
    {
     "cell_type": "markdown",
     "metadata": {},
     "source": [
      "<h1 style=\"font-size:20px;line-height:0px;margin-bottom:10px;text-transform:uppercase;color:#3376A3\">4 / Location</h1>"
     ]
    },
    {
     "cell_type": "markdown",
     "metadata": {},
     "source": [
      "Top states for acquisitions (x = state, y = count of acquisitions, limit = 10, bar)"
     ]
    },
    {
     "cell_type": "code",
     "collapsed": false,
     "input": [
      "#Top 10 states for doing startups\n",
      "grpby_state = acquisitions[acquisitions.company_state_code != ''].groupby('company_state_code').count()\n",
      "grpby_state.sort('company_state_code',ascending=False).head(10)['company_permalink'].plot(legend=False,title=\"Top 10 states for doing startups\", kind = \"bar\")\n",
      "\n",
      "#State '0' ---> the companies without any state in the database"
     ],
     "language": "python",
     "metadata": {},
     "outputs": []
    },
    {
     "cell_type": "markdown",
     "metadata": {},
     "source": [
      "Top cities for acquisitions (x = city, y = count of acquisitions, limit = 10, bar)"
     ]
    },
    {
     "cell_type": "code",
     "collapsed": false,
     "input": [
      "#Top 10 cities for doing startups\n",
      "\n",
      "grpby_city = acquisitions.groupby('company_city').count()\n",
      "grpby_city.sort('company_city',ascending=False).head(10)[1:].plot(legend=False,title=\"Top 10 cities for doing startups\", kind=\"bar\")\n",
      "plt.xticks(rotation=45)\n",
      "#City '0' ---> the companies without any city in the database. Eliminated"
     ],
     "language": "python",
     "metadata": {},
     "outputs": []
    },
    {
     "cell_type": "markdown",
     "metadata": {},
     "source": [
      "Top cities for funding amount (x = city, y = amount of funding, limit = 10, bar)"
     ]
    },
    {
     "cell_type": "code",
     "collapsed": false,
     "input": [],
     "language": "python",
     "metadata": {},
     "outputs": []
    },
    {
     "cell_type": "markdown",
     "metadata": {},
     "source": [
      "Map visualization (if we have time)"
     ]
    },
    {
     "cell_type": "code",
     "collapsed": false,
     "input": [],
     "language": "python",
     "metadata": {},
     "outputs": []
    },
    {
     "cell_type": "markdown",
     "metadata": {},
     "source": [
      "<br>/////////////////////////////////////////////////////////////////////////////////////////////////////////////////////////////////////////////////////////////////////////////////////////////////////////////////////////////////<br><br>"
     ]
    },
    {
     "cell_type": "markdown",
     "metadata": {},
     "source": [
      "<h1 style=\"font-size:20px;line-height:0px;margin-bottom:10px;text-transform:uppercase;color:#3376A3\">4 / Category</h1>"
     ]
    },
    {
     "cell_type": "markdown",
     "metadata": {},
     "source": [
      "Top categories for acquisitions (x = category, y = count of acquisitions, limit = 20, bar)"
     ]
    },
    {
     "cell_type": "code",
     "collapsed": false,
     "input": [],
     "language": "python",
     "metadata": {},
     "outputs": []
    },
    {
     "cell_type": "markdown",
     "metadata": {},
     "source": [
      "Total funding by category (top 10-20) and year (x = years, y = amount of funding, stacked bar chart)"
     ]
    },
    {
     "cell_type": "code",
     "collapsed": false,
     "input": [],
     "language": "python",
     "metadata": {},
     "outputs": []
    },
    {
     "cell_type": "markdown",
     "metadata": {},
     "source": [
      "Number of acquisitions/exit by acquired company category (top 10-20) and year (x = years, y = count of acquisitions, stacked bar chart)"
     ]
    },
    {
     "cell_type": "code",
     "collapsed": false,
     "input": [],
     "language": "python",
     "metadata": {},
     "outputs": []
    },
    {
     "cell_type": "markdown",
     "metadata": {},
     "source": [
      "Comparison of 2 categories over time (line chart, x = year, y = total funding for all events for companies in that category, two lines 1 for each)"
     ]
    },
    {
     "cell_type": "code",
     "collapsed": false,
     "input": [],
     "language": "python",
     "metadata": {},
     "outputs": []
    },
    {
     "cell_type": "markdown",
     "metadata": {},
     "source": [
      "Comparison of 2 categories over time (bar chart, x = year, y = total # of exits in that category, two bars for each year)"
     ]
    },
    {
     "cell_type": "code",
     "collapsed": false,
     "input": [],
     "language": "python",
     "metadata": {},
     "outputs": []
    },
    {
     "cell_type": "markdown",
     "metadata": {},
     "source": [
      "Are companies acquiring in the same category or not? 2 lines in the chart, x = year, y = count of acquisitions where they have the same category, count where they are different"
     ]
    },
    {
     "cell_type": "code",
     "collapsed": false,
     "input": [],
     "language": "python",
     "metadata": {},
     "outputs": []
    },
    {
     "cell_type": "markdown",
     "metadata": {},
     "source": [
      "<br>/////////////////////////////////////////////////////////////////////////////////////////////////////////////////////////////////////////////////////////////////////////////////////////////////////////////////////////////////<br><br>"
     ]
    },
    {
     "cell_type": "markdown",
     "metadata": {},
     "source": [
      "<h1 style=\"font-size:20px;line-height:0px;margin-bottom:10px;text-transform:uppercase;color:#3376A3\">5 / Conclusions</h1>"
     ]
    },
    {
     "cell_type": "markdown",
     "metadata": {},
     "source": [
      "Blahblahblah"
     ]
    }
   ],
   "metadata": {}
  }
 ]
}