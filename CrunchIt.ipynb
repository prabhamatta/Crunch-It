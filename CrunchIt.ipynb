{
 "metadata": {
  "name": "",
  "signature": "sha256:94735d72c71fd78fda9cb77fa6376ccbe85e386d6fbc83907fa0b257d71b6a10"
 },
 "nbformat": 3,
 "nbformat_minor": 0,
 "worksheets": [
  {
   "cells": [
    {
     "cell_type": "heading",
     "level": 1,
     "metadata": {},
     "source": [
      "<h1 style=\"line-height:0px;\">Crunch It!  <span style=\"font-size:18px;color:#999\">by Kate Rushton and Prabha Matta</span></h1>"
     ]
    },
    {
     "cell_type": "markdown",
     "metadata": {},
     "source": [
      "Crunch It! is a Python-driven exploration of Crunchbase, a database of technology companies."
     ]
    },
    {
     "cell_type": "markdown",
     "metadata": {},
     "source": [
      "<br>/////////////////////////////////////////////////////////////////////////////////////////////////////////////////////////////////////////////////////////////////////////////////////////////////////////////////////////////////<br><br>"
     ]
    },
    {
     "cell_type": "markdown",
     "metadata": {},
     "source": [
      "<h1 style=\"font-size:20px;line-height:0px;margin-bottom:10px;text-transform:uppercase;color:#3376A3\">1 / Introduction</h1>"
     ]
    },
    {
     "cell_type": "markdown",
     "metadata": {},
     "source": [
      "<h2 style=\"font-size:15px; line-height:0px\">About Crunchbase</h2><hr style=\"line-height:0px;margin-bottom:-10px\"/>"
     ]
    },
    {
     "cell_type": "markdown",
     "metadata": {},
     "source": [
      "What is included in the dataset, how often it can be downloaded and where from, licensing terms\n",
      "\n",
      "http://info.crunchbase.com/about/crunchbase-data-exports/\n",
      "\n",
      "CrunchBase Terms of Service and Licensing Policy\n",
      "\n",
      "http://info.crunchbase.com/docs/terms-of-service/\n",
      "http://info.crunchbase.com/docs/privacy-policy/\n"
     ]
    },
    {
     "cell_type": "markdown",
     "metadata": {},
     "source": [
      "<h2 style=\"font-size:15px; line-height:0px\">Project Goals</h2><hr style=\"line-height:0px;margin-bottom:-10px\"/>"
     ]
    },
    {
     "cell_type": "markdown",
     "metadata": {},
     "source": [
      "What we we intend to show the reader."
     ]
    },
    {
     "cell_type": "markdown",
     "metadata": {},
     "source": [
      "<br>/////////////////////////////////////////////////////////////////////////////////////////////////////////////////////////////////////////////////////////////////////////////////////////////////////////////////////////////////<br><br>"
     ]
    },
    {
     "cell_type": "markdown",
     "metadata": {},
     "source": [
      "<h1 style=\"font-size:20px;line-height:0px;margin-bottom:10px;text-transform:uppercase;color:#3376A3\">2 / Importing Dependencies</h1>"
     ]
    },
    {
     "cell_type": "markdown",
     "metadata": {},
     "source": [
      "This project uses the following libraries:\n",
      "\n",
      "* Pandas\n",
      "* Pylab\n",
      "* Numpy\n",
      "* Scipy\n",
      "* Matplotlib\n",
      "* Seabourne"
     ]
    },
    {
     "cell_type": "code",
     "collapsed": false,
     "input": [
      "import numpy as np\n",
      "import scipy as sp\n",
      "import csv\n",
      "import geopy\n",
      "\n",
      "from pylab import figure, show\n",
      "from pandas import DataFrame, Series\n",
      "import pandas as pd\n",
      "\n",
      "%pylab inline\n",
      "%matplotlib inline\n",
      "import matplotlib.pyplot as plt\n"
     ],
     "language": "python",
     "metadata": {},
     "outputs": [
      {
       "output_type": "stream",
       "stream": "stdout",
       "text": [
        "Populating the interactive namespace from numpy and matplotlib\n"
       ]
      }
     ],
     "prompt_number": 1
    },
    {
     "cell_type": "code",
     "collapsed": false,
     "input": [
      "try:\n",
      "    import seaborn as sns\n",
      "except Exception as e:\n",
      "    print \"Attempt to import and enable seaborn failed\", e"
     ],
     "language": "python",
     "metadata": {},
     "outputs": [],
     "prompt_number": 2
    },
    {
     "cell_type": "code",
     "collapsed": false,
     "input": [
      "from IPython.core.display import HTML, Javascript\n",
      "def gmap_init():\n",
      "    js = \"\"\"\n",
      "window.gmap_initialize = function() {};\n",
      "$.getScript('https://maps.googleapis.com/maps/api/js?v=3&sensor=false&callback=gmap_initialize');\n",
      "\"\"\"\n",
      "    return Javascript(data=js)\n",
      "\n",
      "gmap_init()"
     ],
     "language": "python",
     "metadata": {},
     "outputs": [
      {
       "javascript": [
        "\n",
        "window.gmap_initialize = function() {};\n",
        "$.getScript('https://maps.googleapis.com/maps/api/js?v=3&sensor=false&callback=gmap_initialize');\n"
       ],
       "metadata": {},
       "output_type": "pyout",
       "prompt_number": 3,
       "text": [
        "<IPython.core.display.Javascript at 0x10a2871d0>"
       ]
      }
     ],
     "prompt_number": 3
    },
    {
     "cell_type": "code",
     "collapsed": false,
     "input": [
      "#define colors to use in charts\n",
      "COLOR_GRAY = \"#EEEEEE\"\n",
      "COLOR_WHITE = \"#FFFFFF\"\n",
      "COLOR_RED = \"#FC3F52\"\n",
      "COLOR_BLUE = \"#3376A3\"\n",
      "COLOR_ORANGE = \"#F5CB4E\"\n",
      "COLOR_BLACK = \"#303030\"\n",
      "COLOR_GREEN = \"#5FBD48\""
     ],
     "language": "python",
     "metadata": {},
     "outputs": [],
     "prompt_number": 4
    },
    {
     "cell_type": "markdown",
     "metadata": {},
     "source": [
      "<br>/////////////////////////////////////////////////////////////////////////////////////////////////////////////////////////////////////////////////////////////////////////////////////////////////////////////////////////////////<br><br>"
     ]
    },
    {
     "cell_type": "markdown",
     "metadata": {},
     "source": [
      "<h1 style=\"font-size:20px;line-height:0px;margin-bottom:10px;text-transform:uppercase;color:#3376A3\">3 / Loading and Cleaning Data</h1>"
     ]
    },
    {
     "cell_type": "markdown",
     "metadata": {},
     "source": [
      "<h2 style=\"font-size:15px; line-height:0px\">Companies</h2><hr style=\"line-height:0px;margin-bottom:-10px\"/>"
     ]
    },
    {
     "cell_type": "markdown",
     "metadata": {},
     "source": [
      "The **companies** data set lists data about companies big and small. It also includes companies that are no longer in existence, whether because they were acquired or went out of business."
     ]
    },
    {
     "cell_type": "code",
     "collapsed": false,
     "input": [
      "# Loading all companies dataset\n",
      "all_companies = pd.read_csv('crunchbase_monthly_export_companies.csv')\n",
      "#cleanup NaN cells\n",
      "all_companies.fillna(\"\",inplace=True)"
     ],
     "language": "python",
     "metadata": {},
     "outputs": [],
     "prompt_number": 5
    },
    {
     "cell_type": "markdown",
     "metadata": {},
     "source": [
      "<h2 style=\"font-size:15px; line-height:0px\">Acquisitions and IPOs</h2><hr style=\"line-height:0px;margin-bottom:-10px\"/>"
     ]
    },
    {
     "cell_type": "markdown",
     "metadata": {},
     "source": [
      "The **acquisitions** data set lists acquisitions - when a larger company purchases a smaller one. It includes information about both the purchasing company and the purchased company. The purchase price is also included if known.\n",
      "\n",
      "We can also use this dataset and the companies set to analyze successful \"exits\" - when a company is either acquired by another or goes public."
     ]
    },
    {
     "cell_type": "code",
     "collapsed": false,
     "input": [
      "# Loading acquired companies dataset\n",
      "acquisitions = pd.read_csv('crunchbase_monthly_export_acquisitions.csv')\n",
      "acquisitions.fillna(\"\",inplace=True)\n",
      "\n",
      "#Exploring companies which have been aquired or had an IPO (successful exit)\n",
      "exited_companies = all_companies[all_companies['status'].isin(['acquired','ipo'])].fillna(0)"
     ],
     "language": "python",
     "metadata": {},
     "outputs": [],
     "prompt_number": 6
    },
    {
     "cell_type": "markdown",
     "metadata": {},
     "source": [
      "<h2 style=\"font-size:15px; line-height:0px\">Investments</h2><hr style=\"line-height:0px;margin-bottom:-10px\"/>"
     ]
    },
    {
     "cell_type": "markdown",
     "metadata": {},
     "source": [
      "The **investments** data set lists individual funding events. It includes information about both the investing company and the receiving company as well as the amount, type, and date of the investment."
     ]
    },
    {
     "cell_type": "code",
     "collapsed": false,
     "input": [
      "investments = pd.read_csv('crunchbase_monthly_export_investments.csv',nrows=1000)\n",
      "investments.fillna(\"\",inplace=True)"
     ],
     "language": "python",
     "metadata": {},
     "outputs": [],
     "prompt_number": 7
    },
    {
     "cell_type": "markdown",
     "metadata": {},
     "source": [
      "<h2 style=\"font-size:20px; line-height:0px\">Specific Data Cleanup Challenges</h2><hr style=\"line-height:0px;margin-bottom:-10px\"/>"
     ]
    },
    {
     "cell_type": "markdown",
     "metadata": {},
     "source": [
      "**Money**\n",
      "\n",
      "The dataset has monetary values in string format (eg, 100,000). We must convert all applicable columns to their number equivalent. However, some places there is no value so the use of '' throws off this conversion. We are replacing the missing values with -1 so we can drop them later."
     ]
    },
    {
     "cell_type": "code",
     "collapsed": false,
     "input": [
      "def convert_money(x):\n",
      "    if (x == '' or x == ' '):\n",
      "        return -1\n",
      "    else:\n",
      "        return int(str(x).replace(',', ''))\n",
      "\n",
      "acquisitions.price_amount = acquisitions.price_amount.apply(convert_money)\n",
      "all_companies.funding_total_usd = all_companies.funding_total_usd.apply(convert_money)\n",
      "investments.raised_amount_usd = investments.raised_amount_usd.apply(convert_money)"
     ],
     "language": "python",
     "metadata": {},
     "outputs": [],
     "prompt_number": 36
    },
    {
     "cell_type": "markdown",
     "metadata": {},
     "source": [
      "**Dates**\n",
      "\n",
      "There are a number of date fields in the data that should be converted to Pandas' datetime format so they can be used in time series plots"
     ]
    },
    {
     "cell_type": "code",
     "collapsed": false,
     "input": [
      "def convert_to_date(x):\n",
      "    return pd.to_datetime(x)\n",
      "    \n",
      "acquisitions['acquired_at'] = acquisitions.acquired_at.apply(convert_to_date)\n",
      "all_companies['founded_at'] = all_companies.founded_at.apply(convert_to_date)"
     ],
     "language": "python",
     "metadata": {},
     "outputs": [],
     "prompt_number": 9
    },
    {
     "cell_type": "markdown",
     "metadata": {},
     "source": [
      "<br>/////////////////////////////////////////////////////////////////////////////////////////////////////////////////////////////////////////////////////////////////////////////////////////////////////////////////////////////////<br><br>"
     ]
    },
    {
     "cell_type": "markdown",
     "metadata": {},
     "source": [
      "<h1 style=\"font-size:20px;line-height:0px;margin-bottom:10px;text-transform:uppercase;color:#3376A3\">4 / What's In the Dataset?</h1>"
     ]
    },
    {
     "cell_type": "markdown",
     "metadata": {},
     "source": [
      "<h2 style=\"font-size:15px; line-height:0px\">Acquisitions</h2><hr style=\"line-height:0px;margin-bottom:-10px\"/>"
     ]
    },
    {
     "cell_type": "markdown",
     "metadata": {},
     "source": [
      "What data is available?"
     ]
    },
    {
     "cell_type": "code",
     "collapsed": false,
     "input": [
      "acquisitions.columns"
     ],
     "language": "python",
     "metadata": {},
     "outputs": [
      {
       "metadata": {},
       "output_type": "pyout",
       "prompt_number": 10,
       "text": [
        "Index([u'company_permalink', u'company_name', u'company_category_code', u'company_country_code', u'company_state_code', u'company_region', u'company_city', u'acquirer_permalink', u'acquirer_name', u'acquirer_category_code', u'acquirer_country_code', u'acquirer_state_code', u'acquirer_region', u'acquirer_city', u'acquired_at', u'acquired_month', u'acquired_quarter', u'acquired_year', u'price_amount', u'price_currency_code'], dtype='object')"
       ]
      }
     ],
     "prompt_number": 10
    },
    {
     "cell_type": "markdown",
     "metadata": {},
     "source": [
      "Sample aquisitions rows"
     ]
    },
    {
     "cell_type": "code",
     "collapsed": false,
     "input": [
      "acquisitions.head()"
     ],
     "language": "python",
     "metadata": {},
     "outputs": [
      {
       "html": [
        "<div style=\"max-height:1000px;max-width:1500px;overflow:auto;\">\n",
        "<table border=\"1\" class=\"dataframe\">\n",
        "  <thead>\n",
        "    <tr style=\"text-align: right;\">\n",
        "      <th></th>\n",
        "      <th>company_permalink</th>\n",
        "      <th>company_name</th>\n",
        "      <th>company_category_code</th>\n",
        "      <th>company_country_code</th>\n",
        "      <th>company_state_code</th>\n",
        "      <th>company_region</th>\n",
        "      <th>company_city</th>\n",
        "      <th>acquirer_permalink</th>\n",
        "      <th>acquirer_name</th>\n",
        "      <th>acquirer_category_code</th>\n",
        "      <th>acquirer_country_code</th>\n",
        "      <th>acquirer_state_code</th>\n",
        "      <th>acquirer_region</th>\n",
        "      <th>acquirer_city</th>\n",
        "      <th>acquired_at</th>\n",
        "      <th>acquired_month</th>\n",
        "      <th>acquired_quarter</th>\n",
        "      <th>acquired_year</th>\n",
        "      <th>price_amount</th>\n",
        "      <th>price_currency_code</th>\n",
        "    </tr>\n",
        "  </thead>\n",
        "  <tbody>\n",
        "    <tr>\n",
        "      <th>0</th>\n",
        "      <td>                                  /company/waywire</td>\n",
        "      <td>                                    #waywire</td>\n",
        "      <td> news</td>\n",
        "      <td> USA</td>\n",
        "      <td> NY</td>\n",
        "      <td> New York</td>\n",
        "      <td>   New York</td>\n",
        "      <td>               /company/magnify</td>\n",
        "      <td>                Magnify</td>\n",
        "      <td> games_video</td>\n",
        "      <td> USA</td>\n",
        "      <td> NY</td>\n",
        "      <td>    New York</td>\n",
        "      <td>      New York</td>\n",
        "      <td>2013-10-17</td>\n",
        "      <td> 2013-10</td>\n",
        "      <td> 2013-Q4</td>\n",
        "      <td> 2013</td>\n",
        "      <td>-1</td>\n",
        "      <td> USD</td>\n",
        "    </tr>\n",
        "    <tr>\n",
        "      <th>1</th>\n",
        "      <td>                            /company/fluff-friends</td>\n",
        "      <td>                              (fluff)Friends</td>\n",
        "      <td>     </td>\n",
        "      <td>    </td>\n",
        "      <td>   </td>\n",
        "      <td>  unknown</td>\n",
        "      <td>           </td>\n",
        "      <td> /company/social-gaming-network</td>\n",
        "      <td>  Social Gaming Network</td>\n",
        "      <td> games_video</td>\n",
        "      <td> USA</td>\n",
        "      <td> CA</td>\n",
        "      <td> Los Angeles</td>\n",
        "      <td> Beverly Hills</td>\n",
        "      <td>2008-09-16</td>\n",
        "      <td> 2008-09</td>\n",
        "      <td> 2008-Q3</td>\n",
        "      <td> 2008</td>\n",
        "      <td>-1</td>\n",
        "      <td> USD</td>\n",
        "    </tr>\n",
        "    <tr>\n",
        "      <th>2</th>\n",
        "      <td>                      /company/1-nation-technology</td>\n",
        "      <td>                         1 Nation Technology</td>\n",
        "      <td>     </td>\n",
        "      <td>    </td>\n",
        "      <td>   </td>\n",
        "      <td>  unknown</td>\n",
        "      <td>           </td>\n",
        "      <td>                /company/vology</td>\n",
        "      <td>                 Vology</td>\n",
        "      <td>       other</td>\n",
        "      <td>    </td>\n",
        "      <td>   </td>\n",
        "      <td>     unknown</td>\n",
        "      <td>              </td>\n",
        "      <td>2006-01-01</td>\n",
        "      <td> 2006-01</td>\n",
        "      <td> 2006-Q1</td>\n",
        "      <td> 2006</td>\n",
        "      <td>-1</td>\n",
        "      <td> USD</td>\n",
        "    </tr>\n",
        "    <tr>\n",
        "      <th>3</th>\n",
        "      <td> /company/1-stop-financial-service-centers-of-a...</td>\n",
        "      <td> 1 Stop Financial Service Centers of America</td>\n",
        "      <td>     </td>\n",
        "      <td> USA</td>\n",
        "      <td> TX</td>\n",
        "      <td>   Austin</td>\n",
        "      <td> Round Rock</td>\n",
        "      <td>        /company/confie-seguros</td>\n",
        "      <td>         Confie Seguros</td>\n",
        "      <td>  enterprise</td>\n",
        "      <td> USA</td>\n",
        "      <td> CA</td>\n",
        "      <td> Los Angeles</td>\n",
        "      <td>    Buena Park</td>\n",
        "      <td>2014-02-03</td>\n",
        "      <td> 2014-02</td>\n",
        "      <td> 2014-Q1</td>\n",
        "      <td> 2014</td>\n",
        "      <td>-1</td>\n",
        "      <td> USD</td>\n",
        "    </tr>\n",
        "    <tr>\n",
        "      <th>4</th>\n",
        "      <td>                         /company/1-800-contacts-2</td>\n",
        "      <td>                              1-800 Contacts</td>\n",
        "      <td>     </td>\n",
        "      <td>    </td>\n",
        "      <td>   </td>\n",
        "      <td>  unknown</td>\n",
        "      <td>           </td>\n",
        "      <td> /company/thomas-h-lee-partners</td>\n",
        "      <td> Thomas H. Lee Partners</td>\n",
        "      <td>            </td>\n",
        "      <td> USA</td>\n",
        "      <td> MA</td>\n",
        "      <td>      Boston</td>\n",
        "      <td>        Boston</td>\n",
        "      <td>2014-01-07</td>\n",
        "      <td> 2014-01</td>\n",
        "      <td> 2014-Q1</td>\n",
        "      <td> 2014</td>\n",
        "      <td>-1</td>\n",
        "      <td> USD</td>\n",
        "    </tr>\n",
        "  </tbody>\n",
        "</table>\n",
        "<p>5 rows \u00d7 20 columns</p>\n",
        "</div>"
       ],
       "metadata": {},
       "output_type": "pyout",
       "prompt_number": 11,
       "text": [
        "                                   company_permalink  \\\n",
        "0                                   /company/waywire   \n",
        "1                             /company/fluff-friends   \n",
        "2                       /company/1-nation-technology   \n",
        "3  /company/1-stop-financial-service-centers-of-a...   \n",
        "4                          /company/1-800-contacts-2   \n",
        "\n",
        "                                  company_name company_category_code  \\\n",
        "0                                     #waywire                  news   \n",
        "1                               (fluff)Friends                         \n",
        "2                          1 Nation Technology                         \n",
        "3  1 Stop Financial Service Centers of America                         \n",
        "4                               1-800 Contacts                         \n",
        "\n",
        "  company_country_code company_state_code company_region company_city  \\\n",
        "0                  USA                 NY       New York     New York   \n",
        "1                                                unknown                \n",
        "2                                                unknown                \n",
        "3                  USA                 TX         Austin   Round Rock   \n",
        "4                                                unknown                \n",
        "\n",
        "               acquirer_permalink           acquirer_name  \\\n",
        "0                /company/magnify                 Magnify   \n",
        "1  /company/social-gaming-network   Social Gaming Network   \n",
        "2                 /company/vology                  Vology   \n",
        "3         /company/confie-seguros          Confie Seguros   \n",
        "4  /company/thomas-h-lee-partners  Thomas H. Lee Partners   \n",
        "\n",
        "  acquirer_category_code acquirer_country_code acquirer_state_code  \\\n",
        "0            games_video                   USA                  NY   \n",
        "1            games_video                   USA                  CA   \n",
        "2                  other                                             \n",
        "3             enterprise                   USA                  CA   \n",
        "4                                          USA                  MA   \n",
        "\n",
        "  acquirer_region  acquirer_city acquired_at acquired_month acquired_quarter  \\\n",
        "0        New York       New York  2013-10-17        2013-10          2013-Q4   \n",
        "1     Los Angeles  Beverly Hills  2008-09-16        2008-09          2008-Q3   \n",
        "2         unknown                 2006-01-01        2006-01          2006-Q1   \n",
        "3     Los Angeles     Buena Park  2014-02-03        2014-02          2014-Q1   \n",
        "4          Boston         Boston  2014-01-07        2014-01          2014-Q1   \n",
        "\n",
        "   acquired_year  price_amount price_currency_code  \n",
        "0           2013            -1                 USD  \n",
        "1           2008            -1                 USD  \n",
        "2           2006            -1                 USD  \n",
        "3           2014            -1                 USD  \n",
        "4           2014            -1                 USD  \n",
        "\n",
        "[5 rows x 20 columns]"
       ]
      }
     ],
     "prompt_number": 11
    },
    {
     "cell_type": "markdown",
     "metadata": {},
     "source": [
      "Length of dataset (number)"
     ]
    },
    {
     "cell_type": "code",
     "collapsed": false,
     "input": [
      "len(acquisitions) # 10114  "
     ],
     "language": "python",
     "metadata": {},
     "outputs": [
      {
       "metadata": {},
       "output_type": "pyout",
       "prompt_number": 12,
       "text": [
        "10114"
       ]
      }
     ],
     "prompt_number": 12
    },
    {
     "cell_type": "markdown",
     "metadata": {},
     "source": [
      "Acquisitions over time ( y = count, x = acquired_year)"
     ]
    },
    {
     "cell_type": "code",
     "collapsed": false,
     "input": [
      "filter = (acquisitions.acquired_year > 2000) & (acquisitions.acquired_year <= 2013)\n",
      "ga = acquisitions[filter].groupby('acquired_year').count()['company_permalink']\n",
      "ax = ga.plot(title=\"Count of acquisitions by year (2010-2013]\")\n",
      "ax.set_ylabel('Number of Acquisitions')\n",
      "ax.set_xlabel('Year')"
     ],
     "language": "python",
     "metadata": {},
     "outputs": [
      {
       "metadata": {},
       "output_type": "pyout",
       "prompt_number": 13,
       "text": [
        "<matplotlib.text.Text at 0x10b38ef50>"
       ]
      },
      {
       "metadata": {},
       "output_type": "display_data",
       "png": "[encoded data removed]",
       "text": [
        "<matplotlib.figure.Figure at 0x10b38f210>"
       ]
      }
     ],
     "prompt_number": 13
    },
    {
     "cell_type": "markdown",
     "metadata": {},
     "source": [
      "<h2 style=\"font-size:15px; line-height:0px\">How many of the acquisitions have pricing data available to us?</h2><hr style=\"line-height:0px;margin-bottom:-10px\"/>  "
     ]
    },
    {
     "cell_type": "code",
     "collapsed": false,
     "input": [
      "total = len(acquisitions) # 10114  \n",
      "axes(aspect=1)\n",
      "with_data = len(acquisitions[acquisitions.price_amount >= 1]) #2836 \n",
      "plt.suptitle(\"Percent of acquisitions data with purchase price available\", size=15)\n",
      "plt.pie([with_data, total - with_data],labels=['True','False'], autopct='%d percent', colors=[COLOR_BLUE, COLOR_RED])\n",
      "plt.show()"
     ],
     "language": "python",
     "metadata": {},
     "outputs": [
      {
       "metadata": {},
       "output_type": "display_data",
       "png": "[encoded data removed]",
       "text": [
        "<matplotlib.figure.Figure at 0x10da83610>"
       ]
      }
     ],
     "prompt_number": 48
    },
    {
     "cell_type": "markdown",
     "metadata": {},
     "source": [
      "<h2 style=\"font-size:15px; line-height:0px\">Companies</h2><hr style=\"line-height:0px;margin-bottom:-10px\"/>"
     ]
    },
    {
     "cell_type": "markdown",
     "metadata": {},
     "source": [
      "What data is available?"
     ]
    },
    {
     "cell_type": "code",
     "collapsed": false,
     "input": [
      "all_companies.columns"
     ],
     "language": "python",
     "metadata": {},
     "outputs": [
      {
       "metadata": {},
       "output_type": "pyout",
       "prompt_number": 15,
       "text": [
        "Index([u'permalink', u'name', u'homepage_url', u'category_code', u'funding_total_usd', u'status', u'country_code', u'state_code', u'region', u'city', u'funding_rounds', u'founded_at', u' founded_month', u'founded_quarter', u'founded_year', u'first_funding_at', u'last_funding_at', u'last_milestone_at'], dtype='object')"
       ]
      }
     ],
     "prompt_number": 15
    },
    {
     "cell_type": "markdown",
     "metadata": {},
     "source": [
      "Sample companies rows"
     ]
    },
    {
     "cell_type": "code",
     "collapsed": false,
     "input": [
      "all_companies.head()"
     ],
     "language": "python",
     "metadata": {},
     "outputs": [
      {
       "html": [
        "<div style=\"max-height:1000px;max-width:1500px;overflow:auto;\">\n",
        "<table border=\"1\" class=\"dataframe\">\n",
        "  <thead>\n",
        "    <tr style=\"text-align: right;\">\n",
        "      <th></th>\n",
        "      <th>permalink</th>\n",
        "      <th>name</th>\n",
        "      <th>homepage_url</th>\n",
        "      <th>category_code</th>\n",
        "      <th>funding_total_usd</th>\n",
        "      <th>status</th>\n",
        "      <th>country_code</th>\n",
        "      <th>state_code</th>\n",
        "      <th>region</th>\n",
        "      <th>city</th>\n",
        "      <th>funding_rounds</th>\n",
        "      <th>founded_at</th>\n",
        "      <th> founded_month</th>\n",
        "      <th>founded_quarter</th>\n",
        "      <th>founded_year</th>\n",
        "      <th>first_funding_at</th>\n",
        "      <th>last_funding_at</th>\n",
        "      <th>last_milestone_at</th>\n",
        "    </tr>\n",
        "  </thead>\n",
        "  <tbody>\n",
        "    <tr>\n",
        "      <th>0</th>\n",
        "      <td>  /company/canal-do-credito</td>\n",
        "      <td>   Canal do Credito</td>\n",
        "      <td> http://www.canaldocredito.com.br</td>\n",
        "      <td>     finance</td>\n",
        "      <td>  750000</td>\n",
        "      <td> operating</td>\n",
        "      <td> BRA</td>\n",
        "      <td>   </td>\n",
        "      <td> Belo Horizonte</td>\n",
        "      <td> Belo Horizonte</td>\n",
        "      <td> 1</td>\n",
        "      <td>       NaT</td>\n",
        "      <td>          </td>\n",
        "      <td>        </td>\n",
        "      <td>     </td>\n",
        "      <td>  1/1/2010</td>\n",
        "      <td>  1/1/2010</td>\n",
        "      <td>           </td>\n",
        "    </tr>\n",
        "    <tr>\n",
        "      <th>1</th>\n",
        "      <td>           /company/waywire</td>\n",
        "      <td>           #waywire</td>\n",
        "      <td>           http://www.waywire.com</td>\n",
        "      <td>        news</td>\n",
        "      <td> 1750000</td>\n",
        "      <td>  acquired</td>\n",
        "      <td> USA</td>\n",
        "      <td> NY</td>\n",
        "      <td>       New York</td>\n",
        "      <td>       New York</td>\n",
        "      <td> 1</td>\n",
        "      <td>2012-06-01</td>\n",
        "      <td>  2012-06 </td>\n",
        "      <td> 2012-Q2</td>\n",
        "      <td> 2012</td>\n",
        "      <td> 6/30/2012</td>\n",
        "      <td> 6/30/2012</td>\n",
        "      <td> 10/17/2013</td>\n",
        "    </tr>\n",
        "    <tr>\n",
        "      <th>2</th>\n",
        "      <td> /company/tv-communications</td>\n",
        "      <td> &amp;TV Communications</td>\n",
        "      <td>            http://enjoyandtv.com</td>\n",
        "      <td> games_video</td>\n",
        "      <td> 4000000</td>\n",
        "      <td> operating</td>\n",
        "      <td> USA</td>\n",
        "      <td> CA</td>\n",
        "      <td>    Los Angeles</td>\n",
        "      <td>    Los Angeles</td>\n",
        "      <td> 2</td>\n",
        "      <td>       NaT</td>\n",
        "      <td>          </td>\n",
        "      <td>        </td>\n",
        "      <td>     </td>\n",
        "      <td>  6/4/2010</td>\n",
        "      <td> 9/23/2010</td>\n",
        "      <td>           </td>\n",
        "    </tr>\n",
        "    <tr>\n",
        "      <th>3</th>\n",
        "      <td>  /company/in-touch-network</td>\n",
        "      <td>  (In)Touch Network</td>\n",
        "      <td>    http://www.InTouchNetwork.com</td>\n",
        "      <td>   ecommerce</td>\n",
        "      <td> 1500000</td>\n",
        "      <td> operating</td>\n",
        "      <td> GBR</td>\n",
        "      <td>   </td>\n",
        "      <td>         London</td>\n",
        "      <td>         London</td>\n",
        "      <td> 1</td>\n",
        "      <td>2011-04-01</td>\n",
        "      <td>  2011-04 </td>\n",
        "      <td> 2011-Q2</td>\n",
        "      <td> 2011</td>\n",
        "      <td>  4/1/2011</td>\n",
        "      <td>  4/1/2011</td>\n",
        "      <td> 11/15/2013</td>\n",
        "    </tr>\n",
        "    <tr>\n",
        "      <th>4</th>\n",
        "      <td>           /company/n-plusn</td>\n",
        "      <td>         +n (PlusN)</td>\n",
        "      <td>                 http://plusn.com</td>\n",
        "      <td>    software</td>\n",
        "      <td>  600000</td>\n",
        "      <td> operating</td>\n",
        "      <td> USA</td>\n",
        "      <td> NY</td>\n",
        "      <td>       New York</td>\n",
        "      <td>       New York</td>\n",
        "      <td> 1</td>\n",
        "      <td>2012-01-01</td>\n",
        "      <td>  2012-01 </td>\n",
        "      <td> 2012-Q1</td>\n",
        "      <td> 2012</td>\n",
        "      <td> 8/29/2012</td>\n",
        "      <td> 8/29/2012</td>\n",
        "      <td>           </td>\n",
        "    </tr>\n",
        "  </tbody>\n",
        "</table>\n",
        "<p>5 rows \u00d7 18 columns</p>\n",
        "</div>"
       ],
       "metadata": {},
       "output_type": "pyout",
       "prompt_number": 16,
       "text": [
        "                    permalink                name  \\\n",
        "0   /company/canal-do-credito    Canal do Credito   \n",
        "1            /company/waywire            #waywire   \n",
        "2  /company/tv-communications  &TV Communications   \n",
        "3   /company/in-touch-network   (In)Touch Network   \n",
        "4            /company/n-plusn          +n (PlusN)   \n",
        "\n",
        "                       homepage_url category_code  funding_total_usd  \\\n",
        "0  http://www.canaldocredito.com.br       finance             750000   \n",
        "1            http://www.waywire.com          news            1750000   \n",
        "2             http://enjoyandtv.com   games_video            4000000   \n",
        "3     http://www.InTouchNetwork.com     ecommerce            1500000   \n",
        "4                  http://plusn.com      software             600000   \n",
        "\n",
        "      status country_code state_code          region            city  \\\n",
        "0  operating          BRA             Belo Horizonte  Belo Horizonte   \n",
        "1   acquired          USA         NY        New York        New York   \n",
        "2  operating          USA         CA     Los Angeles     Los Angeles   \n",
        "3  operating          GBR                     London          London   \n",
        "4  operating          USA         NY        New York        New York   \n",
        "\n",
        "  funding_rounds founded_at  founded_month founded_quarter founded_year  \\\n",
        "0              1        NaT                                               \n",
        "1              1 2012-06-01       2012-06          2012-Q2         2012   \n",
        "2              2        NaT                                               \n",
        "3              1 2011-04-01       2011-04          2011-Q2         2011   \n",
        "4              1 2012-01-01       2012-01          2012-Q1         2012   \n",
        "\n",
        "  first_funding_at last_funding_at last_milestone_at  \n",
        "0         1/1/2010        1/1/2010                    \n",
        "1        6/30/2012       6/30/2012        10/17/2013  \n",
        "2         6/4/2010       9/23/2010                    \n",
        "3         4/1/2011        4/1/2011        11/15/2013  \n",
        "4        8/29/2012       8/29/2012                    \n",
        "\n",
        "[5 rows x 18 columns]"
       ]
      }
     ],
     "prompt_number": 16
    },
    {
     "cell_type": "markdown",
     "metadata": {},
     "source": [
      "Length of dataset (number)"
     ]
    },
    {
     "cell_type": "code",
     "collapsed": false,
     "input": [
      "len(all_companies) #54294"
     ],
     "language": "python",
     "metadata": {},
     "outputs": [
      {
       "metadata": {},
       "output_type": "pyout",
       "prompt_number": 17,
       "text": [
        "54294"
       ]
      }
     ],
     "prompt_number": 17
    },
    {
     "cell_type": "markdown",
     "metadata": {},
     "source": [
      "Active vs. not active (pie chart where x = active status, y = count of companies)"
     ]
    },
    {
     "cell_type": "code",
     "collapsed": false,
     "input": [
      "count = all_companies.groupby('status').count()['permalink']\n",
      "axes(aspect=1)\n",
      "plt.suptitle(\"Active vs. Closed vs. Acquired vs. IPO \", size=15)\n",
      "plt.pie(count.values[1:],labels=count.index[1:],autopct='%d percent', colors=[COLOR_BLUE, COLOR_GREEN, COLOR_ORANGE, COLOR_WHITE])\n",
      "plt.show()"
     ],
     "language": "python",
     "metadata": {},
     "outputs": [
      {
       "metadata": {},
       "output_type": "display_data",
       "png": "[encoded data removed]",
       "text": [
        "<matplotlib.figure.Figure at 0x10dbcb910>"
       ]
      }
     ],
     "prompt_number": 56
    },
    {
     "cell_type": "markdown",
     "metadata": {},
     "source": [
      "Histogram for company value by total amount of funding (x=funding bucket, y=count of companies)"
     ]
    },
    {
     "cell_type": "code",
     "collapsed": false,
     "input": [
      "#exclude rows where we do not have a total funding value\n",
      "s = all_companies.funding_total_usd[all_companies.funding_total_usd >= 1]\n",
      "\n",
      "#show values in 10 thousands\n",
      "s = numpy.around(s/10000)\n",
      "n, bins, patches = plt.hist(s,bins=range(0,2500,100),color=COLOR_ORANGE)\n",
      "print 'Histogram of total funding for companies in the dataset, in ten thousands'\n",
      "plt.plot(bins)\n",
      "plt.xlabel('Funding')\n",
      "plt.ylabel('Count')\n",
      "plt.show()"
     ],
     "language": "python",
     "metadata": {},
     "outputs": [
      {
       "output_type": "stream",
       "stream": "stdout",
       "text": [
        "Histogram of total funding for companies in the dataset, in ten thousands\n"
       ]
      },
      {
       "metadata": {},
       "output_type": "display_data",
       "png": "[encoded data removed]",
       "text": [
        "<matplotlib.figure.Figure at 0x10c0137d0>"
       ]
      }
     ],
     "prompt_number": 57
    },
    {
     "cell_type": "markdown",
     "metadata": {},
     "source": [
      "<h2 style=\"font-size:15px; line-height:0px\">Investments</h2><hr style=\"line-height:0px;margin-bottom:-10px\"/>"
     ]
    },
    {
     "cell_type": "markdown",
     "metadata": {},
     "source": [
      "What data is available?"
     ]
    },
    {
     "cell_type": "code",
     "collapsed": false,
     "input": [
      "investments.columns"
     ],
     "language": "python",
     "metadata": {},
     "outputs": [
      {
       "metadata": {},
       "output_type": "pyout",
       "prompt_number": 20,
       "text": [
        "Index([u'company_permalink', u'company_name', u'company_category_code', u'company_country_code', u'company_state_code', u'company_region', u'company_city', u'investor_permalink', u'investor_name', u'investor_category_code', u'investor_country_code', u'investor_state_code', u'investor_region', u'investor_city', u'funding_round_type', u'funded_at', u'funded_month', u'funded_quarter', u'funded_year', u'raised_amount_usd'], dtype='object')"
       ]
      }
     ],
     "prompt_number": 20
    },
    {
     "cell_type": "markdown",
     "metadata": {},
     "source": [
      "Sample investments rows"
     ]
    },
    {
     "cell_type": "code",
     "collapsed": false,
     "input": [
      "investments.head()"
     ],
     "language": "python",
     "metadata": {},
     "outputs": [
      {
       "html": [
        "<div style=\"max-height:1000px;max-width:1500px;overflow:auto;\">\n",
        "<table border=\"1\" class=\"dataframe\">\n",
        "  <thead>\n",
        "    <tr style=\"text-align: right;\">\n",
        "      <th></th>\n",
        "      <th>company_permalink</th>\n",
        "      <th>company_name</th>\n",
        "      <th>company_category_code</th>\n",
        "      <th>company_country_code</th>\n",
        "      <th>company_state_code</th>\n",
        "      <th>company_region</th>\n",
        "      <th>company_city</th>\n",
        "      <th>investor_permalink</th>\n",
        "      <th>investor_name</th>\n",
        "      <th>investor_category_code</th>\n",
        "      <th>investor_country_code</th>\n",
        "      <th>investor_state_code</th>\n",
        "      <th>investor_region</th>\n",
        "      <th>investor_city</th>\n",
        "      <th>funding_round_type</th>\n",
        "      <th>funded_at</th>\n",
        "      <th>funded_month</th>\n",
        "      <th>funded_quarter</th>\n",
        "      <th>funded_year</th>\n",
        "      <th>raised_amount_usd</th>\n",
        "    </tr>\n",
        "  </thead>\n",
        "  <tbody>\n",
        "    <tr>\n",
        "      <th>0</th>\n",
        "      <td> /company/tokita-investments</td>\n",
        "      <td> Tokita Investments</td>\n",
        "      <td>  consulting</td>\n",
        "      <td> JPN</td>\n",
        "      <td>   </td>\n",
        "      <td>      TBD</td>\n",
        "      <td>   Okinawa Ken</td>\n",
        "      <td>        /company/01startups</td>\n",
        "      <td>        01Startups</td>\n",
        "      <td>          </td>\n",
        "      <td>    </td>\n",
        "      <td>   </td>\n",
        "      <td>  unknown</td>\n",
        "      <td>         </td>\n",
        "      <td>    angel</td>\n",
        "      <td>  9/26/2013</td>\n",
        "      <td> 2013-09</td>\n",
        "      <td> 2013-Q3</td>\n",
        "      <td> 2013</td>\n",
        "      <td>    5000</td>\n",
        "    </tr>\n",
        "    <tr>\n",
        "      <th>1</th>\n",
        "      <td>           /company/advercar</td>\n",
        "      <td>           AdverCar</td>\n",
        "      <td> advertising</td>\n",
        "      <td> USA</td>\n",
        "      <td> CA</td>\n",
        "      <td>   SF Bay</td>\n",
        "      <td> San Francisco</td>\n",
        "      <td> /company/1-800-flowers-com</td>\n",
        "      <td> 1-800-FLOWERS.COM</td>\n",
        "      <td> ecommerce</td>\n",
        "      <td> USA</td>\n",
        "      <td> NY</td>\n",
        "      <td> New York</td>\n",
        "      <td> New York</td>\n",
        "      <td> series-a</td>\n",
        "      <td> 10/30/2012</td>\n",
        "      <td> 2012-10</td>\n",
        "      <td> 2012-Q4</td>\n",
        "      <td> 2012</td>\n",
        "      <td> 2000000</td>\n",
        "    </tr>\n",
        "    <tr>\n",
        "      <th>2</th>\n",
        "      <td>         /company/launchgram</td>\n",
        "      <td>         LaunchGram</td>\n",
        "      <td>        news</td>\n",
        "      <td> USA</td>\n",
        "      <td> CA</td>\n",
        "      <td>   SF Bay</td>\n",
        "      <td> Mountain View</td>\n",
        "      <td>       /company/10xelerator</td>\n",
        "      <td>       10Xelerator</td>\n",
        "      <td>   finance</td>\n",
        "      <td> USA</td>\n",
        "      <td> OH</td>\n",
        "      <td> Columbus</td>\n",
        "      <td> Columbus</td>\n",
        "      <td>    other</td>\n",
        "      <td>  1/23/2012</td>\n",
        "      <td> 2012-01</td>\n",
        "      <td> 2012-Q1</td>\n",
        "      <td> 2012</td>\n",
        "      <td>   20000</td>\n",
        "    </tr>\n",
        "    <tr>\n",
        "      <th>3</th>\n",
        "      <td>               /company/utap</td>\n",
        "      <td>               uTaP</td>\n",
        "      <td>   messaging</td>\n",
        "      <td> USA</td>\n",
        "      <td> OH</td>\n",
        "      <td> Columbus</td>\n",
        "      <td>      Columbus</td>\n",
        "      <td>       /company/10xelerator</td>\n",
        "      <td>       10Xelerator</td>\n",
        "      <td>   finance</td>\n",
        "      <td> USA</td>\n",
        "      <td> OH</td>\n",
        "      <td> Columbus</td>\n",
        "      <td> Columbus</td>\n",
        "      <td>    other</td>\n",
        "      <td>   1/1/2012</td>\n",
        "      <td> 2012-01</td>\n",
        "      <td> 2012-Q1</td>\n",
        "      <td> 2012</td>\n",
        "      <td>   20000</td>\n",
        "    </tr>\n",
        "    <tr>\n",
        "      <th>4</th>\n",
        "      <td>           /company/zoopshop</td>\n",
        "      <td>           ZoopShop</td>\n",
        "      <td>    software</td>\n",
        "      <td> USA</td>\n",
        "      <td> OH</td>\n",
        "      <td> Columbus</td>\n",
        "      <td>      columbus</td>\n",
        "      <td>       /company/10xelerator</td>\n",
        "      <td>       10Xelerator</td>\n",
        "      <td>   finance</td>\n",
        "      <td> USA</td>\n",
        "      <td> OH</td>\n",
        "      <td> Columbus</td>\n",
        "      <td> Columbus</td>\n",
        "      <td>    angel</td>\n",
        "      <td>  2/15/2012</td>\n",
        "      <td> 2012-02</td>\n",
        "      <td> 2012-Q1</td>\n",
        "      <td> 2012</td>\n",
        "      <td>   20000</td>\n",
        "    </tr>\n",
        "  </tbody>\n",
        "</table>\n",
        "<p>5 rows \u00d7 20 columns</p>\n",
        "</div>"
       ],
       "metadata": {},
       "output_type": "pyout",
       "prompt_number": 21,
       "text": [
        "             company_permalink        company_name company_category_code  \\\n",
        "0  /company/tokita-investments  Tokita Investments            consulting   \n",
        "1            /company/advercar            AdverCar           advertising   \n",
        "2          /company/launchgram          LaunchGram                  news   \n",
        "3                /company/utap                uTaP             messaging   \n",
        "4            /company/zoopshop            ZoopShop              software   \n",
        "\n",
        "  company_country_code company_state_code company_region   company_city  \\\n",
        "0                  JPN                               TBD    Okinawa Ken   \n",
        "1                  USA                 CA         SF Bay  San Francisco   \n",
        "2                  USA                 CA         SF Bay  Mountain View   \n",
        "3                  USA                 OH       Columbus       Columbus   \n",
        "4                  USA                 OH       Columbus       columbus   \n",
        "\n",
        "           investor_permalink      investor_name investor_category_code  \\\n",
        "0         /company/01startups         01Startups                          \n",
        "1  /company/1-800-flowers-com  1-800-FLOWERS.COM              ecommerce   \n",
        "2        /company/10xelerator        10Xelerator                finance   \n",
        "3        /company/10xelerator        10Xelerator                finance   \n",
        "4        /company/10xelerator        10Xelerator                finance   \n",
        "\n",
        "  investor_country_code investor_state_code investor_region investor_city  \\\n",
        "0                                                   unknown                 \n",
        "1                   USA                  NY        New York      New York   \n",
        "2                   USA                  OH        Columbus      Columbus   \n",
        "3                   USA                  OH        Columbus      Columbus   \n",
        "4                   USA                  OH        Columbus      Columbus   \n",
        "\n",
        "  funding_round_type   funded_at funded_month funded_quarter  funded_year  \\\n",
        "0              angel   9/26/2013      2013-09        2013-Q3         2013   \n",
        "1           series-a  10/30/2012      2012-10        2012-Q4         2012   \n",
        "2              other   1/23/2012      2012-01        2012-Q1         2012   \n",
        "3              other    1/1/2012      2012-01        2012-Q1         2012   \n",
        "4              angel   2/15/2012      2012-02        2012-Q1         2012   \n",
        "\n",
        "   raised_amount_usd  \n",
        "0               5000  \n",
        "1            2000000  \n",
        "2              20000  \n",
        "3              20000  \n",
        "4              20000  \n",
        "\n",
        "[5 rows x 20 columns]"
       ]
      }
     ],
     "prompt_number": 21
    },
    {
     "cell_type": "markdown",
     "metadata": {},
     "source": [
      "Length of dataset (number)"
     ]
    },
    {
     "cell_type": "code",
     "collapsed": false,
     "input": [
      "len(investments)"
     ],
     "language": "python",
     "metadata": {},
     "outputs": [
      {
       "metadata": {},
       "output_type": "pyout",
       "prompt_number": 22,
       "text": [
        "1000"
       ]
      }
     ],
     "prompt_number": 22
    },
    {
     "cell_type": "markdown",
     "metadata": {},
     "source": [
      "Funding events over time (y = count, x = funding_date)"
     ]
    },
    {
     "cell_type": "code",
     "collapsed": false,
     "input": [
      "filter = (investments.funded_year > 2000) & (investments.funded_year <= 2013)\n",
      "count = investments[filter].groupby('funded_year').count()['company_permalink']\n",
      "ax = count.plot(title=\"Count of funding events by year (2010-2013]\",color=COLOR_GREEN)\n",
      "ax.set_ylabel('Number of Fundings')\n",
      "ax.set_xlabel('Year')\n",
      "plt.show()"
     ],
     "language": "python",
     "metadata": {},
     "outputs": [
      {
       "metadata": {},
       "output_type": "display_data",
       "png": "[encoded data removed]",
       "text": [
        "<matplotlib.figure.Figure at 0x10dbca650>"
       ]
      }
     ],
     "prompt_number": 58
    },
    {
     "cell_type": "markdown",
     "metadata": {},
     "source": [
      "Investments by stage (funding_round in investments.csv) bar chart"
     ]
    },
    {
     "cell_type": "code",
     "collapsed": false,
     "input": [
      "invest_pivot = pd.pivot_table(investments, cols=['funding_round_type'],aggfunc=\"count\").ix[0]\n",
      "invest_pivot.plot(kind='barh')\n",
      "invest_pivot.index\n",
      "plt.show()"
     ],
     "language": "python",
     "metadata": {},
     "outputs": [
      {
       "metadata": {},
       "output_type": "display_data",
       "png": "[encoded data removed]",
       "text": [
        "<matplotlib.figure.Figure at 0x10dc00390>"
       ]
      }
     ],
     "prompt_number": 59
    },
    {
     "cell_type": "markdown",
     "metadata": {},
     "source": [
      "Amount of investments by VC (top 20)"
     ]
    },
    {
     "cell_type": "code",
     "collapsed": false,
     "input": [
      "grouped_investors = investments[investments.investor_country_code == 'USA'].groupby('investor_name')"
     ],
     "language": "python",
     "metadata": {},
     "outputs": [],
     "prompt_number": 25
    },
    {
     "cell_type": "code",
     "collapsed": false,
     "input": [
      "grouped_investors.mean()['raised_amount_usd'].order(ascending=False).head(20).plot(kind='bar',color=COLOR_ORANGE)\n",
      "plt.show()"
     ],
     "language": "python",
     "metadata": {},
     "outputs": [
      {
       "metadata": {},
       "output_type": "display_data",
       "png": "[encoded data removed]",
       "text": [
        "<matplotlib.figure.Figure at 0x10d714590>"
       ]
      }
     ],
     "prompt_number": 60
    },
    {
     "cell_type": "markdown",
     "metadata": {},
     "source": [
      "Top funding companies by amount"
     ]
    },
    {
     "cell_type": "code",
     "collapsed": false,
     "input": [
      "means = grouped_investors.mean()\n",
      "tops = means.sort('raised_amount_usd',ascending=False)[:10]\n",
      "tops.plot(tops.index,y='raised_amount_usd',kind='bar',color=COLOR_RED)\n",
      "plt.show()"
     ],
     "language": "python",
     "metadata": {},
     "outputs": [
      {
       "metadata": {},
       "output_type": "display_data",
       "png": "[encoded data removed]",
       "text": [
        "<matplotlib.figure.Figure at 0x1119b19d0>"
       ]
      }
     ],
     "prompt_number": 61
    },
    {
     "cell_type": "markdown",
     "metadata": {},
     "source": [
      "<br>/////////////////////////////////////////////////////////////////////////////////////////////////////////////////////////////////////////////////////////////////////////////////////////////////////////////////////////////////<br><br>"
     ]
    },
    {
     "cell_type": "markdown",
     "metadata": {},
     "source": [
      "<h1 style=\"font-size:20px;line-height:0px;margin-bottom:10px;text-transform:uppercase;color:#3376A3\">4 / Location</h1>"
     ]
    },
    {
     "cell_type": "markdown",
     "metadata": {},
     "source": [
      "Top states for acquisitions (x = state, y = count of acquisitions, limit = 10, bar)"
     ]
    },
    {
     "cell_type": "code",
     "collapsed": false,
     "input": [
      "#Top 10 states for doing startups\n",
      "grpby_state = acquisitions[acquisitions.company_state_code != ''].groupby('company_state_code').count()\n",
      "grpby_state.sort('company_state_code',ascending=False).head(10)['company_permalink'].plot(color=COLOR_GREEN,legend=False,title=\"Top 10 states for doing startups\", kind = \"bar\")\n",
      "plt.show()"
     ],
     "language": "python",
     "metadata": {},
     "outputs": [
      {
       "metadata": {},
       "output_type": "display_data",
       "png": "[encoded data removed]",
       "text": [
        "<matplotlib.figure.Figure at 0x10d73de10>"
       ]
      }
     ],
     "prompt_number": 62
    },
    {
     "cell_type": "markdown",
     "metadata": {},
     "source": [
      "Top cities for acquisitions (x = city, y = count of acquired company and count of acquirer company location, limit = 10, bar)"
     ]
    },
    {
     "cell_type": "code",
     "collapsed": false,
     "input": [
      "filter = (acquisitions.price_amount > 1) & (acquisitions.company_country_code == 'USA') & (acquisitions.company_city != '')\n",
      "#top cities that have a company city listed\n",
      "company_group = acquisitions[filter].groupby('company_city').count().sort('company_permalink',ascending=False)[:20]\n",
      "top_cities_acquired = company_group['company_permalink']\n",
      "top_cities_acquirer = acquisitions[filter].groupby('acquirer_city').count().ix[top_cities_acquired.index]['company_permalink']\n",
      "\n",
      "#plt.xticks(rotation=45)\n",
      "top_cities_acquirer.plot(kind='bar',color=COLOR_RED,legend=True,label='Acquirer City')\n",
      "top_cities_acquired.plot(kind='bar',color=COLOR_ORANGE,stacked=True,legend=True,label='Acquired City')\n",
      "plt.show()"
     ],
     "language": "python",
     "metadata": {},
     "outputs": [
      {
       "metadata": {},
       "output_type": "display_data",
       "png": "[encoded data removed]",
       "text": [
        "<matplotlib.figure.Figure at 0x10dc13290>"
       ]
      }
     ],
     "prompt_number": 63
    },
    {
     "cell_type": "markdown",
     "metadata": {},
     "source": [
      "Top cities for acquisitions by purchase amount (x = city, y = purchase price, limit = 20, bar)"
     ]
    },
    {
     "cell_type": "code",
     "collapsed": false,
     "input": [
      "company_group = acquisitions[filter].groupby('company_city').agg(['median', 'mean', 'count'])['price_amount']\n",
      "top_price = company_group[company_group['count'] > 10].sort('median',ascending=False).head(20)\n",
      "top_price.plot(y=['mean','median'], kind='bar',color=[COLOR_BLUE,COLOR_GREEN],title='Top cities for acquisitions by median (green) and mean (blue) amount of funding')\n",
      "plt.show()"
     ],
     "language": "python",
     "metadata": {},
     "outputs": [
      {
       "metadata": {},
       "output_type": "display_data",
       "png": "[encoded data removed]",
       "text": [
        "<matplotlib.figure.Figure at 0x1119aead0>"
       ]
      }
     ],
     "prompt_number": 64
    },
    {
     "cell_type": "markdown",
     "metadata": {},
     "source": [
      "Visualization of cities"
     ]
    },
    {
     "cell_type": "code",
     "collapsed": false,
     "input": [
      "# This code generates a JSON list of cities with lat long values\n",
      "from geopy.geocoders import GoogleV3\n",
      "geolocator = GoogleV3()\n",
      "\n",
      "def geocode(city, count):\n",
      "    try:\n",
      "        address, (lat, lng) = geolocator.geocode(city)\n",
      "        return {'city' : city, 'lat' : lat, 'lng' : lng, 'count': count}\n",
      "    except:\n",
      "        return {'city' : city, 'lat' : None, 'lng' : None, 'count': count}\n",
      "\n",
      "coords = [geocode(k,v) for k,v in top_cities_acquired.iteritems()]\n"
     ],
     "language": "python",
     "metadata": {},
     "outputs": [],
     "prompt_number": 31
    },
    {
     "cell_type": "code",
     "collapsed": false,
     "input": [
      "print coords"
     ],
     "language": "python",
     "metadata": {},
     "outputs": [
      {
       "output_type": "stream",
       "stream": "stdout",
       "text": [
        "[{'lat': 37.7749295, 'city': 'San Francisco', 'lng': -122.4194155, 'count': 113}, {'lat': 40.7143528, 'city': 'New York', 'lng': -74.00597309999999, 'count': 89}, {'lat': 37.3860517, 'city': 'Mountain View', 'lng': -122.0838511, 'count': 47}, {'lat': 37.3541079, 'city': 'Santa Clara', 'lng': -121.9552356, 'count': 44}, {'lat': 37.36883, 'city': 'Sunnyvale', 'lng': -122.0363496, 'count': 38}, {'lat': 37.4418834, 'city': 'Palo Alto', 'lng': -122.1430195, 'count': 37}, {'lat': 37.3393857, 'city': 'San Jose', 'lng': -121.8949555, 'count': 33}, {'lat': 47.6062095, 'city': 'Seattle', 'lng': -122.3320708, 'count': 32}, {'lat': 32.7154595, 'city': 'San Diego', 'lng': -117.1614801, 'count': 31}, {'lat': 30.267153, 'city': 'Austin', 'lng': -97.7430608, 'count': 26}, {'lat': 42.3736158, 'city': 'Cambridge', 'lng': -71.10973349999999, 'count': 24}, {'lat': 41.8781136, 'city': 'Chicago', 'lng': -87.6297982, 'count': 23}, {'lat': 37.48521520000001, 'city': 'Redwood City', 'lng': -122.2363548, 'count': 21}, {'lat': 34.0522342, 'city': 'Los Angeles', 'lng': -118.2436849, 'count': 21}, {'lat': 42.3584308, 'city': 'Boston', 'lng': -71.0597732, 'count': 19}, {'lat': 37.5629917, 'city': 'San Mateo', 'lng': -122.3255254, 'count': 17}, {'lat': 33.6839473, 'city': 'Irvine', 'lng': -117.7946942, 'count': 17}, {'lat': None, 'city': 'Waltham', 'lng': None, 'count': 16}, {'lat': 33.7489954, 'city': 'Atlanta', 'lng': -84.3879824, 'count': 14}, {'lat': 29.7601927, 'city': 'Houston', 'lng': -95.36938959999999, 'count': 13}]\n"
       ]
      }
     ],
     "prompt_number": 32
    },
    {
     "cell_type": "code",
     "collapsed": false,
     "input": [
      "%%html\n",
      "<div id=\"markers\" class=\"map-canvas\" style=\"height:500px;max-width:inherit\"></div>"
     ],
     "language": "python",
     "metadata": {},
     "outputs": [
      {
       "html": [
        "<div id=\"markers\" class=\"map-canvas\" style=\"height:500px;max-width:inherit\"></div>"
       ],
       "metadata": {},
       "output_type": "display_data",
       "text": [
        "<IPython.core.display.HTML at 0x10b5e7cd0>"
       ]
      }
     ],
     "prompt_number": 33
    },
    {
     "cell_type": "code",
     "collapsed": false,
     "input": [
      "%%javascript\n",
      "\n",
      "//coordinates generated from above\n",
      "var coords = [{'lat': 37.7749295, 'city': 'San Francisco', 'lng': -122.4194155, 'count': 452}, \n",
      "              {'lat': 40.7143528, 'city': 'New York', 'lng': -74.00597309999999, 'count': 358}, \n",
      "              {'lat': 37.3860517, 'city': 'Mountain View', 'lng': -122.0838511, 'count': 129}, \n",
      "              {'lat': 47.6062095, 'city': 'Seattle', 'lng': -122.3320708, 'count': 118}, \n",
      "              {'lat': 37.4418834, 'city': 'Palo Alto', 'lng': -122.1430195, 'count': 113}, \n",
      "              {'lat': 30.267153, 'city': 'Austin', 'lng': -97.7430608, 'count': 106}, \n",
      "              {'lat': 37.36883, 'city': 'Sunnyvale', 'lng': -122.0363496, 'count': 102}, \n",
      "              {'lat': 37.3541079, 'city': 'Santa Clara', 'lng': -121.9552356, 'count': 97}, \n",
      "              {'lat': 41.8781136, 'city': 'Chicago', 'lng': -87.6297982, 'count': 89}, \n",
      "              {'lat': 37.3393857, 'city': 'San Jose', 'lng': -121.8949555, 'count': 88}, \n",
      "              {'lat': 32.7153292, 'city': 'San Diego', 'lng': -117.1572551, 'count': 83}, \n",
      "              {'lat': 37.5629917, 'city': 'San Mateo', 'lng': -122.3255254, 'count': 81}, \n",
      "              {'lat': 42.3736158, 'city': 'Cambridge', 'lng': -71.10973349999999, 'count': 67}, \n",
      "              {'lat': 34.0522342, 'city': 'Los Angeles', 'lng': -118.2436849, 'count': 66}, \n",
      "              {'lat': 42.3584308, 'city': 'Boston', 'lng': -71.0597732, 'count': 61}, \n",
      "              {'lat': 37.48521520000001, 'city': 'Redwood City', 'lng': -122.2363548, 'count': 53}, \n",
      "              {'lat': 33.7489954, 'city': 'Atlanta', 'lng': -84.3879824, 'count': 52}, \n",
      "              {'lat': 33.6839473, 'city': 'Irvine', 'lng': -117.7946942, 'count': 45}, \n",
      "              {'lat': 42.3764852, 'city': 'Waltham', 'lng': -71.2356113, 'count': 44}, \n",
      "              {'lat': 32.7801399, 'city': 'Dallas', 'lng': -96.80045109999999, 'count': 43}]\n",
      "\n",
      "\n",
      "// This example creates circles on the map, representing\n",
      "// populations in the United States.\n",
      "\n",
      "// First, create an object containing LatLng and population for each city.\n",
      "\n",
      "    var mapOptions = {\n",
      "        zoom: 4,\n",
      "        center: new google.maps.LatLng(37.09024, -95.712891),\n",
      "        mapTypeId: google.maps.MapTypeId.CITY_MAP\n",
      "    };\n",
      "\n",
      "  var map = new google.maps.Map(document.getElementById('markers'),\n",
      "      mapOptions);\n",
      "\n",
      "  // Construct the circle for each value in citymap.\n",
      "  // Note: We scale the count by a factor of 20.\n",
      "  for (var i = 0; i < coords.length; i++) {\n",
      "    var c = coords[i];\n",
      "    var circle = {\n",
      "      path: google.maps.SymbolPath.CIRCLE,\n",
      "      fillColor: 'red',\n",
      "      fillOpacity: 0.3,\n",
      "      strokeColor:'red',\n",
      "      strokeOpacity:1,\n",
      "      strokeWeight:1,\n",
      "      scale: Math.round(c['count'] / 20)\n",
      "    };\n",
      "      \n",
      "    var marker = new google.maps.Marker({\n",
      "        position: new google.maps.LatLng(c['lat'],c['lng']),\n",
      "        map: map,\n",
      "        icon: circle,\n",
      "        title: c['city']\n",
      "    });\n",
      "      \n",
      "  }\n"
     ],
     "language": "python",
     "metadata": {},
     "outputs": [
      {
       "javascript": [
        "\n",
        "//coordinates generated from above\n",
        "var coords = [{'lat': 37.7749295, 'city': 'San Francisco', 'lng': -122.4194155, 'count': 452}, \n",
        "              {'lat': 40.7143528, 'city': 'New York', 'lng': -74.00597309999999, 'count': 358}, \n",
        "              {'lat': 37.3860517, 'city': 'Mountain View', 'lng': -122.0838511, 'count': 129}, \n",
        "              {'lat': 47.6062095, 'city': 'Seattle', 'lng': -122.3320708, 'count': 118}, \n",
        "              {'lat': 37.4418834, 'city': 'Palo Alto', 'lng': -122.1430195, 'count': 113}, \n",
        "              {'lat': 30.267153, 'city': 'Austin', 'lng': -97.7430608, 'count': 106}, \n",
        "              {'lat': 37.36883, 'city': 'Sunnyvale', 'lng': -122.0363496, 'count': 102}, \n",
        "              {'lat': 37.3541079, 'city': 'Santa Clara', 'lng': -121.9552356, 'count': 97}, \n",
        "              {'lat': 41.8781136, 'city': 'Chicago', 'lng': -87.6297982, 'count': 89}, \n",
        "              {'lat': 37.3393857, 'city': 'San Jose', 'lng': -121.8949555, 'count': 88}, \n",
        "              {'lat': 32.7153292, 'city': 'San Diego', 'lng': -117.1572551, 'count': 83}, \n",
        "              {'lat': 37.5629917, 'city': 'San Mateo', 'lng': -122.3255254, 'count': 81}, \n",
        "              {'lat': 42.3736158, 'city': 'Cambridge', 'lng': -71.10973349999999, 'count': 67}, \n",
        "              {'lat': 34.0522342, 'city': 'Los Angeles', 'lng': -118.2436849, 'count': 66}, \n",
        "              {'lat': 42.3584308, 'city': 'Boston', 'lng': -71.0597732, 'count': 61}, \n",
        "              {'lat': 37.48521520000001, 'city': 'Redwood City', 'lng': -122.2363548, 'count': 53}, \n",
        "              {'lat': 33.7489954, 'city': 'Atlanta', 'lng': -84.3879824, 'count': 52}, \n",
        "              {'lat': 33.6839473, 'city': 'Irvine', 'lng': -117.7946942, 'count': 45}, \n",
        "              {'lat': 42.3764852, 'city': 'Waltham', 'lng': -71.2356113, 'count': 44}, \n",
        "              {'lat': 32.7801399, 'city': 'Dallas', 'lng': -96.80045109999999, 'count': 43}]\n",
        "\n",
        "\n",
        "// This example creates circles on the map, representing\n",
        "// populations in the United States.\n",
        "\n",
        "// First, create an object containing LatLng and population for each city.\n",
        "\n",
        "    var mapOptions = {\n",
        "        zoom: 4,\n",
        "        center: new google.maps.LatLng(37.09024, -95.712891),\n",
        "        mapTypeId: google.maps.MapTypeId.CITY_MAP\n",
        "    };\n",
        "\n",
        "  var map = new google.maps.Map(document.getElementById('markers'),\n",
        "      mapOptions);\n",
        "\n",
        "  // Construct the circle for each value in citymap.\n",
        "  // Note: We scale the count by a factor of 20.\n",
        "  for (var i = 0; i < coords.length; i++) {\n",
        "    var c = coords[i];\n",
        "    var circle = {\n",
        "      path: google.maps.SymbolPath.CIRCLE,\n",
        "      fillColor: 'red',\n",
        "      fillOpacity: 0.3,\n",
        "      strokeColor:'red',\n",
        "      strokeOpacity:1,\n",
        "      strokeWeight:1,\n",
        "      scale: Math.round(c['count'] / 20)\n",
        "    };\n",
        "      \n",
        "    var marker = new google.maps.Marker({\n",
        "        position: new google.maps.LatLng(c['lat'],c['lng']),\n",
        "        map: map,\n",
        "        icon: circle,\n",
        "        title: c['city']\n",
        "    });\n",
        "      \n",
        "  }"
       ],
       "metadata": {},
       "output_type": "display_data",
       "text": [
        "<IPython.core.display.Javascript at 0x10b5e6c90>"
       ]
      }
     ],
     "prompt_number": 34
    },
    {
     "cell_type": "markdown",
     "metadata": {},
     "source": [
      "Average funding amount compared against distance between funded company city and investor city "
     ]
    },
    {
     "cell_type": "markdown",
     "metadata": {},
     "source": [
      "<br>/////////////////////////////////////////////////////////////////////////////////////////////////////////////////////////////////////////////////////////////////////////////////////////////////////////////////////////////////<br><br>"
     ]
    },
    {
     "cell_type": "markdown",
     "metadata": {},
     "source": [
      "<h1 style=\"font-size:20px;line-height:0px;margin-bottom:10px;text-transform:uppercase;color:#3376A3\">4 / Category</h1>"
     ]
    },
    {
     "cell_type": "markdown",
     "metadata": {},
     "source": [
      "Top categories for acquisitions (x = category, y = count of acquisitions, limit = 20, bar)"
     ]
    },
    {
     "cell_type": "code",
     "collapsed": false,
     "input": [
      "axes(aspect=1)\n",
      "print 'Percent of acquisitions by category'\n",
      "data = acquisitions.groupby('category_code').count()['company_permalink']\n",
      "plt.pie([data.values, labels=data.index, autopct='%d percent')"
     ],
     "language": "python",
     "metadata": {},
     "outputs": [
      {
       "ename": "SyntaxError",
       "evalue": "invalid syntax (<ipython-input-35-5efb8672bd4b>, line 4)",
       "output_type": "pyerr",
       "traceback": [
        "\u001b[0;36m  File \u001b[0;32m\"<ipython-input-35-5efb8672bd4b>\"\u001b[0;36m, line \u001b[0;32m4\u001b[0m\n\u001b[0;31m    plt.pie([data.values, labels=data.index, autopct='%d percent')\u001b[0m\n\u001b[0m                                ^\u001b[0m\n\u001b[0;31mSyntaxError\u001b[0m\u001b[0;31m:\u001b[0m invalid syntax\n"
       ]
      }
     ],
     "prompt_number": 35
    },
    {
     "cell_type": "markdown",
     "metadata": {},
     "source": [
      "Total funding by category (top 10-20) and year (x = years, y = amount of funding, stacked bar chart)"
     ]
    },
    {
     "cell_type": "code",
     "collapsed": false,
     "input": [],
     "language": "python",
     "metadata": {},
     "outputs": []
    },
    {
     "cell_type": "markdown",
     "metadata": {},
     "source": [
      "Number of acquisitions/exit by acquired company category (top 10-20) and year (x = years, y = count of acquisitions, stacked bar chart)"
     ]
    },
    {
     "cell_type": "code",
     "collapsed": false,
     "input": [],
     "language": "python",
     "metadata": {},
     "outputs": []
    },
    {
     "cell_type": "markdown",
     "metadata": {},
     "source": [
      "Comparison of 2 categories over time (line chart, x = year, y = total funding for all events for companies in that category, two lines 1 for each)"
     ]
    },
    {
     "cell_type": "code",
     "collapsed": false,
     "input": [],
     "language": "python",
     "metadata": {},
     "outputs": []
    },
    {
     "cell_type": "markdown",
     "metadata": {},
     "source": [
      "Comparison of 2 categories over time (bar chart, x = year, y = total # of exits in that category, two bars for each year)"
     ]
    },
    {
     "cell_type": "code",
     "collapsed": false,
     "input": [],
     "language": "python",
     "metadata": {},
     "outputs": []
    },
    {
     "cell_type": "markdown",
     "metadata": {},
     "source": [
      "Are companies acquiring in the same category or not? 2 lines in the chart, x = year, y = count of acquisitions where they have the same category, count where they are different"
     ]
    },
    {
     "cell_type": "code",
     "collapsed": false,
     "input": [],
     "language": "python",
     "metadata": {},
     "outputs": []
    },
    {
     "cell_type": "markdown",
     "metadata": {},
     "source": [
      "<br>/////////////////////////////////////////////////////////////////////////////////////////////////////////////////////////////////////////////////////////////////////////////////////////////////////////////////////////////////<br><br>"
     ]
    },
    {
     "cell_type": "markdown",
     "metadata": {},
     "source": [
      "<h1 style=\"font-size:20px;line-height:0px;margin-bottom:10px;text-transform:uppercase;color:#3376A3\">5 / Conclusions</h1>"
     ]
    },
    {
     "cell_type": "markdown",
     "metadata": {},
     "source": [
      "Blahblahblah"
     ]
    }
   ],
   "metadata": {}
  }
 ]
}