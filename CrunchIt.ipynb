{
 "metadata": {
  "name": "",
  "signature": "sha256:b61531d1161ad6b147d7f2a1ab1bcac6fca18c463429689ad10b19ded248a0d0"
 },
 "nbformat": 3,
 "nbformat_minor": 0,
 "worksheets": [
  {
   "cells": [
    {
     "cell_type": "heading",
     "level": 1,
     "metadata": {},
     "source": [
      "<h1 style=\"line-height:0px;\">Crunch It!  <span style=\"font-size:18px;color:#999\">by Kate Rushton and Prabha Matta</span></h1>"
     ]
    },
    {
     "cell_type": "markdown",
     "metadata": {},
     "source": [
      "Crunch It! is a Python-driven exploration of Crunchbase, a database of technology companies."
     ]
    },
    {
     "cell_type": "markdown",
     "metadata": {},
     "source": [
      "<br>/////////////////////////////////////////////////////////////////////////////////////////////////////////////////////////////////////////////////////////////////////////////////////////////////////////////////////////////////<br><br>"
     ]
    },
    {
     "cell_type": "markdown",
     "metadata": {},
     "source": [
      "<h1 style=\"font-size:20px;line-height:0px;margin-bottom:10px;text-transform:uppercase;color:#3376A3\">1 / Introduction</h1>"
     ]
    },
    {
     "cell_type": "markdown",
     "metadata": {},
     "source": [
      "<h2 style=\"font-size:15px; line-height:0px\">About Crunchbase</h2><hr style=\"line-height:0px;margin-bottom:-10px\"/>"
     ]
    },
    {
     "cell_type": "markdown",
     "metadata": {},
     "source": [
      "What is included in the dataset, how often it can be downloaded and where from, licensing terms\n",
      "\n",
      "http://info.crunchbase.com/about/crunchbase-data-exports/\n",
      "\n",
      "CrunchBase Terms of Service and Licensing Policy\n",
      "\n",
      "http://info.crunchbase.com/docs/terms-of-service/\n",
      "http://info.crunchbase.com/docs/privacy-policy/\n"
     ]
    },
    {
     "cell_type": "markdown",
     "metadata": {},
     "source": [
      "<h2 style=\"font-size:15px; line-height:0px\">Project Goals</h2><hr style=\"line-height:0px;margin-bottom:-10px\"/>"
     ]
    },
    {
     "cell_type": "markdown",
     "metadata": {},
     "source": [
      "What we we intend to show the reader."
     ]
    },
    {
     "cell_type": "markdown",
     "metadata": {},
     "source": [
      "<br>/////////////////////////////////////////////////////////////////////////////////////////////////////////////////////////////////////////////////////////////////////////////////////////////////////////////////////////////////<br><br>"
     ]
    },
    {
     "cell_type": "markdown",
     "metadata": {},
     "source": [
      "<h1 style=\"font-size:20px;line-height:0px;margin-bottom:10px;text-transform:uppercase;color:#3376A3\">2 / Importing Dependencies</h1>"
     ]
    },
    {
     "cell_type": "markdown",
     "metadata": {},
     "source": [
      "This project uses the following libraries:\n",
      "\n",
      "* Pandas\n",
      "* Pylab\n",
      "* Numpy\n",
      "* Scipy\n",
      "* Matplotlib\n",
      "* Seabourne"
     ]
    },
    {
     "cell_type": "code",
     "collapsed": false,
     "input": [
      "import numpy as np\n",
      "import scipy as sp\n",
      "import csv\n",
      "\n",
      "from pylab import figure, show\n",
      "from pandas import DataFrame, Series\n",
      "import pandas as pd\n",
      "\n",
      "%pylab inline\n",
      "%matplotlib inline\n",
      "import matplotlib.pyplot as plt\n"
     ],
     "language": "python",
     "metadata": {},
     "outputs": [
      {
       "output_type": "stream",
       "stream": "stdout",
       "text": [
        "Populating the interactive namespace from numpy and matplotlib\n"
       ]
      }
     ],
     "prompt_number": 202
    },
    {
     "cell_type": "code",
     "collapsed": false,
     "input": [
      "try:\n",
      "    import mpld3\n",
      "    from mpld3 import enable_notebook\n",
      "    from mpld3 import plugins\n",
      "    enable_notebook()\n",
      "except Exception as e:\n",
      "    print \"Attempt to import and enable mpld3 failed\", e\n",
      "mpld3.enable_notebook()"
     ],
     "language": "python",
     "metadata": {},
     "outputs": [],
     "prompt_number": 203
    },
    {
     "cell_type": "code",
     "collapsed": false,
     "input": [
      "try:\n",
      "    import seaborn as sns\n",
      "except Exception as e:\n",
      "    print \"Attempt to import and enable seaborn failed\", e"
     ],
     "language": "python",
     "metadata": {},
     "outputs": [],
     "prompt_number": 204
    },
    {
     "cell_type": "code",
     "collapsed": false,
     "input": [
      "#define colors to use in charts\n",
      "COLOR_GRAY = \"#EEEEEE\"\n",
      "COLOR_WHITE = \"#FFFFFF\"\n",
      "COLOR_RED = \"#FC3F52\"\n",
      "COLOR_BLUE = \"#3376A3\"\n",
      "COLOR_ORANGE = \"#F5CB4E\"\n",
      "COLOR_BLACK = \"#303030\"\n",
      "COLOR_GREEN = \"#5FBD48\""
     ],
     "language": "python",
     "metadata": {},
     "outputs": [],
     "prompt_number": 84
    },
    {
     "cell_type": "markdown",
     "metadata": {},
     "source": [
      "<br>/////////////////////////////////////////////////////////////////////////////////////////////////////////////////////////////////////////////////////////////////////////////////////////////////////////////////////////////////<br><br>"
     ]
    },
    {
     "cell_type": "markdown",
     "metadata": {},
     "source": [
      "<h1 style=\"font-size:20px;line-height:0px;margin-bottom:10px;text-transform:uppercase;color:#3376A3\">3 / Loading and Cleaning Data</h1>"
     ]
    },
    {
     "cell_type": "markdown",
     "metadata": {},
     "source": [
      "<h2 style=\"font-size:15px; line-height:0px\">Companies</h2><hr style=\"line-height:0px;margin-bottom:-10px\"/>"
     ]
    },
    {
     "cell_type": "markdown",
     "metadata": {},
     "source": [
      "The **companies** data set lists data about companies big and small. It also includes companies that are no longer in existence, whether because they were acquired or went out of business."
     ]
    },
    {
     "cell_type": "code",
     "collapsed": false,
     "input": [
      "# Loading all companies dataset\n",
      "all_companies = pd.read_csv('crunchbase_monthly_export_companies.csv')\n",
      "#cleanup NaN cells\n",
      "all_companies.fillna(\"\",inplace=True)"
     ],
     "language": "python",
     "metadata": {},
     "outputs": [],
     "prompt_number": 113
    },
    {
     "cell_type": "markdown",
     "metadata": {},
     "source": [
      "<h2 style=\"font-size:15px; line-height:0px\">Acquisitions and IPOs</h2><hr style=\"line-height:0px;margin-bottom:-10px\"/>"
     ]
    },
    {
     "cell_type": "markdown",
     "metadata": {},
     "source": [
      "The **acquisitions** data set lists acquisitions - when a larger company purchases a smaller one. It includes information about both the purchasing company and the purchased company. The purchase price is also included if known.\n",
      "\n",
      "We can also use this dataset and the companies set to analyze successful \"exits\" - when a company is either acquired by another or goes public."
     ]
    },
    {
     "cell_type": "code",
     "collapsed": false,
     "input": [
      "# Loading acquired companies dataset\n",
      "acquisitions = pd.read_csv('crunchbase_monthly_export_acquisitions.csv')\n",
      "acquisitions.fillna(\"\",inplace=True)\n",
      "\n",
      "#Exploring companies which have been aquired or had an IPO (successful exit)\n",
      "exited_companies = all_companies[all_companies['status'].isin(['acquired','ipo'])].fillna(0)"
     ],
     "language": "python",
     "metadata": {},
     "outputs": [],
     "prompt_number": 232
    },
    {
     "cell_type": "markdown",
     "metadata": {},
     "source": [
      "<h2 style=\"font-size:15px; line-height:0px\">Investments</h2><hr style=\"line-height:0px;margin-bottom:-10px\"/>"
     ]
    },
    {
     "cell_type": "markdown",
     "metadata": {},
     "source": [
      "The **investments** data set lists individual funding events. It includes information about both the investing company and the receiving company as well as the amount, type, and date of the investment."
     ]
    },
    {
     "cell_type": "code",
     "collapsed": false,
     "input": [
      "investments = pd.read_csv('crunchbase_monthly_export_investments.csv')\n",
      "investments.fillna(\"\",inplace=True)"
     ],
     "language": "python",
     "metadata": {},
     "outputs": [],
     "prompt_number": 42
    },
    {
     "cell_type": "markdown",
     "metadata": {},
     "source": [
      "<h2 style=\"font-size:15px; line-height:0px\">Specific Data Cleanup Challenges</h2><hr style=\"line-height:0px;margin-bottom:-10px\"/>"
     ]
    },
    {
     "cell_type": "markdown",
     "metadata": {},
     "source": [
      "**Money**\n",
      "\n",
      "The dataset has monetary values in string format (eg, 100,000). We must convert all applicable columns to their number equivalent. However, some places there is no value so the use of '' throws off this conversion. We are replacing the missing values with -1 so we can drop them later."
     ]
    },
    {
     "cell_type": "code",
     "collapsed": false,
     "input": [
      "def convert_money(x):\n",
      "    if (x == '' or x == ' '):\n",
      "        return -1\n",
      "    else:\n",
      "        return int(str(x).replace(',', ''))\n",
      "\n",
      "acquisitions.price_amount = acquisitions.price_amount.apply(convert_money)\n",
      "all_companies.funding_total_usd = all_companies.funding_total_usd.apply(convert_money)"
     ],
     "language": "python",
     "metadata": {},
     "outputs": [],
     "prompt_number": 226
    },
    {
     "cell_type": "markdown",
     "metadata": {},
     "source": [
      "**Dates**\n",
      "\n",
      "There are a number of date fields in the data that should be converted to Pandas' datetime format so they can be used in time series plots"
     ]
    },
    {
     "cell_type": "code",
     "collapsed": false,
     "input": [
      "def convert_to_date(x):\n",
      "    return pd.to_datetime(x)\n",
      "    \n",
      "acquisitions['acquired_at'] = acquisitions.acquired_at.apply(convert_to_date)\n",
      "all_companies['founded_at'] = all_companies.founded_at.apply(convert_to_date)"
     ],
     "language": "python",
     "metadata": {},
     "outputs": [],
     "prompt_number": 235
    },
    {
     "cell_type": "markdown",
     "metadata": {},
     "source": [
      "<br>/////////////////////////////////////////////////////////////////////////////////////////////////////////////////////////////////////////////////////////////////////////////////////////////////////////////////////////////////<br><br>"
     ]
    },
    {
     "cell_type": "markdown",
     "metadata": {},
     "source": [
      "<h1 style=\"font-size:20px;line-height:0px;margin-bottom:10px;text-transform:uppercase;color:#3376A3\">4 / What's In the Dataset?</h1>"
     ]
    },
    {
     "cell_type": "markdown",
     "metadata": {},
     "source": [
      "<h2 style=\"font-size:15px; line-height:0px\">Acquisitions</h2><hr style=\"line-height:0px;margin-bottom:-10px\"/>"
     ]
    },
    {
     "cell_type": "markdown",
     "metadata": {},
     "source": [
      "What data is available?"
     ]
    },
    {
     "cell_type": "code",
     "collapsed": false,
     "input": [
      "acquisitions.columns"
     ],
     "language": "python",
     "metadata": {},
     "outputs": [
      {
       "metadata": {},
       "output_type": "pyout",
       "prompt_number": 104,
       "text": [
        "Index([u'company_permalink', u'company_name', u'company_category_code', u'company_country_code', u'company_state_code', u'company_region', u'company_city', u'acquirer_permalink', u'acquirer_name', u'acquirer_category_code', u'acquirer_country_code', u'acquirer_state_code', u'acquirer_region', u'acquirer_city', u'acquired_at', u'acquired_month', u'acquired_quarter', u'acquired_year', u'price_amount', u'price_currency_code'], dtype='object')"
       ]
      }
     ],
     "prompt_number": 104
    },
    {
     "cell_type": "markdown",
     "metadata": {},
     "source": [
      "Sample aquisitions rows"
     ]
    },
    {
     "cell_type": "code",
     "collapsed": false,
     "input": [
      "acquisitions.head()"
     ],
     "language": "python",
     "metadata": {},
     "outputs": [
      {
       "html": [
        "<div style=\"max-height:1000px;max-width:1500px;overflow:auto;\">\n",
        "<table border=\"1\" class=\"dataframe\">\n",
        "  <thead>\n",
        "    <tr style=\"text-align: right;\">\n",
        "      <th></th>\n",
        "      <th>company_permalink</th>\n",
        "      <th>company_name</th>\n",
        "      <th>company_category_code</th>\n",
        "      <th>company_country_code</th>\n",
        "      <th>company_state_code</th>\n",
        "      <th>company_region</th>\n",
        "      <th>company_city</th>\n",
        "      <th>acquirer_permalink</th>\n",
        "      <th>acquirer_name</th>\n",
        "      <th>acquirer_category_code</th>\n",
        "      <th>acquirer_country_code</th>\n",
        "      <th>acquirer_state_code</th>\n",
        "      <th>acquirer_region</th>\n",
        "      <th>acquirer_city</th>\n",
        "      <th>acquired_at</th>\n",
        "      <th>acquired_month</th>\n",
        "      <th>acquired_quarter</th>\n",
        "      <th>acquired_year</th>\n",
        "      <th>price_amount</th>\n",
        "      <th>price_currency_code</th>\n",
        "    </tr>\n",
        "  </thead>\n",
        "  <tbody>\n",
        "    <tr>\n",
        "      <th>0</th>\n",
        "      <td>                                  /company/waywire</td>\n",
        "      <td>                                    #waywire</td>\n",
        "      <td> news</td>\n",
        "      <td> USA</td>\n",
        "      <td> NY</td>\n",
        "      <td> New York</td>\n",
        "      <td>   New York</td>\n",
        "      <td>               /company/magnify</td>\n",
        "      <td>                Magnify</td>\n",
        "      <td> games_video</td>\n",
        "      <td> USA</td>\n",
        "      <td> NY</td>\n",
        "      <td>    New York</td>\n",
        "      <td>      New York</td>\n",
        "      <td> 10/17/2013</td>\n",
        "      <td> 2013-10</td>\n",
        "      <td> 2013-Q4</td>\n",
        "      <td> 2013</td>\n",
        "      <td>-1</td>\n",
        "      <td> USD</td>\n",
        "    </tr>\n",
        "    <tr>\n",
        "      <th>1</th>\n",
        "      <td>                            /company/fluff-friends</td>\n",
        "      <td>                              (fluff)Friends</td>\n",
        "      <td>     </td>\n",
        "      <td>    </td>\n",
        "      <td>   </td>\n",
        "      <td>  unknown</td>\n",
        "      <td>           </td>\n",
        "      <td> /company/social-gaming-network</td>\n",
        "      <td>  Social Gaming Network</td>\n",
        "      <td> games_video</td>\n",
        "      <td> USA</td>\n",
        "      <td> CA</td>\n",
        "      <td> Los Angeles</td>\n",
        "      <td> Beverly Hills</td>\n",
        "      <td>  9/16/2008</td>\n",
        "      <td> 2008-09</td>\n",
        "      <td> 2008-Q3</td>\n",
        "      <td> 2008</td>\n",
        "      <td>-1</td>\n",
        "      <td> USD</td>\n",
        "    </tr>\n",
        "    <tr>\n",
        "      <th>2</th>\n",
        "      <td>                      /company/1-nation-technology</td>\n",
        "      <td>                         1 Nation Technology</td>\n",
        "      <td>     </td>\n",
        "      <td>    </td>\n",
        "      <td>   </td>\n",
        "      <td>  unknown</td>\n",
        "      <td>           </td>\n",
        "      <td>                /company/vology</td>\n",
        "      <td>                 Vology</td>\n",
        "      <td>       other</td>\n",
        "      <td>    </td>\n",
        "      <td>   </td>\n",
        "      <td>     unknown</td>\n",
        "      <td>              </td>\n",
        "      <td>   1/1/2006</td>\n",
        "      <td> 2006-01</td>\n",
        "      <td> 2006-Q1</td>\n",
        "      <td> 2006</td>\n",
        "      <td>-1</td>\n",
        "      <td> USD</td>\n",
        "    </tr>\n",
        "    <tr>\n",
        "      <th>3</th>\n",
        "      <td> /company/1-stop-financial-service-centers-of-a...</td>\n",
        "      <td> 1 Stop Financial Service Centers of America</td>\n",
        "      <td>     </td>\n",
        "      <td> USA</td>\n",
        "      <td> TX</td>\n",
        "      <td>   Austin</td>\n",
        "      <td> Round Rock</td>\n",
        "      <td>        /company/confie-seguros</td>\n",
        "      <td>         Confie Seguros</td>\n",
        "      <td>  enterprise</td>\n",
        "      <td> USA</td>\n",
        "      <td> CA</td>\n",
        "      <td> Los Angeles</td>\n",
        "      <td>    Buena Park</td>\n",
        "      <td>   2/3/2014</td>\n",
        "      <td> 2014-02</td>\n",
        "      <td> 2014-Q1</td>\n",
        "      <td> 2014</td>\n",
        "      <td>-1</td>\n",
        "      <td> USD</td>\n",
        "    </tr>\n",
        "    <tr>\n",
        "      <th>4</th>\n",
        "      <td>                         /company/1-800-contacts-2</td>\n",
        "      <td>                              1-800 Contacts</td>\n",
        "      <td>     </td>\n",
        "      <td>    </td>\n",
        "      <td>   </td>\n",
        "      <td>  unknown</td>\n",
        "      <td>           </td>\n",
        "      <td> /company/thomas-h-lee-partners</td>\n",
        "      <td> Thomas H. Lee Partners</td>\n",
        "      <td>            </td>\n",
        "      <td> USA</td>\n",
        "      <td> MA</td>\n",
        "      <td>      Boston</td>\n",
        "      <td>        Boston</td>\n",
        "      <td>   1/7/2014</td>\n",
        "      <td> 2014-01</td>\n",
        "      <td> 2014-Q1</td>\n",
        "      <td> 2014</td>\n",
        "      <td>-1</td>\n",
        "      <td> USD</td>\n",
        "    </tr>\n",
        "  </tbody>\n",
        "</table>\n",
        "<p>5 rows \u00d7 20 columns</p>\n",
        "</div>"
       ],
       "metadata": {},
       "output_type": "pyout",
       "prompt_number": 125,
       "text": [
        "                                   company_permalink  \\\n",
        "0                                   /company/waywire   \n",
        "1                             /company/fluff-friends   \n",
        "2                       /company/1-nation-technology   \n",
        "3  /company/1-stop-financial-service-centers-of-a...   \n",
        "4                          /company/1-800-contacts-2   \n",
        "\n",
        "                                  company_name company_category_code  \\\n",
        "0                                     #waywire                  news   \n",
        "1                               (fluff)Friends                         \n",
        "2                          1 Nation Technology                         \n",
        "3  1 Stop Financial Service Centers of America                         \n",
        "4                               1-800 Contacts                         \n",
        "\n",
        "  company_country_code company_state_code company_region company_city  \\\n",
        "0                  USA                 NY       New York     New York   \n",
        "1                                                unknown                \n",
        "2                                                unknown                \n",
        "3                  USA                 TX         Austin   Round Rock   \n",
        "4                                                unknown                \n",
        "\n",
        "               acquirer_permalink           acquirer_name  \\\n",
        "0                /company/magnify                 Magnify   \n",
        "1  /company/social-gaming-network   Social Gaming Network   \n",
        "2                 /company/vology                  Vology   \n",
        "3         /company/confie-seguros          Confie Seguros   \n",
        "4  /company/thomas-h-lee-partners  Thomas H. Lee Partners   \n",
        "\n",
        "  acquirer_category_code acquirer_country_code acquirer_state_code  \\\n",
        "0            games_video                   USA                  NY   \n",
        "1            games_video                   USA                  CA   \n",
        "2                  other                                             \n",
        "3             enterprise                   USA                  CA   \n",
        "4                                          USA                  MA   \n",
        "\n",
        "  acquirer_region  acquirer_city acquired_at acquired_month acquired_quarter  \\\n",
        "0        New York       New York  10/17/2013        2013-10          2013-Q4   \n",
        "1     Los Angeles  Beverly Hills   9/16/2008        2008-09          2008-Q3   \n",
        "2         unknown                   1/1/2006        2006-01          2006-Q1   \n",
        "3     Los Angeles     Buena Park    2/3/2014        2014-02          2014-Q1   \n",
        "4          Boston         Boston    1/7/2014        2014-01          2014-Q1   \n",
        "\n",
        "   acquired_year  price_amount price_currency_code  \n",
        "0           2013            -1                 USD  \n",
        "1           2008            -1                 USD  \n",
        "2           2006            -1                 USD  \n",
        "3           2014            -1                 USD  \n",
        "4           2014            -1                 USD  \n",
        "\n",
        "[5 rows x 20 columns]"
       ]
      }
     ],
     "prompt_number": 125
    },
    {
     "cell_type": "markdown",
     "metadata": {},
     "source": [
      "Length of dataset (number)"
     ]
    },
    {
     "cell_type": "code",
     "collapsed": false,
     "input": [
      "len(acquisitions) # 10114  "
     ],
     "language": "python",
     "metadata": {},
     "outputs": [
      {
       "metadata": {},
       "output_type": "pyout",
       "prompt_number": 44,
       "text": [
        "10114"
       ]
      }
     ],
     "prompt_number": 44
    },
    {
     "cell_type": "markdown",
     "metadata": {},
     "source": [
      "Acquisitions over time ( y = count, x = acquired_year)"
     ]
    },
    {
     "cell_type": "code",
     "collapsed": false,
     "input": [
      "filter = (acquisitions.acquired_year > 2000) & (acquisitions.acquired_year <= 2013)\n",
      "ga = acquisitions[filter].groupby('acquired_year').count()['company_permalink']\n",
      "ax = ga.plot(title=\"Count of acquisitions by year (2010-2013]\")\n",
      "ax.set_ylabel('Number of Acquisitions')\n",
      "ax.set_xlabel('Year')"
     ],
     "language": "python",
     "metadata": {},
     "outputs": [
      {
       "metadata": {},
       "output_type": "pyout",
       "prompt_number": 253,
       "text": [
        "<matplotlib.text.Text at 0x2fc686d0>"
       ]
      },
      {
       "html": [
        "\n",
        "<style>\n",
        "\n",
        "</style>\n",
        "\n",
        "<div id=\"fig45648034507684226250462\"></div>\n",
        "<script>\n",
        "function mpld3_load_lib(url, callback){\n",
        "  var s = document.createElement('script');\n",
        "  s.src = url;\n",
        "  s.async = true;\n",
        "  s.onreadystatechange = s.onload = callback;\n",
        "  s.onerror = function(){console.warn(\"failed to load library \" + url);};\n",
        "  document.getElementsByTagName(\"head\")[0].appendChild(s);\n",
        "}\n",
        "\n",
        "function create_fig45648034507684226250462(){\n",
        "  \n",
        "  mpld3.draw_figure(\"fig45648034507684226250462\", {\"width\": 480.0, \"axes\": [{\"xlim\": [2000.0, 2014.0], \"yscale\": \"linear\", \"axesbg\": \"#EAEAF2\", \"texts\": [{\"v_baseline\": \"hanging\", \"h_anchor\": \"middle\", \"color\": \"#000000\", \"text\": \"Year\", \"coordinates\": \"axes\", \"zorder\": 3, \"alpha\": 1, \"fontsize\": 11.0, \"position\": [0.5, -0.094086021505376358], \"rotation\": -0.0, \"id\": \"4564801539792\"}, {\"v_baseline\": \"auto\", \"h_anchor\": \"middle\", \"color\": \"#000000\", \"text\": \"Number of Acquisitions\", \"coordinates\": \"axes\", \"zorder\": 3, \"alpha\": 1, \"fontsize\": 11.0, \"position\": [-0.098552307347670245, 0.5], \"rotation\": -90.0, \"id\": \"4564803585488\"}, {\"v_baseline\": \"auto\", \"h_anchor\": \"middle\", \"color\": \"#000000\", \"text\": \"Count of acquisitions by year (2010-2013]\", \"coordinates\": \"axes\", \"zorder\": 3, \"alpha\": 1, \"fontsize\": 12.0, \"position\": [0.5, 1.0224014336917562], \"rotation\": -0.0, \"id\": \"4564801794448\"}], \"zoomable\": true, \"images\": [], \"xdomain\": [2000.0, 2014.0], \"ylim\": [0.0, 1800.0], \"paths\": [], \"sharey\": [], \"sharex\": [], \"axesbgalpha\": null, \"axes\": [{\"grid\": {\"color\": \"#FFFFFF\", \"alpha\": 1.0, \"dasharray\": \"10,0\", \"gridOn\": true}, \"position\": \"bottom\", \"nticks\": 8, \"tickvalues\": null, \"tickformat\": null}, {\"grid\": {\"color\": \"#FFFFFF\", \"alpha\": 1.0, \"dasharray\": \"10,0\", \"gridOn\": true}, \"position\": \"left\", \"nticks\": 10, \"tickvalues\": null, \"tickformat\": null}], \"lines\": [{\"color\": \"#4C72B0\", \"yindex\": 1, \"coordinates\": \"data\", \"dasharray\": \"10,0\", \"zorder\": 2, \"alpha\": 1, \"xindex\": 0, \"linewidth\": 1.4, \"data\": \"data01\", \"id\": \"4564801946416\"}], \"markers\": [], \"id\": \"4564799070256\", \"ydomain\": [0.0, 1800.0], \"collections\": [], \"xscale\": \"linear\", \"bbox\": [0.125, 0.125, 0.77500000000000002, 0.77500000000000002]}], \"data\": {\"data01\": [[2001.0, 55.0], [2002.0, 52.0], [2003.0, 67.0], [2004.0, 118.0], [2005.0, 188.0], [2006.0, 263.0], [2007.0, 428.0], [2008.0, 1072.0], [2009.0, 1153.0], [2010.0, 1516.0], [2011.0, 1633.0], [2012.0, 1344.0], [2013.0, 1539.0]]}, \"id\": \"4564803450768\", \"toolbar\": [\"reset\", \"move\"], \"height\": 320.0});\n",
        "}\n",
        "\n",
        "if(typeof(mpld3) !== \"undefined\"){\n",
        "   // already loaded: just create the figure\n",
        "   create_fig45648034507684226250462();\n",
        "}else if(typeof define === \"function\" && define.amd){\n",
        "   // require.js is available: use it to load d3/mpld3\n",
        "   require.config({paths: {d3: \"http://d3js.org/d3.v3.min\"}});\n",
        "   require([\"d3\"], function(d3){\n",
        "      window.d3 = d3;\n",
        "      mpld3_load_lib(\"http://mpld3.github.io/js/mpld3.v0.1.js\", create_fig45648034507684226250462);\n",
        "    });\n",
        "}else{\n",
        "    // require.js not available: dynamically load d3 & mpld3\n",
        "    mpld3_load_lib(\"http://d3js.org/d3.v3.min.js\", function(){\n",
        "        mpld3_load_lib(\"http://mpld3.github.io/js/mpld3.v0.1.js\", create_fig45648034507684226250462);})\n",
        "}\n",
        "</script>"
       ],
       "metadata": {},
       "output_type": "display_data",
       "png": "[encoded data removed]",
       "text": [
        "<matplotlib.figure.Figure at 0x2fe3af90>"
       ]
      }
     ],
     "prompt_number": 253
    },
    {
     "cell_type": "markdown",
     "metadata": {},
     "source": [
      "How many of the acquisitions have pricing data available to us? "
     ]
    },
    {
     "cell_type": "code",
     "collapsed": false,
     "input": [
      "total = len(acquisitions)\n",
      "axes(aspect=1)\n",
      "with_data = len(acquisitions[acquisitions.price_amount >= 1])\n",
      "print 'Percent of acquisitions data with purchase price available'\n",
      "plt.pie([with_data, total - with_data],labels=['True','False'], autopct='%d percent', colors=[COLOR_BLUE, COLOR_RED])"
     ],
     "language": "python",
     "metadata": {},
     "outputs": [
      {
       "output_type": "stream",
       "stream": "stdout",
       "text": [
        "Percent of acquisitions data with purchase price available\n"
       ]
      },
      {
       "metadata": {},
       "output_type": "pyout",
       "prompt_number": 225,
       "text": [
        "([<matplotlib.patches.Wedge at 0x2e895e30>,\n",
        "  <matplotlib.patches.Wedge at 0x2e89f610>],\n",
        " [<matplotlib.text.Text at 0x2e89f1b0>, <matplotlib.text.Text at 0x2e89f970>],\n",
        " [<matplotlib.text.Text at 0x2e89f3f0>, <matplotlib.text.Text at 0x2e89fb90>])"
       ]
      },
      {
       "html": [
        "\n",
        "<style>\n",
        "\n",
        "</style>\n",
        "\n",
        "<div id=\"fig45647754232166917570942\"></div>\n",
        "<script>\n",
        "function mpld3_load_lib(url, callback){\n",
        "  var s = document.createElement('script');\n",
        "  s.src = url;\n",
        "  s.async = true;\n",
        "  s.onreadystatechange = s.onload = callback;\n",
        "  s.onerror = function(){console.warn(\"failed to load library \" + url);};\n",
        "  document.getElementsByTagName(\"head\")[0].appendChild(s);\n",
        "}\n",
        "\n",
        "function create_fig45647754232166917570942(){\n",
        "  \n",
        "  mpld3.draw_figure(\"fig45647754232166917570942\", {\"width\": 480.0, \"axes\": [{\"xlim\": [-1.25, 1.25], \"yscale\": \"linear\", \"axesbg\": \"#EAEAF2\", \"texts\": [{\"v_baseline\": \"central\", \"h_anchor\": \"start\", \"color\": \"#000000\", \"text\": \"True\", \"coordinates\": \"data\", \"zorder\": 3, \"alpha\": 1, \"fontsize\": 10.0, \"position\": [0.7000916772369229, 0.8484524992382264], \"rotation\": -0.0, \"id\": \"4564780792240\"}, {\"v_baseline\": \"central\", \"h_anchor\": \"middle\", \"color\": \"#000000\", \"text\": \"28 percent\", \"coordinates\": \"data\", \"zorder\": 3, \"alpha\": 1, \"fontsize\": 10.0, \"position\": [0.38186818758377605, 0.4627922723117598], \"rotation\": -0.0, \"id\": \"4564780792816\"}, {\"v_baseline\": \"central\", \"h_anchor\": \"end\", \"color\": \"#000000\", \"text\": \"False\", \"coordinates\": \"data\", \"zorder\": 3, \"alpha\": 1, \"fontsize\": 10.0, \"position\": [-0.700091597799064, -0.8484525647855358], \"rotation\": -0.0, \"id\": \"4564780794224\"}, {\"v_baseline\": \"central\", \"h_anchor\": \"middle\", \"color\": \"#000000\", \"text\": \"71 percent\", \"coordinates\": \"data\", \"zorder\": 3, \"alpha\": 1, \"fontsize\": 10.0, \"position\": [-0.38186814425403487, -0.4627923080648376], \"rotation\": -0.0, \"id\": \"4564780794768\"}], \"zoomable\": true, \"images\": [], \"xdomain\": [-1.25, 1.25], \"ylim\": [-1.25, 1.25], \"paths\": [{\"edgecolor\": \"#000000\", \"facecolor\": \"#3376A3\", \"edgewidth\": 0.3, \"pathcodes\": [\"M\", \"C\", \"C\", \"C\", \"C\", \"L\", \"L\", \"Z\"], \"yindex\": 1, \"coordinates\": \"data\", \"dasharray\": \"10,0\", \"zorder\": 1, \"alpha\": 1, \"xindex\": 0, \"data\": \"data01\", \"id\": \"4564780754480\"}, {\"edgecolor\": \"#000000\", \"facecolor\": \"#FC3F52\", \"edgewidth\": 0.3, \"pathcodes\": [\"M\", \"C\", \"C\", \"C\", \"C\", \"C\", \"C\", \"C\", \"C\", \"L\", \"L\", \"Z\"], \"yindex\": 1, \"coordinates\": \"data\", \"dasharray\": \"10,0\", \"zorder\": 1, \"alpha\": 1, \"xindex\": 0, \"data\": \"data02\", \"id\": \"4564780793360\"}], \"sharey\": [], \"sharex\": [], \"axesbgalpha\": null, \"axes\": [{\"grid\": {\"gridOn\": false}, \"position\": \"bottom\", \"nticks\": 0, \"tickvalues\": [], \"tickformat\": \"\"}, {\"grid\": {\"gridOn\": false}, \"position\": \"left\", \"nticks\": 0, \"tickvalues\": [], \"tickformat\": \"\"}], \"lines\": [], \"markers\": [], \"id\": \"4564775425552\", \"ydomain\": [-1.25, 1.25], \"collections\": [], \"xscale\": \"linear\", \"bbox\": [0.25416666666666671, 0.125, 0.51666666666666661, 0.77500000000000002]}], \"data\": {\"data02\": [[-0.1898704850637892, 0.9818091458637169], [-0.37605535410333224, 0.9458031547349858], [-0.5482128320636501, 0.8575686139412906], [-0.6861621717770079, 0.7274486057600632], [-0.8241115114903657, 0.5973285975788358], [-0.922243268307089, 0.43061420194727973], [-0.9690541825552373, 0.24684811377079768], [-1.0158650968033855, 0.06308202559431567], [-1.0094516926633483, -0.13026326049786743], [-0.9505657660429648, -0.31052330738150963], [-0.8916798394225814, -0.49078335426515185], [-0.782715873301678, -0.6506282337387653], [-0.6364469070900581, -0.7713205134413961], [-0.49017794087843825, -0.8920127931440268], [-0.3125517208403033, -0.9686447535893636], [-0.12439005430821841, -0.9922333971345645], [0.06377161222386647, -1.0158220406797653], [0.254817492878689, -0.9854081804914415], [0.42635269281571886, -0.9045570083354533], [0.5978878927527487, -0.823705836179465], [0.7429372628953976, -0.6957050095104454], [0.8444977389541045, -0.5355591180265772], [0.9460582150128114, -0.3754132265427089], [1.0000000355097056, -0.18963429499175932], [0.9999999999999825, 1.872535137829992e-07], [0.0, 0.0], [-0.1898704850637892, 0.9818091458637169]], \"data01\": [[1.0, 0.0], [1.0, 0.14740969826221154], [0.9674055712873656, 0.2930120812934546], [0.9045570682124742, 0.42635256577960606], [0.8417085651375827, 0.5596930502657576], [0.7501470946722263, 0.6775019966734963], [0.6364469793062933, 0.771320453852933], [0.5227468639403604, 0.8651389110323697], [0.3896961420822629, 0.932666358344696], [0.2468481591354976, 0.9690541709994421], [0.10400017618873228, 1.0054419836541881], [-0.04514229512093906, 1.0097978967758698], [-0.1898704850637892, 0.9818091458637169], [0.0, 0.0], [1.0, 0.0]]}, \"id\": \"4564775423216\", \"toolbar\": [\"reset\", \"move\"], \"height\": 320.0});\n",
        "}\n",
        "\n",
        "if(typeof(mpld3) !== \"undefined\"){\n",
        "   // already loaded: just create the figure\n",
        "   create_fig45647754232166917570942();\n",
        "}else if(typeof define === \"function\" && define.amd){\n",
        "   // require.js is available: use it to load d3/mpld3\n",
        "   require.config({paths: {d3: \"http://d3js.org/d3.v3.min\"}});\n",
        "   require([\"d3\"], function(d3){\n",
        "      window.d3 = d3;\n",
        "      mpld3_load_lib(\"http://mpld3.github.io/js/mpld3.v0.1.js\", create_fig45647754232166917570942);\n",
        "    });\n",
        "}else{\n",
        "    // require.js not available: dynamically load d3 & mpld3\n",
        "    mpld3_load_lib(\"http://d3js.org/d3.v3.min.js\", function(){\n",
        "        mpld3_load_lib(\"http://mpld3.github.io/js/mpld3.v0.1.js\", create_fig45647754232166917570942);})\n",
        "}\n",
        "</script>"
       ],
       "metadata": {},
       "output_type": "display_data",
       "png": "[encoded data removed]",
       "text": [
        "<matplotlib.figure.Figure at 0x2e3804f0>"
       ]
      }
     ],
     "prompt_number": 225
    },
    {
     "cell_type": "markdown",
     "metadata": {},
     "source": [
      "<h2 style=\"font-size:15px; line-height:0px\">Companies</h2><hr style=\"line-height:0px;margin-bottom:-10px\"/>"
     ]
    },
    {
     "cell_type": "markdown",
     "metadata": {},
     "source": [
      "What data is available?"
     ]
    },
    {
     "cell_type": "code",
     "collapsed": false,
     "input": [
      "all_companies.columns"
     ],
     "language": "python",
     "metadata": {},
     "outputs": [
      {
       "metadata": {},
       "output_type": "pyout",
       "prompt_number": 220,
       "text": [
        "Index([u'permalink', u'name', u'homepage_url', u'category_code', u'funding_total_usd', u'status', u'country_code', u'state_code', u'region', u'city', u'funding_rounds', u'founded_at', u' founded_month', u'founded_quarter', u'founded_year', u'first_funding_at', u'last_funding_at', u'last_milestone_at'], dtype='object')"
       ]
      }
     ],
     "prompt_number": 220
    },
    {
     "cell_type": "markdown",
     "metadata": {},
     "source": [
      "Sample companies rows"
     ]
    },
    {
     "cell_type": "code",
     "collapsed": false,
     "input": [
      "all_companies.head()"
     ],
     "language": "python",
     "metadata": {},
     "outputs": [
      {
       "html": [
        "<div style=\"max-height:1000px;max-width:1500px;overflow:auto;\">\n",
        "<table border=\"1\" class=\"dataframe\">\n",
        "  <thead>\n",
        "    <tr style=\"text-align: right;\">\n",
        "      <th></th>\n",
        "      <th>permalink</th>\n",
        "      <th>name</th>\n",
        "      <th>homepage_url</th>\n",
        "      <th>category_code</th>\n",
        "      <th>funding_total_usd</th>\n",
        "      <th>status</th>\n",
        "      <th>country_code</th>\n",
        "      <th>state_code</th>\n",
        "      <th>region</th>\n",
        "      <th>city</th>\n",
        "      <th>funding_rounds</th>\n",
        "      <th>founded_at</th>\n",
        "      <th> founded_month</th>\n",
        "      <th>founded_quarter</th>\n",
        "      <th>founded_year</th>\n",
        "      <th>first_funding_at</th>\n",
        "      <th>last_funding_at</th>\n",
        "      <th>last_milestone_at</th>\n",
        "    </tr>\n",
        "  </thead>\n",
        "  <tbody>\n",
        "    <tr>\n",
        "      <th>0</th>\n",
        "      <td>  /company/canal-do-credito</td>\n",
        "      <td>   Canal do Credito</td>\n",
        "      <td> http://www.canaldocredito.com.br</td>\n",
        "      <td>     finance</td>\n",
        "      <td>    750,000 </td>\n",
        "      <td> operating</td>\n",
        "      <td> BRA</td>\n",
        "      <td>   </td>\n",
        "      <td> Belo Horizonte</td>\n",
        "      <td> Belo Horizonte</td>\n",
        "      <td> 1</td>\n",
        "      <td>         </td>\n",
        "      <td>          </td>\n",
        "      <td>        </td>\n",
        "      <td>     </td>\n",
        "      <td>  1/1/2010</td>\n",
        "      <td>  1/1/2010</td>\n",
        "      <td>           </td>\n",
        "    </tr>\n",
        "    <tr>\n",
        "      <th>1</th>\n",
        "      <td>           /company/waywire</td>\n",
        "      <td>           #waywire</td>\n",
        "      <td>           http://www.waywire.com</td>\n",
        "      <td>        news</td>\n",
        "      <td>  1,750,000 </td>\n",
        "      <td>  acquired</td>\n",
        "      <td> USA</td>\n",
        "      <td> NY</td>\n",
        "      <td>       New York</td>\n",
        "      <td>       New York</td>\n",
        "      <td> 1</td>\n",
        "      <td> 6/1/2012</td>\n",
        "      <td>  2012-06 </td>\n",
        "      <td> 2012-Q2</td>\n",
        "      <td> 2012</td>\n",
        "      <td> 6/30/2012</td>\n",
        "      <td> 6/30/2012</td>\n",
        "      <td> 10/17/2013</td>\n",
        "    </tr>\n",
        "    <tr>\n",
        "      <th>2</th>\n",
        "      <td> /company/tv-communications</td>\n",
        "      <td> &amp;TV Communications</td>\n",
        "      <td>            http://enjoyandtv.com</td>\n",
        "      <td> games_video</td>\n",
        "      <td>  4,000,000 </td>\n",
        "      <td> operating</td>\n",
        "      <td> USA</td>\n",
        "      <td> CA</td>\n",
        "      <td>    Los Angeles</td>\n",
        "      <td>    Los Angeles</td>\n",
        "      <td> 2</td>\n",
        "      <td>         </td>\n",
        "      <td>          </td>\n",
        "      <td>        </td>\n",
        "      <td>     </td>\n",
        "      <td>  6/4/2010</td>\n",
        "      <td> 9/23/2010</td>\n",
        "      <td>           </td>\n",
        "    </tr>\n",
        "    <tr>\n",
        "      <th>3</th>\n",
        "      <td>  /company/in-touch-network</td>\n",
        "      <td>  (In)Touch Network</td>\n",
        "      <td>    http://www.InTouchNetwork.com</td>\n",
        "      <td>   ecommerce</td>\n",
        "      <td>  1,500,000 </td>\n",
        "      <td> operating</td>\n",
        "      <td> GBR</td>\n",
        "      <td>   </td>\n",
        "      <td>         London</td>\n",
        "      <td>         London</td>\n",
        "      <td> 1</td>\n",
        "      <td> 4/1/2011</td>\n",
        "      <td>  2011-04 </td>\n",
        "      <td> 2011-Q2</td>\n",
        "      <td> 2011</td>\n",
        "      <td>  4/1/2011</td>\n",
        "      <td>  4/1/2011</td>\n",
        "      <td> 11/15/2013</td>\n",
        "    </tr>\n",
        "    <tr>\n",
        "      <th>4</th>\n",
        "      <td>           /company/n-plusn</td>\n",
        "      <td>         +n (PlusN)</td>\n",
        "      <td>                 http://plusn.com</td>\n",
        "      <td>    software</td>\n",
        "      <td>    600,000 </td>\n",
        "      <td> operating</td>\n",
        "      <td> USA</td>\n",
        "      <td> NY</td>\n",
        "      <td>       New York</td>\n",
        "      <td>       New York</td>\n",
        "      <td> 1</td>\n",
        "      <td> 1/1/2012</td>\n",
        "      <td>  2012-01 </td>\n",
        "      <td> 2012-Q1</td>\n",
        "      <td> 2012</td>\n",
        "      <td> 8/29/2012</td>\n",
        "      <td> 8/29/2012</td>\n",
        "      <td>           </td>\n",
        "    </tr>\n",
        "  </tbody>\n",
        "</table>\n",
        "<p>5 rows \u00d7 18 columns</p>\n",
        "</div>"
       ],
       "metadata": {},
       "output_type": "pyout",
       "prompt_number": 114,
       "text": [
        "                    permalink                name  \\\n",
        "0   /company/canal-do-credito    Canal do Credito   \n",
        "1            /company/waywire            #waywire   \n",
        "2  /company/tv-communications  &TV Communications   \n",
        "3   /company/in-touch-network   (In)Touch Network   \n",
        "4            /company/n-plusn          +n (PlusN)   \n",
        "\n",
        "                       homepage_url category_code funding_total_usd  \\\n",
        "0  http://www.canaldocredito.com.br       finance          750,000    \n",
        "1            http://www.waywire.com          news        1,750,000    \n",
        "2             http://enjoyandtv.com   games_video        4,000,000    \n",
        "3     http://www.InTouchNetwork.com     ecommerce        1,500,000    \n",
        "4                  http://plusn.com      software          600,000    \n",
        "\n",
        "      status country_code state_code          region            city  \\\n",
        "0  operating          BRA             Belo Horizonte  Belo Horizonte   \n",
        "1   acquired          USA         NY        New York        New York   \n",
        "2  operating          USA         CA     Los Angeles     Los Angeles   \n",
        "3  operating          GBR                     London          London   \n",
        "4  operating          USA         NY        New York        New York   \n",
        "\n",
        "  funding_rounds founded_at  founded_month founded_quarter founded_year  \\\n",
        "0              1                                                          \n",
        "1              1   6/1/2012       2012-06          2012-Q2         2012   \n",
        "2              2                                                          \n",
        "3              1   4/1/2011       2011-04          2011-Q2         2011   \n",
        "4              1   1/1/2012       2012-01          2012-Q1         2012   \n",
        "\n",
        "  first_funding_at last_funding_at last_milestone_at  \n",
        "0         1/1/2010        1/1/2010                    \n",
        "1        6/30/2012       6/30/2012        10/17/2013  \n",
        "2         6/4/2010       9/23/2010                    \n",
        "3         4/1/2011        4/1/2011        11/15/2013  \n",
        "4        8/29/2012       8/29/2012                    \n",
        "\n",
        "[5 rows x 18 columns]"
       ]
      }
     ],
     "prompt_number": 114
    },
    {
     "cell_type": "markdown",
     "metadata": {},
     "source": [
      "Length of dataset (number)"
     ]
    },
    {
     "cell_type": "code",
     "collapsed": false,
     "input": [
      "len(all_companies) #54294"
     ],
     "language": "python",
     "metadata": {},
     "outputs": [
      {
       "metadata": {},
       "output_type": "pyout",
       "prompt_number": 106,
       "text": [
        "54294"
       ]
      }
     ],
     "prompt_number": 106
    },
    {
     "cell_type": "markdown",
     "metadata": {},
     "source": [
      "Active vs. not active (pie chart where x = active status, y = count of companies)"
     ]
    },
    {
     "cell_type": "code",
     "collapsed": false,
     "input": [
      "count = all_companies.groupby('status').count()['permalink']\n",
      "axes(aspect=1)\n",
      "plt.pie(count.values[1:],labels=count.index[1:],autopct='%d percent', colors=[COLOR_BLUE, COLOR_GREEN, COLOR_ORANGE, COLOR_WHITE])"
     ],
     "language": "python",
     "metadata": {},
     "outputs": [
      {
       "metadata": {},
       "output_type": "pyout",
       "prompt_number": 102,
       "text": [
        "([<matplotlib.patches.Wedge at 0x134013b0>,\n",
        "  <matplotlib.patches.Wedge at 0x16966ad0>,\n",
        "  <matplotlib.patches.Wedge at 0x16981290>,\n",
        "  <matplotlib.patches.Wedge at 0x169819f0>],\n",
        " [<matplotlib.text.Text at 0x16966670>,\n",
        "  <matplotlib.text.Text at 0x16966e30>,\n",
        "  <matplotlib.text.Text at 0x16981530>,\n",
        "  <matplotlib.text.Text at 0x16981d50>],\n",
        " [<matplotlib.text.Text at 0x169668b0>,\n",
        "  <matplotlib.text.Text at 0x16981070>,\n",
        "  <matplotlib.text.Text at 0x169817d0>,\n",
        "  <matplotlib.text.Text at 0x16981f70>])"
       ]
      },
      {
       "html": [
        "\n",
        "<style>\n",
        "\n",
        "</style>\n",
        "\n",
        "<div id=\"fig45643229661928912471430\"></div>\n",
        "<script>\n",
        "function mpld3_load_lib(url, callback){\n",
        "  var s = document.createElement('script');\n",
        "  s.src = url;\n",
        "  s.async = true;\n",
        "  s.onreadystatechange = s.onload = callback;\n",
        "  s.onerror = function(){console.warn(\"failed to load library \" + url);};\n",
        "  document.getElementsByTagName(\"head\")[0].appendChild(s);\n",
        "}\n",
        "\n",
        "function create_fig45643229661928912471430(){\n",
        "  \n",
        "  mpld3.draw_figure(\"fig45643229661928912471430\", {\"width\": 640.0, \"axes\": [{\"xlim\": [-1.25, 1.25], \"yscale\": \"linear\", \"axesbg\": \"#EAEAF2\", \"texts\": [{\"v_baseline\": \"central\", \"h_anchor\": \"start\", \"color\": \"#000000\", \"text\": \"acquired\", \"coordinates\": \"data\", \"zorder\": 3, \"alpha\": 1, \"fontsize\": 10.0, \"position\": [1.0646212136458333, 0.2767339362190209], \"rotation\": -0.0, \"id\": \"4564378955376\"}, {\"v_baseline\": \"central\", \"h_anchor\": \"middle\", \"color\": \"#000000\", \"text\": \"8 percent\", \"coordinates\": \"data\", \"zorder\": 3, \"alpha\": 1, \"fontsize\": 10.0, \"position\": [0.5807024801704544, 0.1509457833921932], \"rotation\": -0.0, \"id\": \"4564378955952\"}, {\"v_baseline\": \"central\", \"h_anchor\": \"start\", \"color\": \"#000000\", \"text\": \"closed\", \"coordinates\": \"data\", \"zorder\": 3, \"alpha\": 1, \"fontsize\": 10.0, \"position\": [0.8004525213983666, 0.7545036520700199], \"rotation\": -0.0, \"id\": \"4564378957360\"}, {\"v_baseline\": \"central\", \"h_anchor\": \"middle\", \"color\": \"#000000\", \"text\": \"7 percent\", \"coordinates\": \"data\", \"zorder\": 3, \"alpha\": 1, \"fontsize\": 10.0, \"position\": [0.4366104662172908, 0.4115474465836472], \"rotation\": -0.0, \"id\": \"4564379064432\"}, {\"v_baseline\": \"central\", \"h_anchor\": \"start\", \"color\": \"#000000\", \"text\": \"ipo\", \"coordinates\": \"data\", \"zorder\": 3, \"alpha\": 1, \"fontsize\": 10.0, \"position\": [0.5385990973467155, 0.9591199155148972], \"rotation\": -0.0, \"id\": \"4564379065648\"}, {\"v_baseline\": \"central\", \"h_anchor\": \"middle\", \"color\": \"#000000\", \"text\": \"1 percent\", \"coordinates\": \"data\", \"zorder\": 3, \"alpha\": 1, \"fontsize\": 10.0, \"position\": [0.29378132582548117, 0.5231563175535802], \"rotation\": -0.0, \"id\": \"4564379066320\"}, {\"v_baseline\": \"central\", \"h_anchor\": \"end\", \"color\": \"#000000\", \"text\": \"operating\", \"coordinates\": \"data\", \"zorder\": 3, \"alpha\": 1, \"fontsize\": 10.0, \"position\": [-0.9333939855942868, -0.5820443863284076], \"rotation\": -0.0, \"id\": \"4564379067728\"}, {\"v_baseline\": \"central\", \"h_anchor\": \"middle\", \"color\": \"#000000\", \"text\": \"82 percent\", \"coordinates\": \"data\", \"zorder\": 3, \"alpha\": 1, \"fontsize\": 10.0, \"position\": [-0.5091239921423382, -0.31747875617913135], \"rotation\": -0.0, \"id\": \"4564379068272\"}], \"zoomable\": true, \"images\": [], \"xdomain\": [-1.25, 1.25], \"ylim\": [-1.25, 1.25], \"paths\": [{\"edgecolor\": \"#000000\", \"facecolor\": \"#3376A3\", \"edgewidth\": 0.3, \"pathcodes\": [\"M\", \"C\", \"C\", \"L\", \"L\", \"Z\"], \"yindex\": 1, \"coordinates\": \"data\", \"dasharray\": \"10,0\", \"zorder\": 1, \"alpha\": 1, \"xindex\": 0, \"data\": \"data01\", \"id\": \"4564322966448\"}, {\"edgecolor\": \"#000000\", \"facecolor\": \"#5FBD48\", \"edgewidth\": 0.3, \"pathcodes\": [\"M\", \"C\", \"C\", \"L\", \"L\", \"Z\"], \"yindex\": 1, \"coordinates\": \"data\", \"dasharray\": \"10,0\", \"zorder\": 1, \"alpha\": 1, \"xindex\": 0, \"data\": \"data02\", \"id\": \"4564378956496\"}, {\"edgecolor\": \"#000000\", \"facecolor\": \"#F5CB4E\", \"edgewidth\": 0.3, \"pathcodes\": [\"M\", \"C\", \"C\", \"L\", \"L\", \"Z\"], \"yindex\": 1, \"coordinates\": \"data\", \"dasharray\": \"10,0\", \"zorder\": 1, \"alpha\": 1, \"xindex\": 0, \"data\": \"data03\", \"id\": \"4564379064976\"}, {\"edgecolor\": \"#000000\", \"facecolor\": \"#FFFFFF\", \"edgewidth\": 0.3, \"pathcodes\": [\"M\", \"C\", \"C\", \"C\", \"C\", \"C\", \"C\", \"C\", \"C\", \"C\", \"C\", \"C\", \"C\", \"C\", \"C\", \"C\", \"C\", \"L\", \"L\", \"Z\"], \"yindex\": 1, \"coordinates\": \"data\", \"dasharray\": \"10,0\", \"zorder\": 1, \"alpha\": 1, \"xindex\": 0, \"data\": \"data04\", \"id\": \"4564379066864\"}], \"sharey\": [], \"sharex\": [], \"axesbgalpha\": null, \"axes\": [{\"grid\": {\"gridOn\": false}, \"position\": \"bottom\", \"nticks\": 0, \"tickvalues\": [], \"tickformat\": \"\"}, {\"grid\": {\"gridOn\": false}, \"position\": \"left\", \"nticks\": 0, \"tickvalues\": [], \"tickformat\": \"\"}], \"lines\": [], \"markers\": [], \"id\": \"4564374305584\", \"ydomain\": [-1.25, 1.25], \"collections\": [], \"xscale\": \"linear\", \"bbox\": [0.24609375, 0.125, 0.53281250000000002, 0.77500000000000002]}], \"data\": {\"data04\": [[0.4400402818058107, 0.8979780344686961], [0.34314771157038854, 0.9454587436560997], [0.23920591730453955, 0.9769458106969182], [0.13225289297794007, 0.9912160068819337], [0.025299868651340596, 1.0054862030669491], [-0.08326122341375117, 1.002352311608753], [-0.18921293596046834, 0.9819360798265943], [-0.2951646485071855, 0.9615198480444357], [-0.3971169558493883, 0.9240891251868946], [-0.4911091528140506, 0.8710980427152075], [-0.5851013497787129, 0.8181069602435205], [-0.669900312663186, 0.7502507307597446], [-0.7422117198408241, 0.6701654742904367], [-0.8145231270184623, 0.5900802178211288], [-0.8733982943107681, 0.4988166069877846], [-0.9165500034513145, 0.39992010598792777], [-0.959701712591861, 0.3010236049880709], [-0.9865638379120353, 0.19579167917978627], [-0.9960928232482974, 0.08831244234668295], [-1.0056218085845594, -0.019166794486420363], [-0.9976926391158943, -0.1274832764158768], [-0.9726133520348977, -0.23242905894797272], [-0.9475340649539011, -0.33737484148006863], [-0.9056336861195677, -0.43757309615337336], [-0.848539986903897, -0.5291312602985523], [-0.7914462876882262, -0.6206894244437312], [-0.7199083046713634, -0.7024063074723692], [-0.6367051888778331, -0.7711073222684653], [-0.5535020730843029, -0.8398083370645615], [-0.4597254016612786, -0.8945921657264505], [-0.3590182677107898, -0.9333305327963635], [-0.258311133760301, -0.9720688998662764], [-0.15199475710601937, -0.9942535801917171], [-0.044199380936837764, -0.9990227298339114], [0.06359599523234385, -1.0037918794761056], [0.1714561574212337, -0.9910829299277181], [0.2751908885226199, -0.9613896061816619], [0.3789256196240061, -0.9316962824356058], [0.477173979476472, -0.8854081438649367], [0.5661191561092701, -0.8243234201975144], [0.6550643327420682, -0.763238696530092], [0.733539416463925, -0.6881587842972939], [0.7984957595477457, -0.6020004335415954], [0.8634521026315664, -0.5158420827858968], [0.9140375151203045, -0.4197356416418127], [0.9482868241782797, -0.3174147115208628], [0.9825361332362549, -0.21509378139991292], [1.0000000075768007, -0.1079007542057213], [0.9999999999999976, 7.022006773758881e-08], [0.0, 0.0], [0.4400402818058107, 0.8979780344686961]], \"data02\": [[0.8734187248673172, 0.48696994881732664], [0.833234930831469, 0.5590427291446548], [0.7842842416764149, 0.6258653618992489], [0.7276841103621513, 0.6859124109727455], [0.6710839790478877, 0.745959460046242], [0.6072683998213418, 0.7987705011739316], [0.5376941633657808, 0.8431399567582911], [0.0, 0.0], [0.8734187248673172, 0.48696994881732664]], \"data03\": [[0.5376941633657808, 0.8431399567582911], [0.5219466005082397, 0.8531826223535631], [0.5059207732879702, 0.862782134738494], [0.4896355430424684, 0.8719271959226338], [0.4733503127969666, 0.8810722571067736], [0.4568120709128721, 0.8897592779715779], [0.4400402818058107, 0.8979780344686961], [0.0, 0.0], [0.5376941633657808, 0.8431399567582911]], \"data01\": [[1.0, 0.0], [1.0, 0.08488358464566524], [0.9891921655865532, 0.1694227921044945], [0.9678374669507575, 0.25157630565365535], [0.9464827683149617, 0.3337298192028162], [0.914754479737648, 0.4128310365539427], [0.8734187248673172, 0.48696994881732664], [0.0, 0.0], [1.0, 0.0]]}, \"id\": \"4564322966192\", \"toolbar\": [\"reset\", \"move\"], \"height\": 440.0});\n",
        "}\n",
        "\n",
        "if(typeof(mpld3) !== \"undefined\"){\n",
        "   // already loaded: just create the figure\n",
        "   create_fig45643229661928912471430();\n",
        "}else if(typeof define === \"function\" && define.amd){\n",
        "   // require.js is available: use it to load d3/mpld3\n",
        "   require.config({paths: {d3: \"http://d3js.org/d3.v3.min\"}});\n",
        "   require([\"d3\"], function(d3){\n",
        "      window.d3 = d3;\n",
        "      mpld3_load_lib(\"http://mpld3.github.io/js/mpld3.v0.1.js\", create_fig45643229661928912471430);\n",
        "    });\n",
        "}else{\n",
        "    // require.js not available: dynamically load d3 & mpld3\n",
        "    mpld3_load_lib(\"http://d3js.org/d3.v3.min.js\", function(){\n",
        "        mpld3_load_lib(\"http://mpld3.github.io/js/mpld3.v0.1.js\", create_fig45643229661928912471430);})\n",
        "}\n",
        "</script>"
       ],
       "metadata": {},
       "output_type": "display_data",
       "png": "[encoded data removed]",
       "text": [
        "<matplotlib.figure.Figure at 0x134012b0>"
       ]
      }
     ],
     "prompt_number": 102
    },
    {
     "cell_type": "markdown",
     "metadata": {},
     "source": [
      "Histogram for company value by total amount of funding (x=funding bucket, y=count of companies)"
     ]
    },
    {
     "cell_type": "code",
     "collapsed": false,
     "input": [
      "#exclude rows where we do not have a total funding value\n",
      "s = all_companies.funding_total_usd[all_companies.funding_total_usd >= 1]\n",
      "\n",
      "#show values in 10 thousands\n",
      "s = numpy.around(s/10000)\n",
      "n, bins, patches = plt.hist(s,bins=range(0,2500,100),color=COLOR_ORANGE)\n",
      "print 'Histogram of total funding for companies in the dataset, in ten thousands'\n",
      "plt.plot(bins)\n",
      "plt.xlabel('Funding')\n",
      "plt.ylabel('Count')"
     ],
     "language": "python",
     "metadata": {},
     "outputs": [
      {
       "output_type": "stream",
       "stream": "stdout",
       "text": [
        "Histogram of total funding for companies in the dataset, in ten thousands\n"
       ]
      },
      {
       "metadata": {},
       "output_type": "pyout",
       "prompt_number": 207,
       "text": [
        "<matplotlib.text.Text at 0x1f714950>"
       ]
      },
      {
       "html": [
        "\n",
        "<style>\n",
        "\n",
        "</style>\n",
        "\n",
        "<div id=\"fig45645256663846039377468\"></div>\n",
        "<script>\n",
        "function mpld3_load_lib(url, callback){\n",
        "  var s = document.createElement('script');\n",
        "  s.src = url;\n",
        "  s.async = true;\n",
        "  s.onreadystatechange = s.onload = callback;\n",
        "  s.onerror = function(){console.warn(\"failed to load library \" + url);};\n",
        "  document.getElementsByTagName(\"head\")[0].appendChild(s);\n",
        "}\n",
        "\n",
        "function create_fig45645256663846039377468(){\n",
        "  \n",
        "  mpld3.draw_figure(\"fig45645256663846039377468\", {\"width\": 480.0, \"axes\": [{\"xlim\": [0.0, 2500.0], \"yscale\": \"linear\", \"axesbg\": \"#EAEAF2\", \"texts\": [{\"v_baseline\": \"hanging\", \"h_anchor\": \"middle\", \"color\": \"#000000\", \"text\": \"Funding\", \"coordinates\": \"axes\", \"zorder\": 3, \"alpha\": 1, \"fontsize\": 11.0, \"position\": [0.5, -0.094086021505376358], \"rotation\": -0.0, \"id\": \"4564525665424\"}, {\"v_baseline\": \"auto\", \"h_anchor\": \"middle\", \"color\": \"#000000\", \"text\": \"Count\", \"coordinates\": \"axes\", \"zorder\": 3, \"alpha\": 1, \"fontsize\": 11.0, \"position\": [-0.11535338261648745, 0.5], \"rotation\": -90.0, \"id\": \"4564527518032\"}], \"zoomable\": true, \"images\": [], \"xdomain\": [0.0, 2500.0], \"ylim\": [0.0, 12000.0], \"paths\": [{\"edgecolor\": \"#000000\", \"facecolor\": \"#F5CB4E\", \"edgewidth\": 0.3, \"pathcodes\": [\"M\", \"L\", \"L\", \"L\", \"Z\"], \"yindex\": 1, \"coordinates\": \"data\", \"dasharray\": \"10,0\", \"zorder\": 1, \"alpha\": 1, \"xindex\": 0, \"data\": \"data02\", \"id\": \"4564528854160\"}, {\"edgecolor\": \"#000000\", \"facecolor\": \"#F5CB4E\", \"edgewidth\": 0.3, \"pathcodes\": [\"M\", \"L\", \"L\", \"L\", \"Z\"], \"yindex\": 1, \"coordinates\": \"data\", \"dasharray\": \"10,0\", \"zorder\": 1, \"alpha\": 1, \"xindex\": 0, \"data\": \"data03\", \"id\": \"4564521985200\"}, {\"edgecolor\": \"#000000\", \"facecolor\": \"#F5CB4E\", \"edgewidth\": 0.3, \"pathcodes\": [\"M\", \"L\", \"L\", \"L\", \"Z\"], \"yindex\": 1, \"coordinates\": \"data\", \"dasharray\": \"10,0\", \"zorder\": 1, \"alpha\": 1, \"xindex\": 0, \"data\": \"data04\", \"id\": \"4564521584880\"}, {\"edgecolor\": \"#000000\", \"facecolor\": \"#F5CB4E\", \"edgewidth\": 0.3, \"pathcodes\": [\"M\", \"L\", \"L\", \"L\", \"Z\"], \"yindex\": 1, \"coordinates\": \"data\", \"dasharray\": \"10,0\", \"zorder\": 1, \"alpha\": 1, \"xindex\": 0, \"data\": \"data05\", \"id\": \"4564529249968\"}, {\"edgecolor\": \"#000000\", \"facecolor\": \"#F5CB4E\", \"edgewidth\": 0.3, \"pathcodes\": [\"M\", \"L\", \"L\", \"L\", \"Z\"], \"yindex\": 1, \"coordinates\": \"data\", \"dasharray\": \"10,0\", \"zorder\": 1, \"alpha\": 1, \"xindex\": 0, \"data\": \"data06\", \"id\": \"4564529250032\"}, {\"edgecolor\": \"#000000\", \"facecolor\": \"#F5CB4E\", \"edgewidth\": 0.3, \"pathcodes\": [\"M\", \"L\", \"L\", \"L\", \"Z\"], \"yindex\": 1, \"coordinates\": \"data\", \"dasharray\": \"10,0\", \"zorder\": 1, \"alpha\": 1, \"xindex\": 0, \"data\": \"data07\", \"id\": \"4564525843312\"}, {\"edgecolor\": \"#000000\", \"facecolor\": \"#F5CB4E\", \"edgewidth\": 0.3, \"pathcodes\": [\"M\", \"L\", \"L\", \"L\", \"Z\"], \"yindex\": 1, \"coordinates\": \"data\", \"dasharray\": \"10,0\", \"zorder\": 1, \"alpha\": 1, \"xindex\": 0, \"data\": \"data08\", \"id\": \"4564525841200\"}, {\"edgecolor\": \"#000000\", \"facecolor\": \"#F5CB4E\", \"edgewidth\": 0.3, \"pathcodes\": [\"M\", \"L\", \"L\", \"L\", \"Z\"], \"yindex\": 1, \"coordinates\": \"data\", \"dasharray\": \"10,0\", \"zorder\": 1, \"alpha\": 1, \"xindex\": 0, \"data\": \"data09\", \"id\": \"4564525843472\"}, {\"edgecolor\": \"#000000\", \"facecolor\": \"#F5CB4E\", \"edgewidth\": 0.3, \"pathcodes\": [\"M\", \"L\", \"L\", \"L\", \"Z\"], \"yindex\": 1, \"coordinates\": \"data\", \"dasharray\": \"10,0\", \"zorder\": 1, \"alpha\": 1, \"xindex\": 0, \"data\": \"data10\", \"id\": \"4564139740816\"}, {\"edgecolor\": \"#000000\", \"facecolor\": \"#F5CB4E\", \"edgewidth\": 0.3, \"pathcodes\": [\"M\", \"L\", \"L\", \"L\", \"Z\"], \"yindex\": 1, \"coordinates\": \"data\", \"dasharray\": \"10,0\", \"zorder\": 1, \"alpha\": 1, \"xindex\": 0, \"data\": \"data11\", \"id\": \"4564528777424\"}, {\"edgecolor\": \"#000000\", \"facecolor\": \"#F5CB4E\", \"edgewidth\": 0.3, \"pathcodes\": [\"M\", \"L\", \"L\", \"L\", \"Z\"], \"yindex\": 1, \"coordinates\": \"data\", \"dasharray\": \"10,0\", \"zorder\": 1, \"alpha\": 1, \"xindex\": 0, \"data\": \"data12\", \"id\": \"4564528778704\"}, {\"edgecolor\": \"#000000\", \"facecolor\": \"#F5CB4E\", \"edgewidth\": 0.3, \"pathcodes\": [\"M\", \"L\", \"L\", \"L\", \"Z\"], \"yindex\": 1, \"coordinates\": \"data\", \"dasharray\": \"10,0\", \"zorder\": 1, \"alpha\": 1, \"xindex\": 0, \"data\": \"data13\", \"id\": \"4564528777648\"}, {\"edgecolor\": \"#000000\", \"facecolor\": \"#F5CB4E\", \"edgewidth\": 0.3, \"pathcodes\": [\"M\", \"L\", \"L\", \"L\", \"Z\"], \"yindex\": 1, \"coordinates\": \"data\", \"dasharray\": \"10,0\", \"zorder\": 1, \"alpha\": 1, \"xindex\": 0, \"data\": \"data14\", \"id\": \"4564529401904\"}, {\"edgecolor\": \"#000000\", \"facecolor\": \"#F5CB4E\", \"edgewidth\": 0.3, \"pathcodes\": [\"M\", \"L\", \"L\", \"L\", \"Z\"], \"yindex\": 1, \"coordinates\": \"data\", \"dasharray\": \"10,0\", \"zorder\": 1, \"alpha\": 1, \"xindex\": 0, \"data\": \"data15\", \"id\": \"4564529401136\"}, {\"edgecolor\": \"#000000\", \"facecolor\": \"#F5CB4E\", \"edgewidth\": 0.3, \"pathcodes\": [\"M\", \"L\", \"L\", \"L\", \"Z\"], \"yindex\": 1, \"coordinates\": \"data\", \"dasharray\": \"10,0\", \"zorder\": 1, \"alpha\": 1, \"xindex\": 0, \"data\": \"data16\", \"id\": \"4564529403472\"}, {\"edgecolor\": \"#000000\", \"facecolor\": \"#F5CB4E\", \"edgewidth\": 0.3, \"pathcodes\": [\"M\", \"L\", \"L\", \"L\", \"Z\"], \"yindex\": 1, \"coordinates\": \"data\", \"dasharray\": \"10,0\", \"zorder\": 1, \"alpha\": 1, \"xindex\": 0, \"data\": \"data17\", \"id\": \"4564525718768\"}, {\"edgecolor\": \"#000000\", \"facecolor\": \"#F5CB4E\", \"edgewidth\": 0.3, \"pathcodes\": [\"M\", \"L\", \"L\", \"L\", \"Z\"], \"yindex\": 1, \"coordinates\": \"data\", \"dasharray\": \"10,0\", \"zorder\": 1, \"alpha\": 1, \"xindex\": 0, \"data\": \"data18\", \"id\": \"4564525718832\"}, {\"edgecolor\": \"#000000\", \"facecolor\": \"#F5CB4E\", \"edgewidth\": 0.3, \"pathcodes\": [\"M\", \"L\", \"L\", \"L\", \"Z\"], \"yindex\": 1, \"coordinates\": \"data\", \"dasharray\": \"10,0\", \"zorder\": 1, \"alpha\": 1, \"xindex\": 0, \"data\": \"data19\", \"id\": \"4564525718512\"}, {\"edgecolor\": \"#000000\", \"facecolor\": \"#F5CB4E\", \"edgewidth\": 0.3, \"pathcodes\": [\"M\", \"L\", \"L\", \"L\", \"Z\"], \"yindex\": 1, \"coordinates\": \"data\", \"dasharray\": \"10,0\", \"zorder\": 1, \"alpha\": 1, \"xindex\": 0, \"data\": \"data20\", \"id\": \"4564528696912\"}, {\"edgecolor\": \"#000000\", \"facecolor\": \"#F5CB4E\", \"edgewidth\": 0.3, \"pathcodes\": [\"M\", \"L\", \"L\", \"L\", \"Z\"], \"yindex\": 1, \"coordinates\": \"data\", \"dasharray\": \"10,0\", \"zorder\": 1, \"alpha\": 1, \"xindex\": 0, \"data\": \"data21\", \"id\": \"4564528698512\"}, {\"edgecolor\": \"#000000\", \"facecolor\": \"#F5CB4E\", \"edgewidth\": 0.3, \"pathcodes\": [\"M\", \"L\", \"L\", \"L\", \"Z\"], \"yindex\": 1, \"coordinates\": \"data\", \"dasharray\": \"10,0\", \"zorder\": 1, \"alpha\": 1, \"xindex\": 0, \"data\": \"data22\", \"id\": \"4564528696528\"}, {\"edgecolor\": \"#000000\", \"facecolor\": \"#F5CB4E\", \"edgewidth\": 0.3, \"pathcodes\": [\"M\", \"L\", \"L\", \"L\", \"Z\"], \"yindex\": 1, \"coordinates\": \"data\", \"dasharray\": \"10,0\", \"zorder\": 1, \"alpha\": 1, \"xindex\": 0, \"data\": \"data23\", \"id\": \"4564525793616\"}, {\"edgecolor\": \"#000000\", \"facecolor\": \"#F5CB4E\", \"edgewidth\": 0.3, \"pathcodes\": [\"M\", \"L\", \"L\", \"L\", \"Z\"], \"yindex\": 1, \"coordinates\": \"data\", \"dasharray\": \"10,0\", \"zorder\": 1, \"alpha\": 1, \"xindex\": 0, \"data\": \"data24\", \"id\": \"4564525795184\"}, {\"edgecolor\": \"#000000\", \"facecolor\": \"#F5CB4E\", \"edgewidth\": 0.3, \"pathcodes\": [\"M\", \"L\", \"L\", \"L\", \"Z\"], \"yindex\": 1, \"coordinates\": \"data\", \"dasharray\": \"10,0\", \"zorder\": 1, \"alpha\": 1, \"xindex\": 0, \"data\": \"data25\", \"id\": \"4564525792752\"}], \"sharey\": [], \"sharex\": [], \"axesbgalpha\": null, \"axes\": [{\"grid\": {\"color\": \"#FFFFFF\", \"alpha\": 1.0, \"dasharray\": \"10,0\", \"gridOn\": true}, \"position\": \"bottom\", \"nticks\": 6, \"tickvalues\": null, \"tickformat\": null}, {\"grid\": {\"color\": \"#FFFFFF\", \"alpha\": 1.0, \"dasharray\": \"10,0\", \"gridOn\": true}, \"position\": \"left\", \"nticks\": 7, \"tickvalues\": null, \"tickformat\": null}], \"lines\": [{\"color\": \"#4C72B0\", \"yindex\": 1, \"coordinates\": \"data\", \"dasharray\": \"10,0\", \"zorder\": 2, \"alpha\": 1, \"xindex\": 0, \"linewidth\": 1.4, \"data\": \"data01\", \"id\": \"4564522964816\"}], \"markers\": [], \"id\": \"4564525665040\", \"ydomain\": [0.0, 12000.0], \"collections\": [], \"xscale\": \"linear\", \"bbox\": [0.125, 0.125, 0.77500000000000002, 0.77500000000000002]}], \"data\": {\"data06\": [[400.0, 0.0], [500.0, 0.0], [500.0, 1130.0], [400.0, 1130.0]], \"data08\": [[600.0, 0.0], [700.0, 0.0], [700.0, 836.0], [600.0, 836.0]], \"data09\": [[700.0, 0.0], [800.0, 0.0], [800.0, 686.0], [700.0, 686.0]], \"data20\": [[1800.0, 0.0], [1900.0, 0.0], [1900.0, 195.0], [1800.0, 195.0]], \"data21\": [[1900.0, 0.0], [2000.0, 0.0], [2000.0, 177.0], [1900.0, 177.0]], \"data22\": [[2000.0, 0.0], [2100.0, 0.0], [2100.0, 320.0], [2000.0, 320.0]], \"data05\": [[300.0, 0.0], [400.0, 0.0], [400.0, 1548.0], [300.0, 1548.0]], \"data02\": [[0.0, 0.0], [100.0, 0.0], [100.0, 10362.0], [0.0, 10362.0]], \"data04\": [[200.0, 0.0], [300.0, 0.0], [300.0, 2153.0], [200.0, 2153.0]], \"data01\": [[0.0, 0.0], [1.0, 100.0], [2.0, 200.0], [3.0, 300.0], [4.0, 400.0], [5.0, 500.0], [6.0, 600.0], [7.0, 700.0], [8.0, 800.0], [9.0, 900.0], [10.0, 1000.0], [11.0, 1100.0], [12.0, 1200.0], [13.0, 1300.0], [14.0, 1400.0], [15.0, 1500.0], [16.0, 1600.0], [17.0, 1700.0], [18.0, 1800.0], [19.0, 1900.0], [20.0, 2000.0], [21.0, 2100.0], [22.0, 2200.0], [23.0, 2300.0], [24.0, 2400.0]], \"data23\": [[2100.0, 0.0], [2200.0, 0.0], [2200.0, 143.0], [2100.0, 143.0]], \"data24\": [[2200.0, 0.0], [2300.0, 0.0], [2300.0, 181.0], [2200.0, 181.0]], \"data03\": [[100.0, 0.0], [200.0, 0.0], [200.0, 3889.0], [100.0, 3889.0]], \"data07\": [[500.0, 0.0], [600.0, 0.0], [600.0, 1124.0], [500.0, 1124.0]], \"data25\": [[2300.0, 0.0], [2400.0, 0.0], [2400.0, 179.0], [2300.0, 179.0]], \"data19\": [[1700.0, 0.0], [1800.0, 0.0], [1800.0, 217.0], [1700.0, 217.0]], \"data18\": [[1600.0, 0.0], [1700.0, 0.0], [1700.0, 254.0], [1600.0, 254.0]], \"data15\": [[1300.0, 0.0], [1400.0, 0.0], [1400.0, 309.0], [1300.0, 309.0]], \"data14\": [[1200.0, 0.0], [1300.0, 0.0], [1300.0, 439.0], [1200.0, 439.0]], \"data17\": [[1500.0, 0.0], [1600.0, 0.0], [1600.0, 390.0], [1500.0, 390.0]], \"data16\": [[1400.0, 0.0], [1500.0, 0.0], [1500.0, 269.0], [1400.0, 269.0]], \"data11\": [[900.0, 0.0], [1000.0, 0.0], [1000.0, 416.0], [900.0, 416.0]], \"data10\": [[800.0, 0.0], [900.0, 0.0], [900.0, 583.0], [800.0, 583.0]], \"data13\": [[1100.0, 0.0], [1200.0, 0.0], [1200.0, 366.0], [1100.0, 366.0]], \"data12\": [[1000.0, 0.0], [1100.0, 0.0], [1100.0, 767.0], [1000.0, 767.0]]}, \"id\": \"4564525666384\", \"toolbar\": [\"reset\", \"move\"], \"height\": 320.0});\n",
        "}\n",
        "\n",
        "if(typeof(mpld3) !== \"undefined\"){\n",
        "   // already loaded: just create the figure\n",
        "   create_fig45645256663846039377468();\n",
        "}else if(typeof define === \"function\" && define.amd){\n",
        "   // require.js is available: use it to load d3/mpld3\n",
        "   require.config({paths: {d3: \"http://d3js.org/d3.v3.min\"}});\n",
        "   require([\"d3\"], function(d3){\n",
        "      window.d3 = d3;\n",
        "      mpld3_load_lib(\"http://mpld3.github.io/js/mpld3.v0.1.js\", create_fig45645256663846039377468);\n",
        "    });\n",
        "}else{\n",
        "    // require.js not available: dynamically load d3 & mpld3\n",
        "    mpld3_load_lib(\"http://d3js.org/d3.v3.min.js\", function(){\n",
        "        mpld3_load_lib(\"http://mpld3.github.io/js/mpld3.v0.1.js\", create_fig45645256663846039377468);})\n",
        "}\n",
        "</script>"
       ],
       "metadata": {},
       "output_type": "display_data",
       "png": "[encoded data removed]",
       "text": [
        "<matplotlib.figure.Figure at 0x1f550850>"
       ]
      }
     ],
     "prompt_number": 207
    },
    {
     "cell_type": "markdown",
     "metadata": {},
     "source": [
      "<h2 style=\"font-size:15px; line-height:0px\">Investments</h2><hr style=\"line-height:0px;margin-bottom:-10px\"/>"
     ]
    },
    {
     "cell_type": "markdown",
     "metadata": {},
     "source": [
      "Length of dataset (number)"
     ]
    },
    {
     "cell_type": "code",
     "collapsed": false,
     "input": [
      "len(investments)"
     ],
     "language": "python",
     "metadata": {},
     "outputs": [
      {
       "metadata": {},
       "output_type": "pyout",
       "prompt_number": 103,
       "text": [
        "86952"
       ]
      }
     ],
     "prompt_number": 103
    },
    {
     "cell_type": "markdown",
     "metadata": {},
     "source": [
      "Funding events over time (y = count, x = funding_date)"
     ]
    },
    {
     "cell_type": "code",
     "collapsed": false,
     "input": [
      "filter = (investments.funded_year > 2000) & (investments.funded_year <= 2013)\n",
      "count = investments[filter].groupby('funded_year').count()['company_permalink']\n",
      "ax = count.plot(title=\"Count of funding events by year (2010-2013]\",color=COLOR_GREEN)\n",
      "ax.set_ylabel('Number of Fundings')\n",
      "ax.set_xlabel('Year')"
     ],
     "language": "python",
     "metadata": {},
     "outputs": [
      {
       "metadata": {},
       "output_type": "pyout",
       "prompt_number": 335,
       "text": [
        "<matplotlib.text.Text at 0x3306a750>"
       ]
      },
      {
       "html": [
        "\n",
        "<style>\n",
        "\n",
        "</style>\n",
        "\n",
        "<div id=\"fig45648539044962506394288\"></div>\n",
        "<script>\n",
        "function mpld3_load_lib(url, callback){\n",
        "  var s = document.createElement('script');\n",
        "  s.src = url;\n",
        "  s.async = true;\n",
        "  s.onreadystatechange = s.onload = callback;\n",
        "  s.onerror = function(){console.warn(\"failed to load library \" + url);};\n",
        "  document.getElementsByTagName(\"head\")[0].appendChild(s);\n",
        "}\n",
        "\n",
        "function create_fig45648539044962506394288(){\n",
        "  \n",
        "  mpld3.draw_figure(\"fig45648539044962506394288\", {\"width\": 480.0, \"axes\": [{\"xlim\": [2000.0, 2014.0], \"yscale\": \"linear\", \"axesbg\": \"#EAEAF2\", \"texts\": [{\"v_baseline\": \"hanging\", \"h_anchor\": \"middle\", \"color\": \"#000000\", \"text\": \"Year\", \"coordinates\": \"axes\", \"zorder\": 3, \"alpha\": 1, \"fontsize\": 11.0, \"position\": [0.5, -0.094086021505376358], \"rotation\": -0.0, \"id\": \"4564856074064\"}, {\"v_baseline\": \"auto\", \"h_anchor\": \"middle\", \"color\": \"#000000\", \"text\": \"Number of Fundings\", \"coordinates\": \"axes\", \"zorder\": 3, \"alpha\": 1, \"fontsize\": 11.0, \"position\": [-0.11535338261648745, 0.5], \"rotation\": -90.0, \"id\": \"4564853991120\"}, {\"v_baseline\": \"auto\", \"h_anchor\": \"middle\", \"color\": \"#000000\", \"text\": \"Count of funding events by year (2010-2013]\", \"coordinates\": \"axes\", \"zorder\": 3, \"alpha\": 1, \"fontsize\": 12.0, \"position\": [0.5, 1.0224014336917562], \"rotation\": -0.0, \"id\": \"4564857674896\"}], \"zoomable\": true, \"images\": [], \"xdomain\": [2000.0, 2014.0], \"ylim\": [0.0, 18000.0], \"paths\": [], \"sharey\": [], \"sharex\": [], \"axesbgalpha\": null, \"axes\": [{\"grid\": {\"color\": \"#FFFFFF\", \"alpha\": 1.0, \"dasharray\": \"10,0\", \"gridOn\": true}, \"position\": \"bottom\", \"nticks\": 8, \"tickvalues\": null, \"tickformat\": null}, {\"grid\": {\"color\": \"#FFFFFF\", \"alpha\": 1.0, \"dasharray\": \"10,0\", \"gridOn\": true}, \"position\": \"left\", \"nticks\": 10, \"tickvalues\": null, \"tickformat\": null}], \"lines\": [{\"color\": \"#5FBD48\", \"yindex\": 1, \"coordinates\": \"data\", \"dasharray\": \"10,0\", \"zorder\": 2, \"alpha\": 1, \"xindex\": 0, \"linewidth\": 1.4, \"data\": \"data01\", \"id\": \"4564856647216\"}], \"markers\": [], \"id\": \"4564857462128\", \"ydomain\": [0.0, 18000.0], \"collections\": [], \"xscale\": \"linear\", \"bbox\": [0.125, 0.125, 0.77500000000000002, 0.77500000000000002]}], \"data\": {\"data01\": [[2001.0, 167.0], [2002.0, 253.0], [2003.0, 260.0], [2004.0, 576.0], [2005.0, 4160.0], [2006.0, 5563.0], [2007.0, 6658.0], [2008.0, 7042.0], [2009.0, 6698.0], [2010.0, 9071.0], [2011.0, 11778.0], [2012.0, 14288.0], [2013.0, 17015.0]]}, \"id\": \"4564853904496\", \"toolbar\": [\"reset\", \"move\"], \"height\": 320.0});\n",
        "}\n",
        "\n",
        "if(typeof(mpld3) !== \"undefined\"){\n",
        "   // already loaded: just create the figure\n",
        "   create_fig45648539044962506394288();\n",
        "}else if(typeof define === \"function\" && define.amd){\n",
        "   // require.js is available: use it to load d3/mpld3\n",
        "   require.config({paths: {d3: \"http://d3js.org/d3.v3.min\"}});\n",
        "   require([\"d3\"], function(d3){\n",
        "      window.d3 = d3;\n",
        "      mpld3_load_lib(\"http://mpld3.github.io/js/mpld3.v0.1.js\", create_fig45648539044962506394288);\n",
        "    });\n",
        "}else{\n",
        "    // require.js not available: dynamically load d3 & mpld3\n",
        "    mpld3_load_lib(\"http://d3js.org/d3.v3.min.js\", function(){\n",
        "        mpld3_load_lib(\"http://mpld3.github.io/js/mpld3.v0.1.js\", create_fig45648539044962506394288);})\n",
        "}\n",
        "</script>"
       ],
       "metadata": {},
       "output_type": "display_data",
       "png": "[encoded data removed]",
       "text": [
        "<matplotlib.figure.Figure at 0x32e58c70>"
       ]
      }
     ],
     "prompt_number": 335
    },
    {
     "cell_type": "markdown",
     "metadata": {},
     "source": [
      "Investments by stage (funding_round in investments.csv) bar chart"
     ]
    },
    {
     "cell_type": "code",
     "collapsed": false,
     "input": [
      "invest_pivot = pd.pivot_table(investments, cols=['funding_round_type'],aggfunc=\"count\").ix[0]\n",
      "invest_pivot.plot(kind='barh')\n",
      "#where are my column labels?? grrrrrrrrr\n",
      "invest_pivot.index"
     ],
     "language": "python",
     "metadata": {},
     "outputs": [
      {
       "metadata": {},
       "output_type": "pyout",
       "prompt_number": 331,
       "text": [
        "Index([u'angel', u'crowdfunding', u'other', u'post-ipo', u'private-equity', u'series-a', u'series-b', u'series-c+', u'venture'], dtype='object')"
       ]
      },
      {
       "html": [
        "\n",
        "<style>\n",
        "\n",
        "</style>\n",
        "\n",
        "<div id=\"fig45648510004005657062556\"></div>\n",
        "<script>\n",
        "function mpld3_load_lib(url, callback){\n",
        "  var s = document.createElement('script');\n",
        "  s.src = url;\n",
        "  s.async = true;\n",
        "  s.onreadystatechange = s.onload = callback;\n",
        "  s.onerror = function(){console.warn(\"failed to load library \" + url);};\n",
        "  document.getElementsByTagName(\"head\")[0].appendChild(s);\n",
        "}\n",
        "\n",
        "function create_fig45648510004005657062556(){\n",
        "  \n",
        "  mpld3.draw_figure(\"fig45648510004005657062556\", {\"width\": 480.0, \"axes\": [{\"xlim\": [0.0, 25000.0], \"yscale\": \"linear\", \"axesbg\": \"#EAEAF2\", \"texts\": [{\"v_baseline\": \"auto\", \"h_anchor\": \"middle\", \"color\": \"#000000\", \"text\": \"funding_round_type\", \"coordinates\": \"axes\", \"zorder\": 3, \"alpha\": 1, \"fontsize\": 11.0, \"position\": [-0.21351366487455198, 0.5], \"rotation\": -90.0, \"id\": \"4564850137168\"}], \"zoomable\": true, \"images\": [], \"xdomain\": [0.0, 25000.0], \"ylim\": [0.0, 9.25], \"paths\": [{\"edgecolor\": \"#000000\", \"facecolor\": \"#4C72B0\", \"edgewidth\": 0.3, \"pathcodes\": [\"M\", \"L\", \"L\", \"L\", \"Z\"], \"yindex\": 1, \"coordinates\": \"data\", \"dasharray\": \"10,0\", \"zorder\": 1, \"alpha\": 1, \"xindex\": 0, \"data\": \"data02\", \"id\": \"4564850186128\"}, {\"edgecolor\": \"#000000\", \"facecolor\": \"#4C72B0\", \"edgewidth\": 0.3, \"pathcodes\": [\"M\", \"L\", \"L\", \"L\", \"Z\"], \"yindex\": 1, \"coordinates\": \"data\", \"dasharray\": \"10,0\", \"zorder\": 1, \"alpha\": 1, \"xindex\": 0, \"data\": \"data03\", \"id\": \"4564850184944\"}, {\"edgecolor\": \"#000000\", \"facecolor\": \"#4C72B0\", \"edgewidth\": 0.3, \"pathcodes\": [\"M\", \"L\", \"L\", \"L\", \"Z\"], \"yindex\": 1, \"coordinates\": \"data\", \"dasharray\": \"10,0\", \"zorder\": 1, \"alpha\": 1, \"xindex\": 0, \"data\": \"data04\", \"id\": \"4564850182896\"}, {\"edgecolor\": \"#000000\", \"facecolor\": \"#4C72B0\", \"edgewidth\": 0.3, \"pathcodes\": [\"M\", \"L\", \"L\", \"L\", \"Z\"], \"yindex\": 1, \"coordinates\": \"data\", \"dasharray\": \"10,0\", \"zorder\": 1, \"alpha\": 1, \"xindex\": 0, \"data\": \"data05\", \"id\": \"4564850185072\"}, {\"edgecolor\": \"#000000\", \"facecolor\": \"#4C72B0\", \"edgewidth\": 0.3, \"pathcodes\": [\"M\", \"L\", \"L\", \"L\", \"Z\"], \"yindex\": 1, \"coordinates\": \"data\", \"dasharray\": \"10,0\", \"zorder\": 1, \"alpha\": 1, \"xindex\": 0, \"data\": \"data06\", \"id\": \"4564832167920\"}, {\"edgecolor\": \"#000000\", \"facecolor\": \"#4C72B0\", \"edgewidth\": 0.3, \"pathcodes\": [\"M\", \"L\", \"L\", \"L\", \"Z\"], \"yindex\": 1, \"coordinates\": \"data\", \"dasharray\": \"10,0\", \"zorder\": 1, \"alpha\": 1, \"xindex\": 0, \"data\": \"data07\", \"id\": \"4564853257712\"}, {\"edgecolor\": \"#000000\", \"facecolor\": \"#4C72B0\", \"edgewidth\": 0.3, \"pathcodes\": [\"M\", \"L\", \"L\", \"L\", \"Z\"], \"yindex\": 1, \"coordinates\": \"data\", \"dasharray\": \"10,0\", \"zorder\": 1, \"alpha\": 1, \"xindex\": 0, \"data\": \"data08\", \"id\": \"4564853256592\"}, {\"edgecolor\": \"#000000\", \"facecolor\": \"#4C72B0\", \"edgewidth\": 0.3, \"pathcodes\": [\"M\", \"L\", \"L\", \"L\", \"Z\"], \"yindex\": 1, \"coordinates\": \"data\", \"dasharray\": \"10,0\", \"zorder\": 1, \"alpha\": 1, \"xindex\": 0, \"data\": \"data09\", \"id\": \"4564853256304\"}, {\"edgecolor\": \"#000000\", \"facecolor\": \"#4C72B0\", \"edgewidth\": 0.3, \"pathcodes\": [\"M\", \"L\", \"L\", \"L\", \"Z\"], \"yindex\": 1, \"coordinates\": \"data\", \"dasharray\": \"10,0\", \"zorder\": 1, \"alpha\": 1, \"xindex\": 0, \"data\": \"data10\", \"id\": \"4564853257968\"}], \"sharey\": [], \"sharex\": [], \"axesbgalpha\": null, \"axes\": [{\"grid\": {\"color\": \"#FFFFFF\", \"alpha\": 1.0, \"dasharray\": \"10,0\", \"gridOn\": true}, \"position\": \"bottom\", \"nticks\": 6, \"tickvalues\": null, \"tickformat\": null}, {\"grid\": {\"color\": \"#FFFFFF\", \"alpha\": 1.0, \"dasharray\": \"10,0\", \"gridOn\": true}, \"position\": \"left\", \"nticks\": 9, \"tickvalues\": [0.625, 1.625, 2.625, 3.625, 4.625, 5.625, 6.625, 7.625, 8.625], \"tickformat\": null}], \"lines\": [{\"color\": \"#000000\", \"yindex\": 1, \"coordinates\": \"display\", \"dasharray\": \"6,6\", \"zorder\": 2, \"alpha\": 1, \"xindex\": 0, \"linewidth\": 1.4, \"data\": \"data01\", \"id\": \"4564854074480\"}], \"markers\": [], \"id\": \"4564853288976\", \"ydomain\": [0.0, 9.25], \"collections\": [], \"xscale\": \"linear\", \"bbox\": [0.125, 0.125, 0.77500000000000002, 0.77500000000000002]}], \"data\": {\"data10\": [[0.0, 8.25], [16852.0, 8.25], [16852.0, 9.0], [0.0, 9.0]], \"data08\": [[0.0, 6.25], [12863.0, 6.25], [12863.0, 7.0], [0.0, 7.0]], \"data09\": [[0.0, 7.25], [14351.0, 7.25], [14351.0, 8.0], [0.0, 8.0]], \"data06\": [[0.0, 4.25], [1623.0, 4.25], [1623.0, 5.0], [0.0, 5.0]], \"data07\": [[0.0, 5.25], [21792.0, 5.25], [21792.0, 6.0], [0.0, 6.0]], \"data04\": [[0.0, 2.25], [1603.0, 2.25], [1603.0, 3.0], [0.0, 3.0]], \"data05\": [[0.0, 3.25], [85.0, 3.25], [85.0, 4.0], [0.0, 4.0]], \"data02\": [[0.0, 0.25], [17761.0, 0.25], [17761.0, 1.0], [0.0, 1.0]], \"data03\": [[0.0, 1.25], [22.0, 1.25], [22.0, 2.0], [0.0, 2.0]], \"data01\": [[60.0, 40.0], [60.0, 288.0]]}, \"id\": \"4564851000400\", \"toolbar\": [\"reset\", \"move\"], \"height\": 320.0});\n",
        "}\n",
        "\n",
        "if(typeof(mpld3) !== \"undefined\"){\n",
        "   // already loaded: just create the figure\n",
        "   create_fig45648510004005657062556();\n",
        "}else if(typeof define === \"function\" && define.amd){\n",
        "   // require.js is available: use it to load d3/mpld3\n",
        "   require.config({paths: {d3: \"http://d3js.org/d3.v3.min\"}});\n",
        "   require([\"d3\"], function(d3){\n",
        "      window.d3 = d3;\n",
        "      mpld3_load_lib(\"http://mpld3.github.io/js/mpld3.v0.1.js\", create_fig45648510004005657062556);\n",
        "    });\n",
        "}else{\n",
        "    // require.js not available: dynamically load d3 & mpld3\n",
        "    mpld3_load_lib(\"http://d3js.org/d3.v3.min.js\", function(){\n",
        "        mpld3_load_lib(\"http://mpld3.github.io/js/mpld3.v0.1.js\", create_fig45648510004005657062556);})\n",
        "}\n",
        "</script>"
       ],
       "metadata": {},
       "output_type": "display_data",
       "png": "[encoded data removed]",
       "text": [
        "<matplotlib.figure.Figure at 0x32b93c50>"
       ]
      }
     ],
     "prompt_number": 331
    },
    {
     "cell_type": "markdown",
     "metadata": {},
     "source": [
      "Number of investments by VC (top 20)"
     ]
    },
    {
     "cell_type": "code",
     "collapsed": false,
     "input": [],
     "language": "python",
     "metadata": {},
     "outputs": []
    },
    {
     "cell_type": "markdown",
     "metadata": {},
     "source": [
      "<br>/////////////////////////////////////////////////////////////////////////////////////////////////////////////////////////////////////////////////////////////////////////////////////////////////////////////////////////////////<br><br>"
     ]
    },
    {
     "cell_type": "markdown",
     "metadata": {},
     "source": [
      "<h1 style=\"font-size:20px;line-height:0px;margin-bottom:10px;text-transform:uppercase;color:#3376A3\">4 / Location</h1>"
     ]
    },
    {
     "cell_type": "markdown",
     "metadata": {},
     "source": [
      "Top states for acquisitions (x = state, y = count of acquisitions, limit = 10, bar)"
     ]
    },
    {
     "cell_type": "code",
     "collapsed": false,
     "input": [
      "#Top 10 states for doing startups\n",
      "\n",
      "grpby_state = acquired_companies.groupby('company_state_code').count()\n",
      "grpby_state.sort('company_state_code',ascending=False).head(10)[1:].plot(legend=False,title=\"Top 10 states for doing startups\", kind = \"bar\")\n",
      "\n",
      "#State '0' ---> the companies without any state in the database"
     ],
     "language": "python",
     "metadata": {},
     "outputs": []
    },
    {
     "cell_type": "markdown",
     "metadata": {},
     "source": [
      "Top cities for acquisitions (x = city, y = count of acquisitions, limit = 10, bar)"
     ]
    },
    {
     "cell_type": "code",
     "collapsed": false,
     "input": [
      "#Top 10 cities for doing startups\n",
      "\n",
      "grpby_city = acquired_companies.groupby('company_city').count()\n",
      "grpby_city.sort('company_city',ascending=False).head(10)[1:].plot(legend=False,title=\"Top 10 cities for doing startups\", kind=\"bar\")\n",
      "plt.xticks(rotation=45)\n",
      "#City '0' ---> the companies without any city in the database. Eliminated"
     ],
     "language": "python",
     "metadata": {},
     "outputs": []
    },
    {
     "cell_type": "markdown",
     "metadata": {},
     "source": [
      "Top cities for funding amount (x = city, y = amount of funding, limit = 10, bar)"
     ]
    },
    {
     "cell_type": "code",
     "collapsed": false,
     "input": [],
     "language": "python",
     "metadata": {},
     "outputs": []
    },
    {
     "cell_type": "markdown",
     "metadata": {},
     "source": [
      "Map visualization (if we have time)"
     ]
    },
    {
     "cell_type": "code",
     "collapsed": false,
     "input": [],
     "language": "python",
     "metadata": {},
     "outputs": []
    },
    {
     "cell_type": "markdown",
     "metadata": {},
     "source": [
      "<br>/////////////////////////////////////////////////////////////////////////////////////////////////////////////////////////////////////////////////////////////////////////////////////////////////////////////////////////////////<br><br>"
     ]
    },
    {
     "cell_type": "markdown",
     "metadata": {},
     "source": [
      "<h1 style=\"font-size:20px;line-height:0px;margin-bottom:10px;text-transform:uppercase;color:#3376A3\">4 / Category</h1>"
     ]
    },
    {
     "cell_type": "markdown",
     "metadata": {},
     "source": [
      "Top categories for acquisitions (x = category, y = count of acquisitions, limit = 20, bar)"
     ]
    },
    {
     "cell_type": "code",
     "collapsed": false,
     "input": [],
     "language": "python",
     "metadata": {},
     "outputs": []
    },
    {
     "cell_type": "markdown",
     "metadata": {},
     "source": [
      "Total funding by category (top 10-20) and year (x = years, y = amount of funding, stacked bar chart)"
     ]
    },
    {
     "cell_type": "code",
     "collapsed": false,
     "input": [],
     "language": "python",
     "metadata": {},
     "outputs": []
    },
    {
     "cell_type": "markdown",
     "metadata": {},
     "source": [
      "Number of acquisitions/exit by acquired company category (top 10-20) and year (x = years, y = count of acquisitions, stacked bar chart)"
     ]
    },
    {
     "cell_type": "code",
     "collapsed": false,
     "input": [],
     "language": "python",
     "metadata": {},
     "outputs": []
    },
    {
     "cell_type": "markdown",
     "metadata": {},
     "source": [
      "Comparison of 2 categories over time (line chart, x = year, y = total funding for all events for companies in that category, two lines 1 for each)"
     ]
    },
    {
     "cell_type": "code",
     "collapsed": false,
     "input": [],
     "language": "python",
     "metadata": {},
     "outputs": []
    },
    {
     "cell_type": "markdown",
     "metadata": {},
     "source": [
      "Comparison of 2 categories over time (bar chart, x = year, y = total # of exits in that category, two bars for each year)"
     ]
    },
    {
     "cell_type": "code",
     "collapsed": false,
     "input": [],
     "language": "python",
     "metadata": {},
     "outputs": []
    },
    {
     "cell_type": "markdown",
     "metadata": {},
     "source": [
      "Are companies acquiring in the same category or not? 2 lines in the chart, x = year, y = count of acquisitions where they have the same category, count where they are different"
     ]
    },
    {
     "cell_type": "code",
     "collapsed": false,
     "input": [],
     "language": "python",
     "metadata": {},
     "outputs": []
    },
    {
     "cell_type": "markdown",
     "metadata": {},
     "source": [
      "<br>/////////////////////////////////////////////////////////////////////////////////////////////////////////////////////////////////////////////////////////////////////////////////////////////////////////////////////////////////<br><br>"
     ]
    },
    {
     "cell_type": "markdown",
     "metadata": {},
     "source": [
      "<h1 style=\"font-size:20px;line-height:0px;margin-bottom:10px;text-transform:uppercase;color:#3376A3\">5 / Conclusions</h1>"
     ]
    },
    {
     "cell_type": "markdown",
     "metadata": {},
     "source": [
      "Blahblahblah"
     ]
    }
   ],
   "metadata": {}
  }
 ]
}