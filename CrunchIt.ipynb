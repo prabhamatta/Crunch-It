{
 "metadata": {
  "name": "",
  "signature": "sha256:b61531d1161ad6b147d7f2a1ab1bcac6fca18c463429689ad10b19ded248a0d0"
 },
 "nbformat": 3,
 "nbformat_minor": 0,
 "worksheets": [
  {
   "cells": [
    {
     "cell_type": "heading",
     "level": 1,
     "metadata": {},
     "source": [
      "<h1 style=\"line-height:0px;\">Crunch It!  <span style=\"font-size:18px;color:#999\">by Kate Rushton and Prabha Matta</span></h1>"
     ]
    },
    {
     "cell_type": "markdown",
     "metadata": {},
     "source": [
      "Crunch It! is a Python-driven exploration of Crunchbase, a database of technology companies."
     ]
    },
    {
     "cell_type": "markdown",
     "metadata": {},
     "source": [
      "<br>/////////////////////////////////////////////////////////////////////////////////////////////////////////////////////////////////////////////////////////////////////////////////////////////////////////////////////////////////<br><br>"
     ]
    },
    {
     "cell_type": "markdown",
     "metadata": {},
     "source": [
      "<h1 style=\"font-size:20px;line-height:0px;margin-bottom:10px;text-transform:uppercase;color:#3376A3\">1 / Introduction</h1>"
     ]
    },
    {
     "cell_type": "markdown",
     "metadata": {},
     "source": [
      "<h2 style=\"font-size:15px; line-height:0px\">About Crunchbase</h2><hr style=\"line-height:0px;margin-bottom:-10px\"/>"
     ]
    },
    {
     "cell_type": "markdown",
     "metadata": {},
     "source": [
      "What is included in the dataset, how often it can be downloaded and where from, licensing terms"
     ]
    },
    {
     "cell_type": "markdown",
     "metadata": {},
     "source": [
      "<h2 style=\"font-size:15px; line-height:0px\">Project Goals</h2><hr style=\"line-height:0px;margin-bottom:-10px\"/>"
     ]
    },
    {
     "cell_type": "markdown",
     "metadata": {},
     "source": [
      "What we we intend to show the reader."
     ]
    },
    {
     "cell_type": "markdown",
     "metadata": {},
     "source": [
      "<br>/////////////////////////////////////////////////////////////////////////////////////////////////////////////////////////////////////////////////////////////////////////////////////////////////////////////////////////////////<br><br>"
     ]
    },
    {
     "cell_type": "code",
     "collapsed": false,
     "input": [
      "import numpy as np\n",
      "import scipy as sp\n",
      "\n",
      "from pylab import figure, show\n",
      "from pandas import DataFrame, Series\n",
      "import pandas as pd\n",
      "\n",
      "%pylab inline\n",
      "%matplotlib inline\n",
      "import matplotlib.pyplot as plt\n"
     ],
     "language": "python",
     "metadata": {},
     "outputs": []
    },
    {
     "cell_type": "code",
     "collapsed": false,
     "input": [
      "try:\n",
      "    import mpld3\n",
      "    from mpld3 import enable_notebook\n",
      "    from mpld3 import plugins\n",
      "    enable_notebook()\n",
      "except Exception as e:\n",
      "    print \"Attempt to import and enable mpld3 failed\", e\n",
      "mpld3.enable_notebook()"
     ],
     "language": "python",
     "metadata": {},
     "outputs": []
    },
    {
     "cell_type": "code",
     "collapsed": false,
     "input": [
      "try:\n",
      "    import seaborn as sns\n",
      "except Exception as e:\n",
      "    print \"Attempt to import and enable seaborn failed\", e"
     ],
     "language": "python",
     "metadata": {},
     "outputs": []
    },
    {
     "cell_type": "code",
     "collapsed": false,
     "input": [],
     "language": "python",
     "metadata": {},
     "outputs": []
    },
    {
     "cell_type": "markdown",
     "metadata": {},
     "source": [
      "<h1 style=\"font-size:20px;line-height:0px;margin-bottom:10px;text-transform:uppercase;color:#3376A3\">2 / Loading and Cleaning Data</h1>"
     ]
    },
    {
     "cell_type": "markdown",
     "metadata": {},
     "source": [
      "<h2 style=\"font-size:15px; line-height:0px\">Companies</h2><hr style=\"line-height:0px;margin-bottom:-10px\"/>"
     ]
    },
    {
     "cell_type": "code",
     "collapsed": false,
     "input": [
      "# Loading All companies dataset\n",
      "all_companies = pd.read_csv('crunchbase_monthly_export_companies.csv')\n",
      "#cleanup NaN cells\n",
      "all_companies = all_companies.fillna(0)"
     ],
     "language": "python",
     "metadata": {},
     "outputs": []
    },
    {
     "cell_type": "markdown",
     "metadata": {},
     "source": [
      "<h2 style=\"font-size:15px; line-height:0px\">Acquisitions</h2><hr style=\"line-height:0px;margin-bottom:-10px\"/>"
     ]
    },
    {
     "cell_type": "code",
     "collapsed": false,
     "input": [
      "# Loading Acquired companies dataset\n",
      "acquired_companies = pd.read_csv('crunchbase_monthly_export_acquisitions.csv')\n",
      "acquired_companies = acquired_companies.fillna(0)\n",
      "acquired_companies['price_amount'] = acquired_companies[' price_amount ']\n",
      "\n",
      "#Exploring companies which are aquired/ipo (successful extit)\n",
      "exited_companies = all_companies[all_companies['status'].isin(['acquired','ipo'])].fillna(0)\n",
      "\n",
      "\n",
      "# len(all_companies) #54294  \n",
      "# len(acquired_companies) # 10114  \n",
      "# len(exited_companies) #3556 \n",
      "\n",
      "# Q. Why inconsistency between aquired and exited companies? Shouldn't exited = acquired + ipo?\n",
      "# Need to look into it\n"
     ],
     "language": "python",
     "metadata": {},
     "outputs": []
    },
    {
     "cell_type": "markdown",
     "metadata": {},
     "source": [
      "<h2 style=\"font-size:15px; line-height:0px\">Investments</h2><hr style=\"line-height:0px;margin-bottom:-10px\"/>"
     ]
    },
    {
     "cell_type": "code",
     "collapsed": false,
     "input": [],
     "language": "python",
     "metadata": {},
     "outputs": []
    },
    {
     "cell_type": "markdown",
     "metadata": {},
     "source": [
      "<br>/////////////////////////////////////////////////////////////////////////////////////////////////////////////////////////////////////////////////////////////////////////////////////////////////////////////////////////////////<br><br>"
     ]
    },
    {
     "cell_type": "markdown",
     "metadata": {},
     "source": [
      "<h1 style=\"font-size:20px;line-height:0px;margin-bottom:10px;text-transform:uppercase;color:#3376A3\">3 / What's In the Dataset?</h1>"
     ]
    },
    {
     "cell_type": "markdown",
     "metadata": {},
     "source": [
      "<h2 style=\"font-size:15px; line-height:0px\">Acquisitions</h2><hr style=\"line-height:0px;margin-bottom:-10px\"/>"
     ]
    },
    {
     "cell_type": "markdown",
     "metadata": {},
     "source": [
      "Sample Aquisitions data"
     ]
    },
    {
     "cell_type": "code",
     "collapsed": false,
     "input": [
      "acquired_companies.head(10)"
     ],
     "language": "python",
     "metadata": {},
     "outputs": []
    },
    {
     "cell_type": "markdown",
     "metadata": {},
     "source": [
      "Length of dataset (number)"
     ]
    },
    {
     "cell_type": "code",
     "collapsed": false,
     "input": [
      "len(acquired_companies) # 10114  "
     ],
     "language": "python",
     "metadata": {},
     "outputs": []
    },
    {
     "cell_type": "markdown",
     "metadata": {},
     "source": [
      "Acquisitions over time ( y = count, x = acquired_year)"
     ]
    },
    {
     "cell_type": "code",
     "collapsed": false,
     "input": [],
     "language": "python",
     "metadata": {},
     "outputs": []
    },
    {
     "cell_type": "markdown",
     "metadata": {},
     "source": [
      "Histogram for # of employees (x=number of employees, y = count of acquisitions)"
     ]
    },
    {
     "cell_type": "code",
     "collapsed": false,
     "input": [],
     "language": "python",
     "metadata": {},
     "outputs": []
    },
    {
     "cell_type": "markdown",
     "metadata": {},
     "source": [
      "How many of the acquisitions have pricing data available to us? Pie chart of yes/no"
     ]
    },
    {
     "cell_type": "code",
     "collapsed": false,
     "input": [],
     "language": "python",
     "metadata": {},
     "outputs": []
    },
    {
     "cell_type": "markdown",
     "metadata": {},
     "source": [
      "<h2 style=\"font-size:15px; line-height:0px\">Companies</h2><hr style=\"line-height:0px;margin-bottom:-10px\"/>"
     ]
    },
    {
     "cell_type": "markdown",
     "metadata": {},
     "source": [
      "Length of dataset (number)"
     ]
    },
    {
     "cell_type": "code",
     "collapsed": false,
     "input": [],
     "language": "python",
     "metadata": {},
     "outputs": []
    },
    {
     "cell_type": "markdown",
     "metadata": {},
     "source": [
      "Active vs. not active (pie chart where x = active status, y = count of companies)"
     ]
    },
    {
     "cell_type": "code",
     "collapsed": false,
     "input": [],
     "language": "python",
     "metadata": {},
     "outputs": []
    },
    {
     "cell_type": "markdown",
     "metadata": {},
     "source": [
      "Histogram for # of employees (x=number of employees, y = count of companies"
     ]
    },
    {
     "cell_type": "code",
     "collapsed": false,
     "input": [],
     "language": "python",
     "metadata": {},
     "outputs": []
    },
    {
     "cell_type": "markdown",
     "metadata": {},
     "source": [
      "<h2 style=\"font-size:15px; line-height:0px\">Investments</h2><hr style=\"line-height:0px;margin-bottom:-10px\"/>"
     ]
    },
    {
     "cell_type": "markdown",
     "metadata": {},
     "source": [
      "Length of dataset (number)"
     ]
    },
    {
     "cell_type": "code",
     "collapsed": false,
     "input": [],
     "language": "python",
     "metadata": {},
     "outputs": []
    },
    {
     "cell_type": "markdown",
     "metadata": {},
     "source": [
      "Funding events over time (y = count, x = funding_date)"
     ]
    },
    {
     "cell_type": "code",
     "collapsed": false,
     "input": [],
     "language": "python",
     "metadata": {},
     "outputs": []
    },
    {
     "cell_type": "markdown",
     "metadata": {},
     "source": [
      "Investments by stage (funding_round in investments.csv) pie chart"
     ]
    },
    {
     "cell_type": "code",
     "collapsed": false,
     "input": [],
     "language": "python",
     "metadata": {},
     "outputs": []
    },
    {
     "cell_type": "markdown",
     "metadata": {},
     "source": [
      "<br>/////////////////////////////////////////////////////////////////////////////////////////////////////////////////////////////////////////////////////////////////////////////////////////////////////////////////////////////////<br><br>"
     ]
    },
    {
     "cell_type": "markdown",
     "metadata": {},
     "source": [
      "<h1 style=\"font-size:20px;line-height:0px;margin-bottom:10px;text-transform:uppercase;color:#3376A3\">4 / Location</h1>"
     ]
    },
    {
     "cell_type": "markdown",
     "metadata": {},
     "source": [
      "Top states for acquisitions (x = state, y = count of acquisitions, limit = 10, bar)"
     ]
    },
    {
     "cell_type": "code",
     "collapsed": false,
     "input": [
      "#Top 10 states for doing startups\n",
      "\n",
      "grpby_state = acquired_companies.groupby('company_state_code').count()\n",
      "grpby_state.sort('company_state_code',ascending=False).head(10)[1:].plot(legend=False,title=\"Top 10 states for doing startups\", kind = \"bar\")\n",
      "\n",
      "#State '0' ---> the companies without any state in the database"
     ],
     "language": "python",
     "metadata": {},
     "outputs": []
    },
    {
     "cell_type": "markdown",
     "metadata": {},
     "source": [
      "Top cities for acquisitions (x = city, y = count of acquisitions, limit = 10, bar)"
     ]
    },
    {
     "cell_type": "code",
     "collapsed": false,
     "input": [
      "#Top 10 cities for doing startups\n",
      "\n",
      "grpby_city = acquired_companies.groupby('company_city').count()\n",
      "grpby_city.sort('company_city',ascending=False).head(10)[1:].plot(legend=False,title=\"Top 10 cities for doing startups\", kind=\"bar\")\n",
      "plt.xticks(rotation=45)\n",
      "#City '0' ---> the companies without any city in the database. Eliminated"
     ],
     "language": "python",
     "metadata": {},
     "outputs": []
    },
    {
     "cell_type": "markdown",
     "metadata": {},
     "source": [
      "Top cities for funding amount (x = city, y = amount of funding, limit = 10, bar)"
     ]
    },
    {
     "cell_type": "code",
     "collapsed": false,
     "input": [],
     "language": "python",
     "metadata": {},
     "outputs": []
    },
    {
     "cell_type": "markdown",
     "metadata": {},
     "source": [
      "Map visualization (if we have time)"
     ]
    },
    {
     "cell_type": "code",
     "collapsed": false,
     "input": [],
     "language": "python",
     "metadata": {},
     "outputs": []
    },
    {
     "cell_type": "markdown",
     "metadata": {},
     "source": [
      "<br>/////////////////////////////////////////////////////////////////////////////////////////////////////////////////////////////////////////////////////////////////////////////////////////////////////////////////////////////////<br><br>"
     ]
    },
    {
     "cell_type": "markdown",
     "metadata": {},
     "source": [
      "<h1 style=\"font-size:20px;line-height:0px;margin-bottom:10px;text-transform:uppercase;color:#3376A3\">4 / Category</h1>"
     ]
    },
    {
     "cell_type": "markdown",
     "metadata": {},
     "source": [
      "Top categories for acquisitions (x = category, y = count of acquisitions, limit = 20, bar)"
     ]
    },
    {
     "cell_type": "code",
     "collapsed": false,
     "input": [],
     "language": "python",
     "metadata": {},
     "outputs": []
    },
    {
     "cell_type": "markdown",
     "metadata": {},
     "source": [
      "Total funding by category (top 10-20) and year (x = years, y = amount of funding, stacked bar chart)"
     ]
    },
    {
     "cell_type": "code",
     "collapsed": false,
     "input": [],
     "language": "python",
     "metadata": {},
     "outputs": []
    },
    {
     "cell_type": "markdown",
     "metadata": {},
     "source": [
      "Number of acquisitions/exit by acquired company category (top 10-20) and year (x = years, y = count of acquisitions, stacked bar chart)"
     ]
    },
    {
     "cell_type": "code",
     "collapsed": false,
     "input": [],
     "language": "python",
     "metadata": {},
     "outputs": []
    },
    {
     "cell_type": "markdown",
     "metadata": {},
     "source": [
      "Comparison of 2 categories over time (line chart, x = year, y = total funding for all events for companies in that category, two lines 1 for each)"
     ]
    },
    {
     "cell_type": "code",
     "collapsed": false,
     "input": [],
     "language": "python",
     "metadata": {},
     "outputs": []
    },
    {
     "cell_type": "markdown",
     "metadata": {},
     "source": [
      "Comparison of 2 categories over time (bar chart, x = year, y = total # of exits in that category, two bars for each year)"
     ]
    },
    {
     "cell_type": "code",
     "collapsed": false,
     "input": [],
     "language": "python",
     "metadata": {},
     "outputs": []
    },
    {
     "cell_type": "markdown",
     "metadata": {},
     "source": [
      "Are companies acquiring in the same category or not? 2 lines in the chart, x = year, y = count of acquisitions where they have the same category, count where they are different"
     ]
    },
    {
     "cell_type": "code",
     "collapsed": false,
     "input": [],
     "language": "python",
     "metadata": {},
     "outputs": []
    },
    {
     "cell_type": "markdown",
     "metadata": {},
     "source": [
      "<br>/////////////////////////////////////////////////////////////////////////////////////////////////////////////////////////////////////////////////////////////////////////////////////////////////////////////////////////////////<br><br>"
     ]
    },
    {
     "cell_type": "markdown",
     "metadata": {},
     "source": [
      "<h1 style=\"font-size:20px;line-height:0px;margin-bottom:10px;text-transform:uppercase;color:#3376A3\">5 / Conclusions</h1>"
     ]
    },
    {
     "cell_type": "markdown",
     "metadata": {},
     "source": [
      "Blahblahblah"
     ]
    }
   ],
   "metadata": {}
  }
 ]
}